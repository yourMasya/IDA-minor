{
 "cells": [
  {
   "cell_type": "markdown",
   "metadata": {
    "id": "xrvOD02o3HvH"
   },
   "source": [
    "# Домашнее задание 6: классификация текстов"
   ]
  },
  {
   "cell_type": "markdown",
   "metadata": {
    "id": "sxwj_Iie3HvJ"
   },
   "source": [
    "В этом домашнем задании вам предстоит построить классификатор текстов!\n",
    "\n",
    "Данные мы будем использовать из Kaggle соревнования: https://www.kaggle.com/competitions/nlp-getting-started/data \n",
    "\n",
    "\n",
    "Оттуда надо скачать файл train.csv. На обучающую и тестовую выборки его поделим кодом ниже, менять его не надо!"
   ]
  },
  {
   "cell_type": "markdown",
   "metadata": {
    "id": "qQVgqLg93HvJ"
   },
   "source": [
    "Мы будем работать с датасетом постов из твиттера. Нам предстоит решать задачу бинарной классификации - определять содержатся ли в твитте информация о настоящей катастрофе/инциденте или нет."
   ]
  },
  {
   "cell_type": "code",
   "execution_count": 219,
   "metadata": {
    "id": "TcjEYh7R3HvK"
   },
   "outputs": [],
   "source": [
    "import numpy as np\n",
    "import pandas as pd\n",
    "import re\n",
    "from typing import  List\n",
    "import matplotlib.pyplot as plt\n",
    "import seaborn as sns\n",
    "from string import punctuation\n",
    "import warnings"
   ]
  },
  {
   "cell_type": "code",
   "execution_count": 220,
   "metadata": {},
   "outputs": [],
   "source": [
    "warnings.filterwarnings('ignore')"
   ]
  },
  {
   "cell_type": "code",
   "execution_count": 221,
   "metadata": {
    "id": "mjwffGiB3HvK"
   },
   "outputs": [],
   "source": [
    "df = pd.read_csv('train.csv')"
   ]
  },
  {
   "cell_type": "code",
   "execution_count": 222,
   "metadata": {
    "colab": {
     "base_uri": "https://localhost:8080/",
     "height": 206
    },
    "id": "v0uUoFTN3HvK",
    "outputId": "0d37d677-a00d-449c-8f86-6f85dce2ef4a"
   },
   "outputs": [
    {
     "data": {
      "text/html": [
       "<div>\n",
       "<style scoped>\n",
       "    .dataframe tbody tr th:only-of-type {\n",
       "        vertical-align: middle;\n",
       "    }\n",
       "\n",
       "    .dataframe tbody tr th {\n",
       "        vertical-align: top;\n",
       "    }\n",
       "\n",
       "    .dataframe thead th {\n",
       "        text-align: right;\n",
       "    }\n",
       "</style>\n",
       "<table border=\"1\" class=\"dataframe\">\n",
       "  <thead>\n",
       "    <tr style=\"text-align: right;\">\n",
       "      <th></th>\n",
       "      <th>id</th>\n",
       "      <th>keyword</th>\n",
       "      <th>location</th>\n",
       "      <th>text</th>\n",
       "      <th>target</th>\n",
       "    </tr>\n",
       "  </thead>\n",
       "  <tbody>\n",
       "    <tr>\n",
       "      <th>0</th>\n",
       "      <td>1</td>\n",
       "      <td>NaN</td>\n",
       "      <td>NaN</td>\n",
       "      <td>Our Deeds are the Reason of this #earthquake M...</td>\n",
       "      <td>1</td>\n",
       "    </tr>\n",
       "    <tr>\n",
       "      <th>1</th>\n",
       "      <td>4</td>\n",
       "      <td>NaN</td>\n",
       "      <td>NaN</td>\n",
       "      <td>Forest fire near La Ronge Sask. Canada</td>\n",
       "      <td>1</td>\n",
       "    </tr>\n",
       "    <tr>\n",
       "      <th>2</th>\n",
       "      <td>5</td>\n",
       "      <td>NaN</td>\n",
       "      <td>NaN</td>\n",
       "      <td>All residents asked to 'shelter in place' are ...</td>\n",
       "      <td>1</td>\n",
       "    </tr>\n",
       "    <tr>\n",
       "      <th>3</th>\n",
       "      <td>6</td>\n",
       "      <td>NaN</td>\n",
       "      <td>NaN</td>\n",
       "      <td>13,000 people receive #wildfires evacuation or...</td>\n",
       "      <td>1</td>\n",
       "    </tr>\n",
       "    <tr>\n",
       "      <th>4</th>\n",
       "      <td>7</td>\n",
       "      <td>NaN</td>\n",
       "      <td>NaN</td>\n",
       "      <td>Just got sent this photo from Ruby #Alaska as ...</td>\n",
       "      <td>1</td>\n",
       "    </tr>\n",
       "    <tr>\n",
       "      <th>5</th>\n",
       "      <td>8</td>\n",
       "      <td>NaN</td>\n",
       "      <td>NaN</td>\n",
       "      <td>#RockyFire Update =&gt; California Hwy. 20 closed...</td>\n",
       "      <td>1</td>\n",
       "    </tr>\n",
       "    <tr>\n",
       "      <th>6</th>\n",
       "      <td>10</td>\n",
       "      <td>NaN</td>\n",
       "      <td>NaN</td>\n",
       "      <td>#flood #disaster Heavy rain causes flash flood...</td>\n",
       "      <td>1</td>\n",
       "    </tr>\n",
       "    <tr>\n",
       "      <th>7</th>\n",
       "      <td>13</td>\n",
       "      <td>NaN</td>\n",
       "      <td>NaN</td>\n",
       "      <td>I'm on top of the hill and I can see a fire in...</td>\n",
       "      <td>1</td>\n",
       "    </tr>\n",
       "    <tr>\n",
       "      <th>8</th>\n",
       "      <td>14</td>\n",
       "      <td>NaN</td>\n",
       "      <td>NaN</td>\n",
       "      <td>There's an emergency evacuation happening now ...</td>\n",
       "      <td>1</td>\n",
       "    </tr>\n",
       "    <tr>\n",
       "      <th>9</th>\n",
       "      <td>15</td>\n",
       "      <td>NaN</td>\n",
       "      <td>NaN</td>\n",
       "      <td>I'm afraid that the tornado is coming to our a...</td>\n",
       "      <td>1</td>\n",
       "    </tr>\n",
       "    <tr>\n",
       "      <th>10</th>\n",
       "      <td>16</td>\n",
       "      <td>NaN</td>\n",
       "      <td>NaN</td>\n",
       "      <td>Three people died from the heat wave so far</td>\n",
       "      <td>1</td>\n",
       "    </tr>\n",
       "    <tr>\n",
       "      <th>11</th>\n",
       "      <td>17</td>\n",
       "      <td>NaN</td>\n",
       "      <td>NaN</td>\n",
       "      <td>Haha South Tampa is getting flooded hah- WAIT ...</td>\n",
       "      <td>1</td>\n",
       "    </tr>\n",
       "    <tr>\n",
       "      <th>12</th>\n",
       "      <td>18</td>\n",
       "      <td>NaN</td>\n",
       "      <td>NaN</td>\n",
       "      <td>#raining #flooding #Florida #TampaBay #Tampa 1...</td>\n",
       "      <td>1</td>\n",
       "    </tr>\n",
       "    <tr>\n",
       "      <th>13</th>\n",
       "      <td>19</td>\n",
       "      <td>NaN</td>\n",
       "      <td>NaN</td>\n",
       "      <td>#Flood in Bago Myanmar #We arrived Bago</td>\n",
       "      <td>1</td>\n",
       "    </tr>\n",
       "    <tr>\n",
       "      <th>14</th>\n",
       "      <td>20</td>\n",
       "      <td>NaN</td>\n",
       "      <td>NaN</td>\n",
       "      <td>Damage to school bus on 80 in multi car crash ...</td>\n",
       "      <td>1</td>\n",
       "    </tr>\n",
       "    <tr>\n",
       "      <th>15</th>\n",
       "      <td>23</td>\n",
       "      <td>NaN</td>\n",
       "      <td>NaN</td>\n",
       "      <td>What's up man?</td>\n",
       "      <td>0</td>\n",
       "    </tr>\n",
       "    <tr>\n",
       "      <th>16</th>\n",
       "      <td>24</td>\n",
       "      <td>NaN</td>\n",
       "      <td>NaN</td>\n",
       "      <td>I love fruits</td>\n",
       "      <td>0</td>\n",
       "    </tr>\n",
       "    <tr>\n",
       "      <th>17</th>\n",
       "      <td>25</td>\n",
       "      <td>NaN</td>\n",
       "      <td>NaN</td>\n",
       "      <td>Summer is lovely</td>\n",
       "      <td>0</td>\n",
       "    </tr>\n",
       "    <tr>\n",
       "      <th>18</th>\n",
       "      <td>26</td>\n",
       "      <td>NaN</td>\n",
       "      <td>NaN</td>\n",
       "      <td>My car is so fast</td>\n",
       "      <td>0</td>\n",
       "    </tr>\n",
       "    <tr>\n",
       "      <th>19</th>\n",
       "      <td>28</td>\n",
       "      <td>NaN</td>\n",
       "      <td>NaN</td>\n",
       "      <td>What a goooooooaaaaaal!!!!!!</td>\n",
       "      <td>0</td>\n",
       "    </tr>\n",
       "  </tbody>\n",
       "</table>\n",
       "</div>"
      ],
      "text/plain": [
       "    id keyword location                                               text  \\\n",
       "0    1     NaN      NaN  Our Deeds are the Reason of this #earthquake M...   \n",
       "1    4     NaN      NaN             Forest fire near La Ronge Sask. Canada   \n",
       "2    5     NaN      NaN  All residents asked to 'shelter in place' are ...   \n",
       "3    6     NaN      NaN  13,000 people receive #wildfires evacuation or...   \n",
       "4    7     NaN      NaN  Just got sent this photo from Ruby #Alaska as ...   \n",
       "5    8     NaN      NaN  #RockyFire Update => California Hwy. 20 closed...   \n",
       "6   10     NaN      NaN  #flood #disaster Heavy rain causes flash flood...   \n",
       "7   13     NaN      NaN  I'm on top of the hill and I can see a fire in...   \n",
       "8   14     NaN      NaN  There's an emergency evacuation happening now ...   \n",
       "9   15     NaN      NaN  I'm afraid that the tornado is coming to our a...   \n",
       "10  16     NaN      NaN        Three people died from the heat wave so far   \n",
       "11  17     NaN      NaN  Haha South Tampa is getting flooded hah- WAIT ...   \n",
       "12  18     NaN      NaN  #raining #flooding #Florida #TampaBay #Tampa 1...   \n",
       "13  19     NaN      NaN            #Flood in Bago Myanmar #We arrived Bago   \n",
       "14  20     NaN      NaN  Damage to school bus on 80 in multi car crash ...   \n",
       "15  23     NaN      NaN                                     What's up man?   \n",
       "16  24     NaN      NaN                                      I love fruits   \n",
       "17  25     NaN      NaN                                   Summer is lovely   \n",
       "18  26     NaN      NaN                                  My car is so fast   \n",
       "19  28     NaN      NaN                       What a goooooooaaaaaal!!!!!!   \n",
       "\n",
       "    target  \n",
       "0        1  \n",
       "1        1  \n",
       "2        1  \n",
       "3        1  \n",
       "4        1  \n",
       "5        1  \n",
       "6        1  \n",
       "7        1  \n",
       "8        1  \n",
       "9        1  \n",
       "10       1  \n",
       "11       1  \n",
       "12       1  \n",
       "13       1  \n",
       "14       1  \n",
       "15       0  \n",
       "16       0  \n",
       "17       0  \n",
       "18       0  \n",
       "19       0  "
      ]
     },
     "execution_count": 222,
     "metadata": {},
     "output_type": "execute_result"
    }
   ],
   "source": [
    "df.head(20)"
   ]
  },
  {
   "cell_type": "code",
   "execution_count": 223,
   "metadata": {
    "id": "f49NdWY23HvL"
   },
   "outputs": [],
   "source": [
    "from sklearn.model_selection import train_test_split\n",
    "\n",
    "train, test = train_test_split(df, test_size=0.3, random_state=42)"
   ]
  },
  {
   "cell_type": "markdown",
   "metadata": {
    "id": "YlLemInT3HvL"
   },
   "source": [
    "## Задание 1 (0.5 балла)\n",
    "\n",
    "Выведете на экран информацию о пропусках в данных. Если пропуски присутствуют заполните их пустой строкой."
   ]
  },
  {
   "cell_type": "code",
   "execution_count": 224,
   "metadata": {
    "id": "96aJxmkV4105"
   },
   "outputs": [
    {
     "data": {
      "text/plain": [
       "id             0\n",
       "keyword       61\n",
       "location    2533\n",
       "text           0\n",
       "target         0\n",
       "dtype: int64"
      ]
     },
     "execution_count": 224,
     "metadata": {},
     "output_type": "execute_result"
    }
   ],
   "source": [
    "df.isna().sum()"
   ]
  },
  {
   "cell_type": "code",
   "execution_count": 225,
   "metadata": {},
   "outputs": [],
   "source": [
    "train.fillna('', inplace=True)\n",
    "test.fillna('', inplace=True)"
   ]
  },
  {
   "cell_type": "markdown",
   "metadata": {
    "id": "A8CPBUal3HvL"
   },
   "source": [
    "## Задание 2 (1 балл)\n",
    "Давайте немного посмотрим на наши данные. Визуализируйте (где явно просят) или выведете информацию о следующем:\n",
    "\n",
    "1. Какое распределение классов в обучающей выборке?\n"
   ]
  },
  {
   "cell_type": "code",
   "execution_count": 226,
   "metadata": {
    "id": "WvJ_EU9o5BGm"
   },
   "outputs": [
    {
     "data": {
      "image/png": "[encoded data removed]",
      "text/plain": [
       "<Figure size 640x480 with 1 Axes>"
      ]
     },
     "metadata": {},
     "output_type": "display_data"
    }
   ],
   "source": [
    "ax = sns.countplot(x=train.target)\n",
    "ax.set_title('Class Distribution')\n",
    "sns.set_style('whitegrid')\n",
    "\n",
    "for i in ax.patches:\n",
    "    ax.annotate('%1.0f' %(i.get_height()), (i.get_x()+0.33, i.get_height()+50))"
   ]
  },
  {
   "cell_type": "markdown",
   "metadata": {
    "id": "f08KScbP5q2y"
   },
   "source": [
    "2. Посмотрите на колонку \"keyword\" - возьмите 10 наиболее встречающихся значений, постройте ступенчатую диаграмму распределения классов в зависимости от значения keyword, сделайте выводы."
   ]
  },
  {
   "cell_type": "code",
   "execution_count": 227,
   "metadata": {},
   "outputs": [
    {
     "data": {
      "text/html": [
       "<div>\n",
       "<style scoped>\n",
       "    .dataframe tbody tr th:only-of-type {\n",
       "        vertical-align: middle;\n",
       "    }\n",
       "\n",
       "    .dataframe tbody tr th {\n",
       "        vertical-align: top;\n",
       "    }\n",
       "\n",
       "    .dataframe thead th {\n",
       "        text-align: right;\n",
       "    }\n",
       "</style>\n",
       "<table border=\"1\" class=\"dataframe\">\n",
       "  <thead>\n",
       "    <tr style=\"text-align: right;\">\n",
       "      <th></th>\n",
       "      <th>id</th>\n",
       "      <th>target</th>\n",
       "    </tr>\n",
       "    <tr>\n",
       "      <th>keyword</th>\n",
       "      <th></th>\n",
       "      <th></th>\n",
       "    </tr>\n",
       "  </thead>\n",
       "  <tbody>\n",
       "    <tr>\n",
       "      <th>twister</th>\n",
       "      <td>10033.333333</td>\n",
       "      <td>0.100000</td>\n",
       "    </tr>\n",
       "    <tr>\n",
       "      <th>siren</th>\n",
       "      <td>8766.628571</td>\n",
       "      <td>0.114286</td>\n",
       "    </tr>\n",
       "    <tr>\n",
       "      <th>harm</th>\n",
       "      <td>5907.200000</td>\n",
       "      <td>0.133333</td>\n",
       "    </tr>\n",
       "    <tr>\n",
       "      <th>deluge</th>\n",
       "      <td>3177.774194</td>\n",
       "      <td>0.161290</td>\n",
       "    </tr>\n",
       "    <tr>\n",
       "      <th>fatality</th>\n",
       "      <td>5236.100000</td>\n",
       "      <td>0.266667</td>\n",
       "    </tr>\n",
       "    <tr>\n",
       "      <th>emergency</th>\n",
       "      <td>4524.533333</td>\n",
       "      <td>0.366667</td>\n",
       "    </tr>\n",
       "    <tr>\n",
       "      <th>nuclear%20reactor</th>\n",
       "      <td>7320.666667</td>\n",
       "      <td>0.400000</td>\n",
       "    </tr>\n",
       "    <tr>\n",
       "      <th>damage</th>\n",
       "      <td>2875.333333</td>\n",
       "      <td>0.472222</td>\n",
       "    </tr>\n",
       "    <tr>\n",
       "      <th>fatalities</th>\n",
       "      <td>5188.303030</td>\n",
       "      <td>0.484848</td>\n",
       "    </tr>\n",
       "    <tr>\n",
       "      <th>wreckage</th>\n",
       "      <td>10759.264706</td>\n",
       "      <td>1.000000</td>\n",
       "    </tr>\n",
       "  </tbody>\n",
       "</table>\n",
       "</div>"
      ],
      "text/plain": [
       "                             id    target\n",
       "keyword                                  \n",
       "twister            10033.333333  0.100000\n",
       "siren               8766.628571  0.114286\n",
       "harm                5907.200000  0.133333\n",
       "deluge              3177.774194  0.161290\n",
       "fatality            5236.100000  0.266667\n",
       "emergency           4524.533333  0.366667\n",
       "nuclear%20reactor   7320.666667  0.400000\n",
       "damage              2875.333333  0.472222\n",
       "fatalities          5188.303030  0.484848\n",
       "wreckage           10759.264706  1.000000"
      ]
     },
     "execution_count": 227,
     "metadata": {},
     "output_type": "execute_result"
    }
   ],
   "source": [
    "train_filtered = train[train.keyword != '']\n",
    "popular_keywords = train_filtered.keyword.value_counts()[:10].index.tolist()\n",
    "top_keywords = train_filtered[train_filtered.keyword.isin(popular_keywords)]\n",
    "keyw_class = top_keywords.groupby(['keyword']).mean().sort_values(by=['target'])\n",
    "keyw_class"
   ]
  },
  {
   "cell_type": "code",
   "execution_count": 228,
   "metadata": {
    "colab": {
     "base_uri": "https://localhost:8080/",
     "height": 372
    },
    "id": "r9wSwm4L9REm",
    "outputId": "3c6827d4-d35f-47ac-c756-6ab4740ed0b9"
   },
   "outputs": [
    {
     "data": {
      "image/png": "[encoded data removed]",
      "text/plain": [
       "<Figure size 1400x700 with 1 Axes>"
      ]
     },
     "metadata": {},
     "output_type": "display_data"
    }
   ],
   "source": [
    "plt.figure(figsize=(14, 7))\n",
    "plt.step(keyw_class.index, keyw_class.target)\n",
    "plt.axhline(y=0.5, linestyle=':', color='green')\n",
    "plt.title('Step diagram of class distribution')\n",
    "plt.show()"
   ]
  },
  {
   "cell_type": "markdown",
   "metadata": {
    "id": "l4al3g9E-P09"
   },
   "source": [
    "**Выводы**: Положительный класс превалирует только у wreckage, остальные значения keyword чаще имеют 0-класс (твиты свидетельствуют о НЕнастоящей катастрофе)."
   ]
  },
  {
   "cell_type": "markdown",
   "metadata": {
    "id": "c006nNBP3HvM"
   },
   "source": [
    "## Задание 3 (0.5 балла) \n",
    "\n",
    "В этом задании предлагается объединить все три текстовых столбца в один (просто сконкатенировать cтроки) и убрать столбец с индексом."
   ]
  },
  {
   "cell_type": "code",
   "execution_count": 229,
   "metadata": {
    "colab": {
     "base_uri": "https://localhost:8080/",
     "height": 143
    },
    "id": "GdF9gFmL-c0r",
    "outputId": "ebe008b7-4d0e-4bc2-89f3-60a575c1b1fd"
   },
   "outputs": [
    {
     "data": {
      "text/html": [
       "<div>\n",
       "<style scoped>\n",
       "    .dataframe tbody tr th:only-of-type {\n",
       "        vertical-align: middle;\n",
       "    }\n",
       "\n",
       "    .dataframe tbody tr th {\n",
       "        vertical-align: top;\n",
       "    }\n",
       "\n",
       "    .dataframe thead th {\n",
       "        text-align: right;\n",
       "    }\n",
       "</style>\n",
       "<table border=\"1\" class=\"dataframe\">\n",
       "  <thead>\n",
       "    <tr style=\"text-align: right;\">\n",
       "      <th></th>\n",
       "      <th>id</th>\n",
       "      <th>keyword</th>\n",
       "      <th>location</th>\n",
       "      <th>text</th>\n",
       "      <th>target</th>\n",
       "    </tr>\n",
       "  </thead>\n",
       "  <tbody>\n",
       "    <tr>\n",
       "      <th>6590</th>\n",
       "      <td>9436</td>\n",
       "      <td>survivors</td>\n",
       "      <td>Marietta, GA</td>\n",
       "      <td>Stemming from my #Cubs talk- the team rosters ...</td>\n",
       "      <td>1</td>\n",
       "    </tr>\n",
       "    <tr>\n",
       "      <th>7122</th>\n",
       "      <td>10203</td>\n",
       "      <td>violent%20storm</td>\n",
       "      <td></td>\n",
       "      <td>If you were the NWS wth a rotating storm w/ a ...</td>\n",
       "      <td>1</td>\n",
       "    </tr>\n",
       "    <tr>\n",
       "      <th>2769</th>\n",
       "      <td>3980</td>\n",
       "      <td>devastation</td>\n",
       "      <td>Atlanta g.a.</td>\n",
       "      <td>http://t.co/Gxgm1T3W0J From Devastation to Ela...</td>\n",
       "      <td>0</td>\n",
       "    </tr>\n",
       "  </tbody>\n",
       "</table>\n",
       "</div>"
      ],
      "text/plain": [
       "         id          keyword      location  \\\n",
       "6590   9436        survivors  Marietta, GA   \n",
       "7122  10203  violent%20storm                 \n",
       "2769   3980      devastation  Atlanta g.a.   \n",
       "\n",
       "                                                   text  target  \n",
       "6590  Stemming from my #Cubs talk- the team rosters ...       1  \n",
       "7122  If you were the NWS wth a rotating storm w/ a ...       1  \n",
       "2769  http://t.co/Gxgm1T3W0J From Devastation to Ela...       0  "
      ]
     },
     "execution_count": 229,
     "metadata": {},
     "output_type": "execute_result"
    }
   ],
   "source": [
    "train.loc[[6590, 7122, 2769]]"
   ]
  },
  {
   "cell_type": "code",
   "execution_count": 230,
   "metadata": {
    "id": "lwwJKX_l-eoh"
   },
   "outputs": [
    {
     "data": {
      "text/html": [
       "<div>\n",
       "<style scoped>\n",
       "    .dataframe tbody tr th:only-of-type {\n",
       "        vertical-align: middle;\n",
       "    }\n",
       "\n",
       "    .dataframe tbody tr th {\n",
       "        vertical-align: top;\n",
       "    }\n",
       "\n",
       "    .dataframe thead th {\n",
       "        text-align: right;\n",
       "    }\n",
       "</style>\n",
       "<table border=\"1\" class=\"dataframe\">\n",
       "  <thead>\n",
       "    <tr style=\"text-align: right;\">\n",
       "      <th></th>\n",
       "      <th>target</th>\n",
       "      <th>data</th>\n",
       "    </tr>\n",
       "  </thead>\n",
       "  <tbody>\n",
       "    <tr>\n",
       "      <th>1186</th>\n",
       "      <td>0</td>\n",
       "      <td>bridge%20collapse; ; Ashes 2015: AustraliaÛªs...</td>\n",
       "    </tr>\n",
       "    <tr>\n",
       "      <th>4071</th>\n",
       "      <td>1</td>\n",
       "      <td>hail; Carol Stream, Illinois; GREAT MICHIGAN T...</td>\n",
       "    </tr>\n",
       "    <tr>\n",
       "      <th>5461</th>\n",
       "      <td>1</td>\n",
       "      <td>police; Houston ; CNN: Tennessee movie theater...</td>\n",
       "    </tr>\n",
       "    <tr>\n",
       "      <th>5787</th>\n",
       "      <td>1</td>\n",
       "      <td>rioting; ; Still rioting in a couple of hours ...</td>\n",
       "    </tr>\n",
       "    <tr>\n",
       "      <th>7445</th>\n",
       "      <td>0</td>\n",
       "      <td>wounds; Lake Highlands; Crack in the path wher...</td>\n",
       "    </tr>\n",
       "    <tr>\n",
       "      <th>...</th>\n",
       "      <td>...</td>\n",
       "      <td>...</td>\n",
       "    </tr>\n",
       "    <tr>\n",
       "      <th>5226</th>\n",
       "      <td>0</td>\n",
       "      <td>obliteration; Merica!; @Eganator2000 There are...</td>\n",
       "    </tr>\n",
       "    <tr>\n",
       "      <th>5390</th>\n",
       "      <td>0</td>\n",
       "      <td>panic; ; just had a panic attack bc I don't ha...</td>\n",
       "    </tr>\n",
       "    <tr>\n",
       "      <th>860</th>\n",
       "      <td>0</td>\n",
       "      <td>blood; ; Omron HEM-712C Automatic Blood Pressu...</td>\n",
       "    </tr>\n",
       "    <tr>\n",
       "      <th>7603</th>\n",
       "      <td>1</td>\n",
       "      <td>; ; Officials say a quarantine is in place at ...</td>\n",
       "    </tr>\n",
       "    <tr>\n",
       "      <th>7270</th>\n",
       "      <td>1</td>\n",
       "      <td>whirlwind; Stamford &amp; Cork (&amp; Shropshire); I m...</td>\n",
       "    </tr>\n",
       "  </tbody>\n",
       "</table>\n",
       "<p>5329 rows × 2 columns</p>\n",
       "</div>"
      ],
      "text/plain": [
       "      target                                               data\n",
       "1186       0  bridge%20collapse; ; Ashes 2015: AustraliaÛªs...\n",
       "4071       1  hail; Carol Stream, Illinois; GREAT MICHIGAN T...\n",
       "5461       1  police; Houston ; CNN: Tennessee movie theater...\n",
       "5787       1  rioting; ; Still rioting in a couple of hours ...\n",
       "7445       0  wounds; Lake Highlands; Crack in the path wher...\n",
       "...      ...                                                ...\n",
       "5226       0  obliteration; Merica!; @Eganator2000 There are...\n",
       "5390       0  panic; ; just had a panic attack bc I don't ha...\n",
       "860        0  blood; ; Omron HEM-712C Automatic Blood Pressu...\n",
       "7603       1  ; ; Officials say a quarantine is in place at ...\n",
       "7270       1  whirlwind; Stamford & Cork (& Shropshire); I m...\n",
       "\n",
       "[5329 rows x 2 columns]"
      ]
     },
     "execution_count": 230,
     "metadata": {},
     "output_type": "execute_result"
    }
   ],
   "source": [
    "data_cols = ['keyword', 'location', 'text']\n",
    "\n",
    "train[data_cols] = train[data_cols].astype('str')\n",
    "test[data_cols] = test[data_cols].astype('str')\n",
    "\n",
    "train['data'] = train[data_cols].T.agg('; '.join)\n",
    "test['data'] = test[data_cols].T.agg('; '.join)\n",
    "\n",
    "data_cols += ['id']\n",
    "train.drop(data_cols, inplace=True, axis=1)\n",
    "test.drop(data_cols, inplace=True, axis=1)\n",
    "\n",
    "train"
   ]
  },
  {
   "cell_type": "code",
   "execution_count": 231,
   "metadata": {
    "colab": {
     "base_uri": "https://localhost:8080/",
     "height": 143
    },
    "id": "jk7P70XX_CpT",
    "outputId": "5cf01b29-8ada-46d7-f7ee-74e7aed37996"
   },
   "outputs": [
    {
     "data": {
      "text/html": [
       "<div>\n",
       "<style scoped>\n",
       "    .dataframe tbody tr th:only-of-type {\n",
       "        vertical-align: middle;\n",
       "    }\n",
       "\n",
       "    .dataframe tbody tr th {\n",
       "        vertical-align: top;\n",
       "    }\n",
       "\n",
       "    .dataframe thead th {\n",
       "        text-align: right;\n",
       "    }\n",
       "</style>\n",
       "<table border=\"1\" class=\"dataframe\">\n",
       "  <thead>\n",
       "    <tr style=\"text-align: right;\">\n",
       "      <th></th>\n",
       "      <th>target</th>\n",
       "      <th>data</th>\n",
       "    </tr>\n",
       "  </thead>\n",
       "  <tbody>\n",
       "    <tr>\n",
       "      <th>6590</th>\n",
       "      <td>1</td>\n",
       "      <td>survivors; Marietta, GA; Stemming from my #Cub...</td>\n",
       "    </tr>\n",
       "    <tr>\n",
       "      <th>7122</th>\n",
       "      <td>1</td>\n",
       "      <td>violent%20storm; ; If you were the NWS wth a r...</td>\n",
       "    </tr>\n",
       "    <tr>\n",
       "      <th>2769</th>\n",
       "      <td>0</td>\n",
       "      <td>devastation; Atlanta g.a.; http://t.co/Gxgm1T3...</td>\n",
       "    </tr>\n",
       "  </tbody>\n",
       "</table>\n",
       "</div>"
      ],
      "text/plain": [
       "      target                                               data\n",
       "6590       1  survivors; Marietta, GA; Stemming from my #Cub...\n",
       "7122       1  violent%20storm; ; If you were the NWS wth a r...\n",
       "2769       0  devastation; Atlanta g.a.; http://t.co/Gxgm1T3..."
      ]
     },
     "execution_count": 231,
     "metadata": {},
     "output_type": "execute_result"
    }
   ],
   "source": [
    "train.loc[[6590, 7122, 2769]]"
   ]
  },
  {
   "cell_type": "markdown",
   "metadata": {
    "id": "ViXdGTxP3HvM"
   },
   "source": [
    "## Задание 4 (0.5 балла)\n",
    "\n",
    "Далее мы будем пока работать только с train частью.\n",
    "\n",
    "1. Предобработайте данные (train часть) с помощью CountVectorizer.\n",
    "2. Какого размера получилась матрица?\n"
   ]
  },
  {
   "cell_type": "code",
   "execution_count": 232,
   "metadata": {
    "id": "oB1MTqUVAbPA"
   },
   "outputs": [
    {
     "data": {
      "text/plain": [
       "<5329x18455 sparse matrix of type '<class 'numpy.int64'>'\n",
       "\twith 86671 stored elements in Compressed Sparse Row format>"
      ]
     },
     "execution_count": 232,
     "metadata": {},
     "output_type": "execute_result"
    }
   ],
   "source": [
    "from sklearn.feature_extraction.text import CountVectorizer\n",
    "\n",
    "count_vec = CountVectorizer()\n",
    "X = count_vec.fit_transform(train.data)\n",
    "X"
   ]
  },
  {
   "cell_type": "code",
   "execution_count": 233,
   "metadata": {},
   "outputs": [
    {
     "name": "stdout",
     "output_type": "stream",
     "text": [
      "00; 000; 0000; 00cy9vxeff; 00end; 00pm; 01; 011072; 014213; 02; 022017; 02elqlopfk; 02pm; 03; 030; 033; 034; 039; 03l7nwqdje; 04; 047821; 05; 05th; 06; 060; 06jst; 07; 072013; 073izwx0lb; 08; 0802; 0853; 087809233445; 0880; 09; 0ajisa5531; 0blkwcupzq; 0btniwagt1; 0bvk5tub4j; 0c1y8g7e9p; 0dqjeretxu; 0drqlrsgy5; 0dxvz7fdh3; 0f8xa4ih1u; 0fekgyby5f; 0fs9ksv5xk; 0ghk693egj; 0gknpy4lua; 0h7oua1pns; 0iw6drf5x9; 0iyuntxduv; 0jmkdtcymj; 0keh2treny; 0l; 0la1aw9uud; 0lmheaex9k; 0m1tw3datd; 0mnpcer9no; 0npzp; 0pamznyyuw; 0r03c6njli; 0rokdutyun; 0rsverlztm; 0s6ydfrwdq; 0scnwe8xbv; 0szwlwl9qu; 0t8vqkeari; 0t9yd557ry; 0tslqjokvh; 0uk0h9hozn; 0usdi5jcho; 0vcsafx9by; 0w12pwpsfx; 0wbecdmhqo; 0wdazlcm90; 0wratka2jl; 0x8jaqtowm; 0xa6fcjyec; 0xh758onup; 0xouv7dhwz; 0yaxrjicrr; 0yl3yt4ylh; 0ymf6txfch; 0yo2l38ozr; 0yxbb5dzw5; 0yzgw9zbhr; 0zznbvfuvo; 10; 100; 1000; 10000; 100000; 1008pla; 100bn; 100mb; 100nd; 100s; 101; 1017; 1023; 1028; 103; 104393; 10566; 106; 1061thetwister; 107; 109; 10am; 10k; 10km; 10m; 10muey8pxj; 10news; 10pm; 10th; 10x; 11; 11000; 11000000; 111020; 11202; 1141; 1145; 115film; 119000; 11am; 11dvqjvxpo; 11juzhlgmt; 11th; 12; 1200; 12000; 120000; 1200000; 123127; 1236; 124; 125; 12am; 12giqbvlys; 12hr; 12jst; 12m; 12mm; 12news; 12pm; 12u; 12v; 13; 130; 13000; 1313; 138; 14; 140; 14000; 14028; 140920; 141; 143; 14cicptkna; 14th; 14wh0pjj2c; 15; 150; 1500; 15000270364; 15000270653; 150718; 152261; 153; 158; 159; 15901; 15moferadio; 15p; 15pm; 15t; 15th; 16; 160; 1600; 1620; 163; 16550; 1665; 16yr; 17; 1700; 17000; 171; 1716; 172; 178; 17egmlni80; 17th; 17wgug8z0m; 18; 180; 1800; 18287; 1843; 1862; 1890; 1895; 18jst; 18w; 19; 1916; 1921; 1928; 1940; 1943; 1945; 1950; 1952; 195582811791382; 1965; 1970; 1970s; 1976; 1979; 1980; 1986; 1994; 1998; 1999; 199t7nd0pm; 19th; 19yrs; 1a; 1acd4900c1424d1; 1beegwrsis; 1buf0xm53d; 1cvegtizog; 1d; 1eb2dauyfn; 1elreh1jlj; 1epiyenqyl; 1erd2fpryp; 1fhrrhcimh; 1funemes7m; 1fvootqnej; 1he4ufawzm; 1hlvrkwgip; 1i19cuov7l; 1k2phqcuw8; 1km; 1krpz3j1eu; 1lk1eqwyuw; 1meeo3wjco; 1mgvd4x5oe; 1mvsqg0xke; 1osmiuxkhw; 1pack; 1pdjoq4jc1; 1pdnlsp8xw; 1pflm532mg; 1pxpoqktjo; 1q6ccffzv6; 1qochspybw; 1qt51r5h98; 1rockstar62; 1rreo2jg9u; 1sgzgtgfw9; 1st; 1tvlfrhm1m; 1udz0nvoeh; 1uo1atrbbj; 1vi2rnbk2i; 1vjalja1sx; 1w58ehv9s1; 1wopsgbvvv; 1xhsuewqn4; 1xpw292tje; 1xssvgimvb; 1xw0z8zeqw; 1ybe5mgzl4; 1yixfg1hdy; 1zbhvdcxzs; 20; 200000; 20009; 2002; 2005; 2006; 2007; 2008; 2009; 2010; 2011; 2012; 2013; 2014; 2015; 20150613; 2016; 2017; 20177; 2019; 202; 2025; 2030; 204; 205; 208; 2099; 209923; 20accident; 20b3pnqxmd; 20bag; 20bagging; 20bags; 20bang; 20bomb; 20bomber; 20bombing; 20buildings; 20burning; 20collapse; 20disaster; 20dncthr4d; 20emergency; 20failure; 20fall; 20fire; 20fires; 20k; 20murder; 20murderer; 20on; 20plan; 20reactor; 20responders; 20s; 20services; 20skyhawkmm20; 20spill; 20storm; 20truck; 20up; 20wave; 20zone; 21; 210; 213; 21b6skpdur; 21k; 22; 223347; 22a9d5do6q; 22days; 22fuxhn7el; 22pm; 23; 231a; 2327564d; 233liveonline; 234; 239; 23km; 23rd; 24; 241487; 241cn8yxjq; 24v; 25; 250; 2500; 250000; 2500fps; 252426; 253; 254; 25573; 25sy9y295l; 26; 260th; 261; 261624; 263789f4; 263chat; 267; 26oo0fcl53; 27; 2781; 279; 27w; 28; 2872j5d4hb; 28pm; 28t3nwhdky; 29; 290; 295ss; 29pm; 2a; 2acrgdqhj0; 2ag9auabr3; 2am; 2azxdlcxga; 2b; 2baxg1wdpp; 2be7bwcmpl; 2day; 2fenu1syu6; 2fs649qdwx; 2gljhvead9; 2h0dpmv2ef; 2hours; 2i4eoggo5j; 2iafpmqjep; 2ii3brc7nx; 2jbibeib9g; 2jgvhw7yzs; 2jhtlwuey0; 2jr3yo55dr; 2jxkmkpalp; 2k13; 2k15; 2kdq56xtws; 2lbtshxi3c; 2lgtzkwmqw; 2liwkjybe9; 2lqyxzq5dn; 2m1gneaifl; 2minutemix; 2mwc9ywjzy; 2nd; 2nip3d15dx; 2okscwyohc; 2oroyunym2; 2pack; 2pcs; 2pimg9bice; 2pm; 2ppzgpxybi; 2q3fuerey5; 2rtq9qmgpb; 2sdmichb2z; 2sgdofsmrq; 2tnu95vgfe; 2twxz6vxbx; 2ufcc6gh3m; 2ugrmd1z1n; 2uvmq4vafq; 2wbivkzjip; 2xmdidgpnr; 2y2wzk1frm; 2y5morpugt; 2y9dnp5vtg; 2z2htdjqzd; 2z8ubsy5m8; 2zgvslox5p; 30; 300; 300000; 300m; 300w; 302; 304; 307558; 309943; 30a; 30min; 30p; 30pcs; 30pm; 30s; 30th; 31; 312; 31tgtlz3ya; 32; 320; 32215; 325; 325ci; 328szfletz; 33; 33333; 33fbr25t1o; 34; 3460; 35; 350; 358; 35jyap0ul9; 35qwnglkos; 36; 360; 360wisenews; 361; 365disasters; 367; 36gccapaak; 370; 375; 37592; 37dqvjhncv; 37qpssnacv; 38; 38745; 38pm; 39; 3934; 3939; 3942; 3945; 3967; 399227; 3_6_12; 3a3fgzfmzh; 3ac5wuy1r0; 3am; 3brme6sn4t; 3bwwnlsxhb; 3dc; 3enyndxppm; 3ev07ppapn; 3f7owdecy7; 3fzidhqrk3; 3g; 3g79prayyc; 3glyoyf6oc; 3gz5zqqthe; 3hoikdmocb; 3htj2pypsg; 3i3d2ngent; 3ife1zsop7; 3kaafuoztc; 3kob7xbea0; 3kpbu6hgt5; 3la; 3ln8trhw6x; 3m; 3mtwh0jjns; 3nkculgvmw; 3novices; 3nuih6pkui; 3og66nfsig; 3oionqlfql; 3ol8mhhpma; 3om3xw6cz8; 3p; 3pack; 3pcntczoxv; 3rd; 3sicroaanz; 3snyoohseq; 3sth9lrbun; 3tj8zjin21; 3tnuaciv3c; 3u6mdlk7di; 3ugfpwmy2x; 3vfkedgrso; 3vwp7wd56w; 3w0pxfyyri; 3wnjauar7w; 3x; 3yu26v19zh; 40; 4000; 400000; 400t; 401; 40121; 401ks; 403118; 405; 407v1y4hhg; 40hourfamine; 40mln; 40w; 41; 410; 4103; 412; 414510; 415; 419; 42; 420; 429cj; 42gw2i2q41; 42mawzb8t9; 43; 434; 439469; 43rd; 43sxg9z6xh; 44; 45; 450; 4500; 452; 45600; 458dtr3ulx; 459; 45cmaqf8ns; 45m; 45pm; 45twhj0l6m; 46; 462446; 463p0ys0eb; 4678; 4682; 478; 48; 48tpnmbjvg; 48zg5ynebn; 4914njpio3; 495; 499212; 4am; 4arwwrzpsr; 4bcqzqjrzn; 4c58ooavhy; 4cog0otiwn; 4cpnbbzkzg; 4d9cd4mnvh; 4ddmtguzzs; 4e2gjmvrvi; 4e719w6m4v; 4esbsa8int; 4evttqpeia; 4ftzjk94dt; 4fxfllrien; 4got; 4hcywrwn6l; 4hngtkdqmv; 4i0kz2akly; 4i0rkcbk1d; 4izfdyc3cg; 4jno677zkv; 4k; 4k8olzv9bv; 4kbwpcmmbm; 4kdthctemv; 4km; 4kopkcyvtt; 4kus; 4m5uheyfdo; 4mjyw7p7cf; 4oa6swlxmr; 4ou8s82hxj; 4playthursdays; 4pqcmqchng; 4q4zd7ou34; 4regionåêåênear; 4rtpjrhsqe; 4ryzmzsgdw; 4ssuyhkgrb; 4the; 4tiles; 4virxkgmpc; 4wd; 4x4; 4xb4zwyhct; 4y4ytwhd74; 4yi4nuovbv; 4ykxt3kd62; 4yu5sy1cui; 4yygb; 4zmcqrmois; 4zn0mdsrvp; 4zqrsaqrrt; 50; 500; 5000; 500th; 501; 50225; 5040; 509; 50shadezofgrey; 50vdq7a1m5; 51; 513; 52; 521; 528; 52k; 52uus4tfn3; 53; 530; 53143; 53inch; 54; 540; 544; 545328; 547; 55; 550; 55436; 555; 55807; 559; 55jr66plov; 56; 57; 570; 573; 578gunp8t9; 58; 582; 58qrugzvg0; 5b7qt2yxda; 5bdrfu1duo; 5bgcw3ezb5; 5c; 5cgtqfk2ur; 5cm0lfzhxn; 5dujgypima; 5ebpybfh4d; 5fcjvml520; 5fhkxtrhyu; 5hkgxzjlmx; 5hljucxi0s; 5iyzsda6xb; 5kfovovjso; 5km; 5koho39oje; 5l; 5lnidvobff; 5loiwuyv5r; 5mjzjnkpfn; 5n4husewly; 5ng0fzpvds; 5oqhq8quqv; 5ortb8p51c; 5pbc96rtmj; 5pm; 5pmikavykl; 5qhoehe9hf; 5qhqo6ejtu; 5qyczywkgg; 5s; 5sos; 5sosfam; 5th; 5u5gakx2ch; 5uecmcv2pk; 5v29w19tfx; 5wfxbaqmbk; 5xrc0a76vd; 5ydb4s13pf; 5yl4dc1tqt; 5yrbegzafx; 5ytiex55lh; 5zcje7arci; 5zdbtktww7; 60; 600; 60000; 600858; 60km; 60m; 60s; 60th; 61; 610; 612bsbvw8k; 614817868480726; 615; 616; 617; 61st; 62; 627; 628624; 629; 631838; 63rd; 64; 64cymg1ltg; 64oz; 64xr9ltnoh; 65; 650; 65000; 65xr1p9soo; 66; 660; 6615434; 666; 666canberra; 66obqmximb; 66yvulizbk; 6773; 67tjn9egyk; 68; 688; 69; 695807; 69mlhfefhr; 6acswzo7cw; 6agmkx2ww4; 6aimd1uway; 6ar3ukvsxw; 6aug; 6c; 6cadrhioxp; 6ce1vwovhs; 6craekc9wb; 6cx46e7qb7; 6cz3bohrd4; 6ds67xai5e; 6exs23muy3; 6ezkoof2xt; 6f9afql6wp; 6ffylajwps; 6fynermusg; 6g49ywwsqj; 6gldwx71da; 6gsamy6mts; 6hhmbdk9yo; 6hkca1dsna; 6hkw5qlppt; 6ime8kjacv; 6ioabsl6i7; 6jjvcdn4ti; 6jzcedayrg; 6l; 6lojoorouk; 6m0ynjwbc9; 6mbpvwitxf; 6ndbfopk5m; 6nqru2q5tz; 6pagjqfbzk; 6peeip4y7w; 6pm; 6qc8whdizy; 6sdgz5dxnt; 6sdtzsgelq; 6siirlnv6z; 6sy44kyysd; 6th; 6tvvlg2fni; 6uhih9pbru; 6un7xc9sve; 6vei1mhea4; 6vja8r4yxa; 6w6a2l4qae; 6wadnmstov; 6x0xhlbxji; 6xsbddlziy; 6xul6dcosh; 6xysdn2xz0; 6ysxghc8gz; 70; 7000; 704; 707762; 707d; 709; 70th; 70years; 712c; 71st; 71vdjhjnwv; 72; 724gq5ebqz; 72ix7vm87w; 72w; 73; 731; 736324; 73km; 73rd; 73umw2igrz; 74; 740; 742992; 74yfqxvak0; 75; 751; 757; 75k; 75vlsw85gi; 77; 775995; 777; 77ciwxabva; 78; 79; 79th; 7a; 7aal; 7ad0l7cgee; 7amdollela; 7aze4iogme; 7b2wf6ovfk; 7bevuje5ep; 7cibxls55f; 7cmf3noync; 7d7vweq3es; 7dyoglhmre; 7ennullkzm; 7hanpcr5rk; 7hkavtvx81; 7ijlz6bcsp; 7jfreteii4; 7jggqwbv6s; 7k; 7k5shaiqiw; 7l6bhexixv; 7l9qazljvg; 7lvgcmyiyj; 7mepkbf9e8; 7mlcd0l0b8; 7mlmsuzv1z; 7mzycu2iho; 7nagdsadwp; 7newsadl; 7npbfrzejl; 7nu7prxeul; 7o4lnfbe7k; 7old5mjwph; 7p; 7paovyzttw; 7qpg80ud7v; 7spydy1csc; 7vcezi6cbb; 7vsqqsvgni; 7xglah10zl; 7xq8jrtl7i; 7y2gnva2ev; 7zb9gm5z0h; 7zlsumiess; 7zog3dpdu9; 80; 800; 8000; 801; 8015; 803; 80dzgco6vc; 80ebvglmra; 80m; 80s; 81; 815; 81g18wsauk; 81hvv3n3rs; 81neizeknm; 82; 825133; 827834; 828; 82ndabndiv; 83; 837865; 8392; 83bmprwh7w; 83joo0xk29; 8400; 8437150124; 852; 8550013; 8591; 85g1pcccxg; 860; 864; 865828; 86v81dv00e; 87; 870833; 876; 877; 87efcbiczm; 87h5mba3n1; 88; 8acdf4zui6; 8bhvxx2xl9; 8bqjtp6id5; 8c3fploxcr; 8cpcz2xohb; 8ddijzynkf; 8e7ry8ebmf; 8eijdxapnp; 8fvqrizoux; 8gtrvece1n; 8gzbgmmaa1; 8h2kctfb8i; 8hgcbxukz0; 8ihuco4glw; 8j09zutxwt; 8j4rdwyjwu; 8jcyxhq1az; 8jvqi9uspl; 8jxql8cv8z; 8kj1wdaigj; 8kjs7zqajs; 8km; 8m; 8nadrgr4xc; 8nhd9idajs; 8odtzmvqar; 8owc41fmbr; 8picbkdjm0; 8pifutrb5u; 8qc8bcxoko; 8r5vpaoo5z; 8t36hwgoqd; 8th; 8tygo0kizz; 8vzl1ns2io; 8whts; 8xixbspot8; 8zy9n6fx9t; 90; 9000; 900037; 90225; 905; 90630; 90blks; 90l2lb5wmr; 90s; 90th; 910975; 911; 911bombing; 911f3ixrh0; 917; 91jvycxxvi; 91å; 92; 92101; 924; 925; 928; 92fwtobi3u; 92pk0hujd8; 93dm6gnwwc; 93iaeec26t; 93infxzhx0; 94; 94123; 942499; 945hpa; 95; 950109; 950xijhnvh; 956; 957thegame; 95roots; 96; 96355; 966; 96km; 97; 97343; 98; 982988; 985dwwpdet; 98o2kc3a1z; 99; 990062; 9973; 999; 99mbyfl3id; 9am; 9asc1hhfnj; 9bliddngtf; 9cgbjwmhii; 9ckgggyvou; 9cntp3nq6o; 9cpwiecegv; 9d4nazoi94; 9dflv6ynqr; 9dwyjqvfy4; 9e2f7bivle; 9eh2lcqkxl; 9f3rdn9n3d; 9giaxd6jty; 9guckjghms; 9h0ym9ofsv; 9hkxxbb82o; 9i6crcrq2m; 9ikhdyhvnc; 9jcibenckz; 9jxb3rx8mf; 9km; 9le0b19lvf; 9lo0hzwjpz; 9lpf4v4hmq; 9lyx7zmthe; 9mkzpzfkl2; 9mtrq5jf4d; 9naw3qoqol; 9newsbrisbane; 9newsgoldcoast; 9newsmornings; 9nly2tovud; 9nyxjndora; 9odqryjncf; 9pfeaqeski; 9pm; 9pqyx4xool; 9qnq45zduw; 9qpg0z3rh9; 9r5fsts7bd; 9rfo9gy3ne; 9rryaylgyy; 9tb82zmr2x; 9tg7a5oqfp; 9utqe9zfde; 9v1rvcomh2; 9vd6x4wdoy; 9viibxgjav; 9vw0uqqi1y; 9wowps78vd; 9wqixgmhfh; 9xohmmlmdy; 9y0paj8sxd; 9z9hsmiavd; 9zmwt9xydz; 9zrqmd8ngz; _301dc; __; __scrambledeggs; __srajapakse__; _ashj; _asianshawtyy; _bookofdaniel; _charleyisqueen; _chelsdelong12; _dangdaddy; _dmerida; _edvinnn; _explicitpretty; _freemarketeer; _gaabyx; _itsmegss_; _itzsteven; _keits; _minimehh; _one; _pokemoncards_; _stiiilo; _wildfire__; a0ad8z5vsr; a0v1ybysod; a1; a1a; a2e6dcsk88; a2ss7pr4gw; a2tiivnjdy; a3dsmbqkwu; a3rgqucugo; a5gnzbusqq; a5iwus8evq; a6ppegelox; a6ro9bmxcy; a6wmbnr51s; a7tjawwtj7; a7x; a8jz5a26wi; a8nmdkd3rv; a9bnlse6qb; aa; aaaa; aaaaaaallll; aaarrrgghhh; aace_org; aan; aannnnd; aar; aarhus; aaronthefm; aatt5amnmd; aauizggc9q; ab; aba; abandon; abandoned; abandonedpics; abbandoned; abbott; abbswinston; abbyairshow; abc; abc7; abc7chicago; abc7eyewitness; abcnews; abcnews24; abcnorio; abe; aberdeen; aberdeenshire; abgct9vfua; abha; abia; ability; abject; ablaze; able; ableg; abninfvet; abnzqwlig1; abomb; abomination; abortion; about; abouts; above; abq; abran_caballero; abs; absecon; absolute; absolutely; abstorm; abstract; absurd; absurdly; abudhabi; abuja; abuse; abused; abuses; abusing; abyhrgss1s; abysmaljoiner; ac; acaciapenn; academia; academy; acb0ryenuo; acc; acc1z5q9zw; accept; accepte; accepts; access; accident; accidentally; accidents; accionempresa; accompanying; according; accordingly; account; accountable; accounts; accra; accused; accuses; accustomed; acdelco; ace; acebabes; acebreakingnews; acesse; acfi2rhz4n; achedin; achieve; achievement; achieving; achimota; aching; acid; acids; acmilan; acmrm833zq; acne; acoustic; acquire; acquisitions; acres; acronym; across; acrylic; act; acted; acting; action; actionmoviestaughtus; actions; activate; activated; activates; active; actively; activision; activist; activities; activity; actor; actress; acts; actual; actually; acute; aczruorytd; ad; ad38kwoglh; adam; adamnibloe; adamrubinespn; adamtuss; adani; adanne___; adaptation; add; added; addict; addiction; adding; addition; address; addresses; addtexastonext1dtour; adelaide; adhd; adidas; adiossuperbacterias; adjust; adjustable; adjusted; admin; administration; administrative; admit; admits; adndotcom; adopt; adoption; adorable; adrian_peel; adriasimon_; ads; adult; adultblackmale; adults; advance; advanced; advances; advantages; adventist; adventure; adventures; adventuring; adverse; advertise; advertised; advice; advised; advisory; adx9iyi246; adz8kburt7; ae9cpiexak; aelinrhee; aep; aeroplane; aerospace; aesop; aest; aesthetic; aetgbxm1pl; aewglvqreh; aez3ak1lrn; af; af1yzus8ln; afc; affair; affect; affected; affecting; affects; affiliate; affiliation; affleck; affliction; afghan; afghanistan; afghetc; afk_10; afp; afraid; africa; african; africans; africansinsf; africaå; afrikaan; afrin; afssgpnzwi; afte; after; afterhaiyan; afterlife; aftermath; afternoon; aftershock; aftershock_delo; afterwards; afycso; afzqvotutj; ag; ag65u29sgo; ag_usa; again; against; agalloch; agb; age; ageekyfangirl14; agencies; agency; agent; agents; ages; aggressif; aggression; aggressive; aggressively; aggryhvxkr; agnus; ago; agony; agree; agreed; agreements; agrees; agw; ah; ahead; ahh; ahhhh; ahhhhh; ahhtheenikki; ahvymsqhqc; ai; ai6kworbbt; aia; aid; aida_de; aidan; aids; aiginsurance; aim; aimlessly; ain; aintsheperty; air; airasia; aircraft; airdrie; aires; airing; airlines; airplane; airplaneåê; airport; airports; airstrikes; airwaves; aisle; aitchkaycee; aix; ajabrown; ajay0snplg; ajpnebg803; ajtxuafoem; ajw; ak; aka; akame; akcsl; akgovbillwalker; akito; akmihlris1; aknbtuyaef; aknynpv461; akron; aks; akure; akx; akxbskdn; akzzoe5ce6; al; al28rvkqpq; alabama; alabamaquake; aladdin; alam; alameda; alamodc; alanhahn; alarm; alarmed; alarmingly; alarms; alas; alaska; alba; albany; albeit; alberta; albertans; album; albuquerque; albvdnwjtg; alcohol; alcoholandmetal; alcoholism; alec; alegre; aleisstokes; alekalicante; alert; alex; alexalltimelow; alexandria; alexbelloli; alexeivolkov1; alexhammerstone; alexis_sanchez; alexjacobsonpfs; alexshipppp; alfapedia; algae; alger; algeria; algtcn8baf; alhaji; alien; aliens; align; alil; alive; aliveafter5; all; allah; allay; allegations; alleged; allegedly; allegiance; allen_enbot; allergic; alley; alliance; allies; allinwithchris; alliston; alllivesmatter; alllll; allocating; allotment; allover; allow; allowed; allowing; allows; alloy; allthekidneybeansandsorbet4misha; allthenews; ally; alma; almost; alnv51d95x; alone; along; alot; alpha; alphen; alpotnb7q3; alps; alrasyid448iturasya; already; alright; alrighty; alska; also; alsowhat; alt; altamonte; alternative; alternatives; although; alto; alton; alumnus; alumrgl40e; alvarez; alvinnelson07; always; am; ama; amageddon; amalie; amarillo; amateur; amateurnester; amazed; amazin; amazing; amazingness; amazon; amber; ambulance; ambulances; amc; amcx; amea3lamdj; ameenshaikh3; amen; amends; america; american; americans; ames; amesocialaction; amid; amiibos; amin_akh; amino; amirite; amman; amo; among; amongst; amp; amplifier; amrox4y4nx; amsal; amssummer; amsterdam; amymwwcpym; amznfavorites; an; an3w16c8f6; ana; anaheim; analog; anarchic_teapot; anarchy; anathemazhiv; anchor; anchorage; anchors; ancient; ancop; and; anderson; andre; andrea; andrew; android; androidgames; ands; andy; andygilder; andåêchina; anellatulip; anew; angel; angel_star39; angela; angeles; angelina; angelriveralib; angels; anger; angers; angharadjames16; angioplasty; angles; angry; angusmacneilsnp; animal; animallogic; animalrescue; animals; animatronics; aniston; anjem; ankara; ankle; ankles; anlhw2izkz; anna; annaciclismo; annajhm; annapolis; anne; annealiz1; annihilate; annihilated; annihilation; anniversary; annmarieronan; annoucement; announced; announcement; announces; annoyed; annoying; annual; anonchimp; anonymous; another; anp9g6njfd; answer; answered; answers; ante; anthelmintic; anthonys; anthrax; anthxvy; anti; antichrist; antigua; antioch; antiochhickoryhollow; antipozi; antis; antoine; antonio; antoniooooo; antony; antpips67; ants; anutoopkf4; anxiety; any; any1; anybody; anymore; anyone; anything; anyway; anyways; anywehere; anywhere; anza; anzio; ao4ju9vmmf; aoesbvns45; aog5chjmvs; aogashima; aomq1rykmj; aoms; ap; ap30pszkvx; ap9jbrpmqg; apart; apartment; apartments; apaz; apc; apch; apd; apga; aphiabeta1907; aphl; aphyr; apksnplxzj; apocalpytic; apocalypse; apocalyptic; apod4eivba; apollo; apollobrown; apologies; apologise; apologize; apologized; app; appalling; apparent; apparently; appeals; appears; appease; appetite; applaud; apple; appleofficlal; applications; applied; applies; apply; appointment; appoints; appraisal; appreciate; appreciated; appreciativeinquiry; approach; approaches; approaching; approval; approves; appx; appy; apr; aprensss3x; apropos; aprylpooley; apt; aptap6yx1r; apts; apwxs5mm44; aq; aq5zlim7l4; aqbljcomln; aqcsusqbdy; aqinavl1b6; aqua; aquarium; aquarius; aque; aqxwolbcfq; ar; ara; arab; arabia; arabian; arabic; aracaju; arachys; araul; arcade; archipelagowolves; architect; architecture; are; area; areas; aren; arena; arent; areva; arfur; arg; argentaelite; argentina; argentinean; argentings; argh; argue; argues; argument; argus; argus_99; ari; aria_ahrary; ariabrisard; ariana; arianagrande; arin; arizona; arizonadot; arizzo44; arkan; arkansas; arkmc7vcln; arlington; arm; armageddon; armed; armenians; armory; arms; army; arnd; arnhem; arnley; arobotlegion; around; arreat; arrest; arrested; arrestpastornganga; arrests; arrive; arrived; arrives; arriving; arrogant; arsenal; arson; arsonist; arsonistmusic; arsonists; art; art_brut_; artectura; arthas; articals; article; articles; artificial; artillery; artistsunited; arts; artumhmbhh; artwork; arvada; arwx; aryu5qngjj; arzemsr7fq; as; as10004; asae15; asap; asb; asbury; asburyparkpress; ascend; aseer; asgard; ash; ashayo; ashberxo; ashburn; ashdod; ashenforest; ashes; ashes2015; ashes2ashes; asheville; ashford; ashghebranious; ashland; ashrafiyah; ashton5sos; ashxjonespr; asia; asian; asics; aside; asimtanvir; ask; askcharley; asked; askh3cz; asking; asks; asleep; aspect; aspects; ass; assad; assassinkpg; assembly; assertative; asses; assessment; assets; asshole; assholes; assistance; assisting; assnchat; associated; association; assume; assured; asswipe; asterpuppet; astonishing; astounding; astrology; astros; astroturfers; asylum; at; atcha; atchisonsean; atcmrjzjtp; atgrannyshouse; atheistic_1; athens; athlete; athletics; atk; atl; atl_events; atlanta; atlantic; atlas; atlbizchron; atleast; atljw; atlìántico; atm; atmosphere; atmospheric; atomic; att; attached; attack; attacked; attacking; attackonstiles; attacks; attained; attempt; attempted; attempting; attend; attendance; attended; attendees; attention; attic; attila; attitude; attjcdemos; attraction; attractive; atv; atx; atåêcinema; au; au3dbci7nf; au5jwgt0ar; aubilenon; aubrey; auburn; auckland; auction; auctions; audaciousspunk; audacityjamesta; audi; audience; audiences; audio; audit; audreyp77; auezxza5ak; auf4j4owj1; aug; aughris; august; augusta; aul; aunt; aurora; aurugjegiq; aus; auspol; aussie; aussies; aust; austell; austin; australia; australian; australians; austrian; auth; authentic; authenticating; author; author_mike; authorities; authors; autismawareness; auto; autoames; autobiography; automatic; automation; autumn; auxsmdg1un; auz; av; av2jsjfftc; ava; available; avalanche; avalanches; ave; aveiro; avengers; avenue; average; avert; averted; avi; aviation; avoid; avoided; avoiding; avoids; avon; avu9b4k2rv; avv6hpnpch; avvsoino8z; avwe1lbvhn; avysss; avzsyie1nt; aw; aw23wxtyjb; awadgolf; awaits; awake; awards; aware; awash; away; awesome; awesomeeeeeeee; awesomelove; awful; awickedassassin; awkward; awol; awtscucbbv; awwww; awxr24zsqh; axk9xno6yz; axvq80rbyj; ay; ay49mtyyl8; ayekoradio; ayfdjeb7hy; ayhhhhhdjjfjrjjrdjjeks; ayhoka_; ayp6zvhm2a; ayr; ayshbanaysh; ayyo; az; azimel; azl4xydvzk; azovgv4sb6; aztec; azure; azusa; b00hr; b0zwi0qptu; b19z8vi3td; b1bx0eruep; b1g; b1grego; b2; b231ul1o1k; b24fowler; b2b; b2bagency; b2yvlmpepr; b3x1wqzaor; b4; b4federal; b5s5epj7um; b6nphxorzg; b77t2qxdcs; b7omj7u3ei; b7zwevsrgo; b8iwrdxcm0; ba; ba2rrxugsg; ba4pusvjln; baan; babality; babalmao; babe; babes; babies; babmf0w2yw; babri; baby; babybackreeve; babysweet420; bachmann; back; backed; background; backroom; backs; backups; backyard; backyards; bacon; bacteria; bad; badass; badastronomer; badge; badges; badirandeal; badotweet; badr58; badu; bae; bae0ap4g9y; baffles; baffling; bag; bagef9lfgt; baggage; bagging; baghdad; bago; bags; bah; bahstun; bail; bailed; baileysmsteach; bailiwick; bailout; bairstow; baiting; bajrangi; bak; bake; bakeofffriends; bakersfield; baking; baku; balance; balanced; balcony; balding; baleares; bali; balikesir; ball; ballew; baltimore; balvanera; bama; ban; banana; banbridge; band; bandar; banditregina; bandolier; bands; bandung; banerjee; bang; bang_me_up_guk; bangalore; bangin; bangkok; bangladesh; bangladsh; bangor; bangtan; bank; banki; banking; banks; bankstown; banned; bannister; bannukes; banquet; banthebomb; bapusuratsingh; baqocmcjqc; bar; barack; barackobama; barak; barat; barataria; barbados; barbara; barbaric; barber; barbi_twins; barcelona; barcousky; bardissimo; bardo; bare; barely; barfield; bargain; barkevious; barking; barn; barracks; barrier; barring; barrington; barry; bars; bartender; bartholomew; baruch; base; baseball; baseballquotes1; based; based_georgie; basedlarock; basement; bash; bashes; bashing; basic; basically; basics; basildudin; basis; basketball; baskets; basking; bass; bastards; bat; bataan; batam; batfanuk; bath; bathe; bathroom; baths; bathtub; batista; baton; bats; batter; battered; batteries; batters; battery; batting; battle; battle_dom; battlefield; battlerapchris; battles; battleship; battling; bay; baydestrian; bayelsa; bayonets; bayonne; bb; bb17; bb4sp; bb7ttdvjwe; bbc; bbc5live; bbcengland; bbcintroducing; bbcnews; bbctms; bbcwomanshour; bbdpnj8xsx; bbloggers; bbm; bbqnk76qus; bbshelli; bbsnews; bc; bc19; bcdp4gkoka; bcfcticketlady; bchs; bcjylerryx; bck; bclqpwfdod; bcpmvylsih; bcpoli; bcuz; bd; bd52fxdvhq; bday; bdisgusting; bdn2fdpdaz; bdotq8dsln; be; be4; be_ram0s; beach; beached; beacon; beam; bear; beard; bearer; bearers; bears; beast; beastly; beat; beatdown; beaten; beating; beats; beauce; beaumont; beauscoven; beautiful; beautiful_juic1; beautifully; beauty; beaverton; bebacksoon; bec; became; becarefulharry; because; beck; beckoning; beckyfeigin; beclearoncancer; become; becomes; becoming; beconfident; bed; bedding; bedford; bedroom; bedrooms; bee; beef; beelievedc; been; beer; bees; beet; beetroot; beezersun; before; beforeitsnews; beg; began; begging; begin; beginners; beginning; beginnings; begins; begun; behalf; behavior; behaviors; behaviour; behead; behfhsppud; behind; behold; beijing; being; beirut; beisbol; beit; bejftygjil; bekah__w; bekrpjnyhs; bel; belbroughton; belgium; belgrade; belief; believe; believing; bell; bella; bellalinn; bellerin; bellevue; bells; bellville; belly; belonged; belongs; below; belt; beluga; ben; benaffleck; bend; bene; beneath; benedict; benediction; benefits; benews; bengal; bengalis; benignovito; benitez; benjbeckwith; benji_devos; benjm1; benkin97; benson; benton; bentossell; benzema; berhati; berkeley; berlatsky; berlin; bernabeau; bernard; bernardino; berry; besafe; beside; besides; besieged; best; bestcoast; bestfriends; bestia; bestie; bestnaijamade; besttalkradio; bet; bethlehem; betrayed; bets; bett; better; bettyfreedoms; between; betz; beua507iug; bexrayandvav; beyhive; beyonce; beyond; beyondgps; beyondthebomb; bf; bfa; bfes5twbzt; bff; bfore; bg; bgaj2oax1p; bgerljamte; bgrab7lk8d; bgy4i47j70; bgytmqj3oo; bhaijaan; bhavana; bhopal; bhp; bhramabull; bhsuxvq6nf; bhusa; bhzr9ugus2; bi; biblestudy; bicep; bicycle; bicycles; bicyclist; bid; bids; bieber; biexwdldwc; bieyguqpb1; big; bigamist; bigburgerboi55; bigger; biggest; bigsby; biigd1leq3; bike; biker; bikini; bilic; bilingual; bill; bill_roose; billboard; billers; billgates; billharris_tv; billings; billion; billionaire; billionaires; billiton; bills; billy; bilsen; bilsko; bin; bind; bindle; binellithresa; bing; binladen; biolab; biolabs; biological; biosurveillance; bioter; bioterror; bioterrorism; bioterrorismi; birb; bird; birdland; birds; birkbje23e; birmingham; birth; birthday; bishopfred; bishops; bistro; bit; bitch; bitches; bitchl0vecannon; bitcoin; bitcoing; bite; bites; biting; bits; bitten; biu4kowglz; biuey7buts; biztip; bizzlemahomie; bjjoifzuhl; bjp; bjpsamvad; bjrrqhhohl; bjvfk1ete9; bjycrgfh5y; bjzssw4tid; bk; bkh7z6cwwl; bki; bkn032; bkpfpogysi; bl59fw4sys; bla42rdt1o; blaawhysct; black; blackberry; blackburns; blackfalds; blackinamerica; blacklivesmatter; blackparavde; blackpool; blah; blair; blairmcdougall; blaise; blake; blakeschmidt; blame; blamed; blames; blaming; bland; blanket; blanktgt; blast; blasted; blasting; blasts; blaze; blazer; blazes; blazing; blazing_ben; blcbabm7a1; bldrcosheriff; bleak; bleed; bleeding; bleeds; bless; blessed; blessing; blessings; blevins; blew; blight; blighty; blind; blinked; blinker; blitzed; blitzes; blizzard; blizzard_draco; blizzard_fans; blizzard_gamin; blizzheroes; blk; blks; block; blockage; blockchain; blocked; blocking; blocks; blog; bloke; blonde; blood; bloodbound; bloody; bloodymonday; bloom; bloomberg; bloomington; blossom; blossominglilac; blow; blowers; blowing; blowjobs; blowmandyup; blown; blowout; blows; blppzaiboe; blubber; blue; bluebell; bluebirddenver; bluedio; bluejays; blueprint; blues; bluetooth; bluewestlo; blunt; bluntedjayt; blunts; blutz10; blvd; blzt5zwose; bm0sxzbnke; bmsedzofsv; bmurph1019; bmw; bmwmpoydig; bmxsndx14g; bn; bn7xpzqdm0; bnhtxaezmm; bnrdkgxavr; bnwygx6luh; bo3; board; boarding; boards; boasting; boat; bob; bobble; bobbyofhomewood; bobcats; bodied; bodies; body; bodìü; boeing; boing; boironusa; boise; bokaro; boko; bokoharam; boksburg; bokuto; bolshevik; bolster; bolt; bolton; bomb; bombardment; bombed; bomber; bombers; bombing; bombings; bombs; bomd; bon; bona; bones; bonn1egreer; bonnieg434; bonus; boobs; book; bookboost; bookmobile; books; booktubeathon; boom; boone; boot; boots; booty; booze; bordento; border; borderlands; borderlands2; bore; bored; boring; born; bornverified; borrowers; bosphore; boss; bossland; boston; bot; both; bother; bothered; botswana; bottle; bottom; bought; boulder; bounce; bounced; bound; boundaries; boundary; bounds; bounty; bournemouth; bout; bouta; bovines; bovjrf62t7; bow; bowe; bowery; bowknot; bowl; bowling; box; boxer; boxes; boxing; boxset; boy; boyd; boyfriend; boygbp0jw9; boyinahorsemask; boylesports; boys; bozeman; bozlwr716z; bp; bp597yds2b; bp6mfjhars; bp8bm8xsxw; bptmlf4p10; bptzamjl2k; bq90pfzmrp; bqblwiw08g; bqv3qttuxr; br7gmmh5ek; bracelet; bracing; brackets; brackley; bradford; bradley; bradleybrad47; brady; brahmans; brain; brainless; brains; braking; branch; branco; brand; brandonmulcahy; brandonskeie; brant; braoubgec2; brasil; brass; brasswork; brasì_lia; brave; bravery; braves; brazil; brazos; brbrs; brctmnybjy; bre_morrow; breaches; breachgamingorg; bread; break; breakdancers; breakdown; breakfast; breaking; breaking411; breakingnews; breakingnewslh; breaks; breakth; breathe; breathing; brecksville; bred; bree_mars; breed; breeder; breitbartnews; bremerton; brenas; brento_bento; brentwood; brewer; brewing; brian; brianboru67; briannafrost; bribriony; brick; bricks; brics; bride; bridge; bridgeport; bridgeportspeed; bridges; bridgetown; bridport; brief; briefing; brig; brigade; bright; brightening; brighton; briliantly; brinco; bring; bringing; brings; brisbane; brisk; bristol; britain; britannique; british; britishbakeoff; britney; brits; brittanypetko; brizzle; bro; broad; broadcast; broadcasting; broader; broadly; broadview; broadway; brobread; brochure; brock; brockton; broke; broken; brokenscnecal; bronville; bronx; brooke; brooklyn; brooo; broseidonrex; brother; brothers; brought; browardcounty; brown; browner; brownie; browns; browser; browsing; brrookkllyynnr; brucewillis; bruh; bruise; brum; brunette; brunswick; brush; brut; brutal; brutality; brutally; bruv; bryansinger; brzjc; bs; bs6pjt09tc; bs6xaqhsim; bsf; bsg; bsmj2hvgwd; bsrerjby0i; btdjgwekqx; bti8jamfiu; btjpeo0bto; btown; btpqdehl3p; bts; btus5jejuy; btw; btwn; bu; bubble; bubblycuteone; buchana; bucharest; buckle; buckley; buckmasonusa; bucks; bucs; budapest; buddha; buddys; budget; budmke3nnf; buena; buenos; buff; buffalo; buffer; buffet; buffoonmike; bug; bugs; buhh; build; building; buildings; builds; buildup; built; bukittinggi; bulgarian; bullet; bulletin; bulletproof; bullets; bullpen; bullseye; bullshit; bully; bummer; bumper; bumzvmwam3; bunch; bundle; bundled; bundy; bungie; bunker; bunting; burbank; burberryant; buren; burford; burglar; burglary; buried; burma; burn; burnaby; burned; burning; burns; burnt; buroker; burp; burrow; burst; burton; burundi; bus; buscame; buscemi; buses; busey; bush; bushman; business; businesses; businessman; businessmen; bust; busted; busting; busty; busy; but; buted; butgod; buthidaung; butiqob; buts; butt; butter; butterfinger; butterlondon; button; buxton; buy; buying; buzwjmw49e; buzzfeed; bv; bvckd9pdti; bvxqa3kfrx; bwdhibtiks; bwe9kjcept; bwin; bxalnedy49; bxgnq57xvb; by; bye; byebyesoundcloud; byityf; byj5dfa2rv; bypass; byproduct; byr; bytbz8s5ux; bytsfms7md; byuwnbeki; byvubg0wye; bz07c9wthx; bz3ir4gmwj; c0nkgp6w03åê; c0slabbp7j; c1njpli5or; c1qxjweqqu; c1xhizprad; c211hise0r; c2eyjnybfn; c2x0qokgly; c4news; c5ggszugw1; c5jutfxbm9; c5u9qsysej; c6lgtotvsf; c7; c720; c7rco2emwf; c8uxkizwm6; c9jnxz3dxc; c9t2f6dltm; c_pinto001; ca; caaaaaall; cab; cabbage; cabin; cable; cables; cabling; cabramatta; cabrillo; cacheadvance; cachet; cackling; cactus; cad; cadenadeseguidores; caesars; cafe; cafetiere; cafire; cafì; cage; cagov; cai; cain; cairo; caitlin; cake; caked; cakes; cal; calabria; calamities; calamity; calculates; calestous; calfires; calfreedommom; calgarians; calgary; calgaryfringe; calhoun; cali; cali74142290; calif; california; californians; calk5nv5vc; call; called; calling; calls; calm; calories; calum36chambers; calum5sos; calumet; calwildfires; calzone; cam; camaquì; camarillo; camberwell; cambodia; cambridge; cambridgeshire; camden; came; camera; cameron_wate; cameronciletti; cameronhacker; cameronhigdon34; cameroon; camila; camilacabello97; camilla_33; camp; campaign; campanha; campbell; camped; camper; campers; campfire; campground; campinas; camping; campo; camps; campsite; campus; cams; can; canaanites; canad; canada; canadasuicide; canadian; canal; canberra; cancel; cancelled; cancels; cancer; cancers; candace_dx; candle; candy; candylit; caneyttwev; cannibalism; cannoli; cannon; cannot; canoe; canpoli; cans; cant; canterbury; cantwaittoplayinminneapolis; canuck; canvas; canyon; cap; capacity; cape; capeann; capicapricapri; capital; capitalism; capitalist; capitulation; capoeira; caps; capsized; capsizes; captain; captainn_morgan; caption; captives; capture; captured; captures; captureyyc; capturing; car; car5qeuvhh; caraccidentlawyer; carajdeievingnc; carcinoma; card; cardboard; cardiff; cards; care; cared; careemergencies; careen; career; careerism; careers; careful; carefully; careless; carful; cargo; caribbean; caribean; caring; carl; carlos; carlsbadbugkil1; carmen; carmike; carmqivkwu; carnage; carnegie; carneross; carol; carolina; carolinagutierr; carolinaåêablaze; caroline; carpet; carr; carregado; carriage; carried; carry; carryi; carrying; cars; cart; cartel; carterville; cartoon; cartoony; cartridges; caruana; carvv6gsrb; cas; cas8xc2dfe; casa; cascada; cascade; cascadia; case; caserta; cases; casewrites; cash; casino; casper; casper_rmg; cassadaga; cast; castello; castillo; castle; casual; casually; casualties; casualty; cat; cataclysmic; catalinas; catalogue; catalonia; catastrophe; catastrophic; catch; catches; catching; catechize; categories; catfish; catfishmtv; catharines; catlow; catovitch; cats; catsandsyrup; catskills; catsofinstagram; catwalk; catwoman1775; caued; caught; cause; caused; causes; causing; caution; cautious; cavb7pgepv; cave; cavite; cawx; cbaxcuba0h; cbc; cbgz9xun2k; cbplawyers; cbps1gskvo; cbs; cbs29; cbs3; cbsbigbrother; cbsdenver; cbxnhhz6kd; cc; cc7d0wxk0m; ccdx7cglqw; ccmusic; ccot; ccvcte3lcw; ccwzdtfbus; cd; cd2ng2awql; cdc; cdcgov; cdcwhistleblower; cdnpoli; cdohgnjmst; cdt; cdxe5vmzoj; ce; cebu; cech; cecil; cecilthelion; cedar; cedcugeuws; ceder; cee; ceiao1texr; celebration; celebrations; celebrety; celebrities; celestial; cell; celtic; cement; cena; censor; censorship; census; center; centers; centipede; central; centre; ceo; cereal; cerography; certain; certainly; certificate; certified; cervelli; cervix; cest; cezhq7czll; cf9e6tu3g7; cfc; cfe9huqn0h; cfevtrsc1u; cfouwpbrcg; cg579wldne; cgdj3drso9; cgf61fpmr0; cgfzk8ha1r; cgg; cgmjlseylo; cgvuy3rcxo; ch; ch4; chaboyyhd; chain; chainsaw; chair; chairman; chairs; chakra; chalked; challenge; challenged; challenges; chambered_blood; champ; champaign; champions; championsblackfoot; championship; championships; chan; chance; chances; chandler; chandrababu; change; changed; changefortheworse; changes; changing; chann; channel; channels; chaos; chapel; chappaqua; character; characters; charcoal; charge; charged; charger; chargers; charges; charging; charity; charles; charlesadler; charleston; charlie; charlieputh; charlotte; charlottetown; charmed; charmeuse; charming; charred; charstevens97; chart; charter; charts; chase; chases; chasing; chat; chatham; chattanooga; chazifornia; cheap; cheat; cheated; check; checked; checking; checkout; checks; cheekiness; cheer; cheese; cheese3d; cheetos; cheetosarabia; chelsea; chelsea_dogs; chem; chemical; chemical_babe; chemically; chemicals; chennai; cher; chernobyl; cherokee; cherry; cheshire; chest; chester; chestertweetsuk; chevrolet; chevy; chewing; chews; cheyenne; chibi877; chicago; chicagoland; chicagorobotz; chick; chicken; chicora; chief; chief__cg; chieftain; child; childcare; childfund; childhood; childhooddefined; childish; children; childress; childsexabuse; chile; chill; chillin; chilling; chills; china; chinese; chip; chipper; chippewa; chips; chiswick; chitral; chiyoda; chloe_bellx; chloeunguyen; chocolate; choctaw; choice; choices; choke; choked; choking; chonce; choose; choosegod; chopped; chopping; chords; chore; chorley; chorr2xovp; chose; chosen; choudary; chowchilla; chowtaxis; chpsre; chr3lyc; chris; chriscesq; chrisdanielshow; chrisdyson16; chrisman528; chrissie; christ; christi; christian; christiana; christians; christianvalues; christie; christielinford; christinartnd; christmas; christopherszen; christycroley; chromsucks; chronicillness; chronicle; chubbysquirrel_; chubychux; chunks; church; churches; churchill; churkin; churubusco; chxrmingprince; cia; ciaramckendry; ciggs; cihc8nrc9h; cilla; cilo9pmleb; cimahi; cimubweyib; cincinnati; cindy; cindynoonan; cinema; cinemas; cinla1964; cins; cipinang; circa; circle; circuit; circular; circus; cirtvml9vp; cis; cislady; citadel; cites; citi; cities; citizen; citizens; citrus; city; citylink; cityofcalgary; cityofhummus; civil; civilian; civilians; civilization; ciwwuqthin; cizjafnm4e; cj76k0yayj; cjctb2ocxg; cjirhhh4vj; cjoyner; cjuighbxyn; cjvbqxw83s; ckec; cl; cladding; claiborne; claim; claimed; claimin; claiming; claims; clair; claire; clairecmc; clancy; clap; clarksville; clash; class; classic; classycolkett; clawing; clayton; claytonbryant; cld; clean; cleanest; cleaning; cleanup; clear; cleared; clearly; clears; cleft; clegg; clergyforced; cleric; clev; cleveland; clever; cleverbot; clfa0py5lm; clicca; click; clicks; client; clients; cliff; cliffs; climate; climatechange; climb; climbing; clinical; clinton; clip; cllrraymogford; cln2sxzy1z; clnv_; clock; clogs; clolmorpld; close; closed; closes; closest; closet; closeup; closing; closure; closures; clothes; clothesless; clothing; cloud; clouds; cloudy_goldrush; clowns; cloydrivers; club; clue; cluei; clutch; clvlnd; clyde; clyj32l333; cm; cm9tve2vsq; cm_nevalistis; cmcsa; cmon; cmpostela; cn; cnbc; cncpts; cnewslive; cnkvile7be; cnmi; cnn; cnnbrk; cnni; cnshlnjuqx; cntwb6sczj; cnv; cnyvvy4wat; co; co2; coach; coach_keith44; coaches; coaching; coahuila; coal; coast; coastal; coaster; coasts; coated; coates; cobes; cobra; cocaine; cochrane; cock; cockerelshoes; cockpit; cocky; cocoa; coconut; cod; code; codemew; cody; codycarnes; codythompson25; coerced; coercion; coffee; coffees; coffeeshop; coffins; cognitive; cognizant; coiffed; coil; coils; coincide; coke; col; cold; colder; coldmpress; cole; coleslaw; colin; colinhoffman29; collab; collaborating; collapse; collapsed; collapses; collar; collateral; collection; collective; colleenmnelson; college; collegeradi; collide; collided; collideworship_; collins; collision; collisions; colluded; colnharun; colo; coloiccarnality; colombia; colombian; colombie; colon; color; colorado; colorectal; colored; colorlines; colour; columbia; columbus; column; com; combat; combined; combo; combust; comcastcares; comdev; come; comedy; comeeeee; comes; cometh; comfortable; comic; comics; coming; comings; comingsoon; comlg0vdbv; command; commas; commence; comment; commenters; commentes; commenting; comments; commerce; commercial; commercials; commission; commit; commiting; commitment; committed; committee; committing; commoditiesåêare; commodity; common; commonwealth; communicate; communication; communities; community; commute; commuters; comp; companies; companionship; company; comparison; compensations; compete; competence; competitive; competitiveness; competitor; complaining; complaint; complaints; complete; completed; completely; complex; compliance; compliant; complications; component; components; compound; comprehensive; compton; compulsory; computer; computers; comuiok3mp; comunidad; comus; con; concentration; concept; concern; concerned; concerns; concert; concluded; concludes; conclusions; conclusively; concord; concrete; concur; concussion; condemn; condemnation; condemning; condenses; condition; conditions; condolence; condos; conducted; confederate; conference; confesses; confidential; confirm; confirmation; confirmed; confirms; conflict; conflicts; confused; congestion; congrats; congratulations; congress; conklin; connecticut; connection; connections; connecto; connector; connects; conning; connormidd; conscience; consent; consequence; consequences; conservation; conservative; consider; considering; consistent; conspiracy; constant; constantly; constitute; construct; construction; consumes; cont; contact; contactsimplenews; contain; contained; container; contemplating; content; contentmarketing; contest; context; contig; continually; continue; continued; continues; continuing; contoocook; contr; contractor; contrast; contrasts; contributions; contributor; contries; control; controlled; controllers; contruction; convene; conveniently; conversation; conversations; conversing; convert; cook; cookie; cool; cooler; coolest; cooling; cools; cooool; cooper; cooperstown; cop; copa; copalibertadores; cope; copenhagen; copies; coping; copped; coppednews; copper; copperfields; cops; copycat; coquitlam; cor4; coral; corals; cord; core; corey; coreyashe; corii; cork; corleonedaboss; corn; corner; corners; cornwall; corona; corp; corpse; corpus; correct; correcting; correction; correlate; correspondent; corruption; corsicana; cos; cosme; cosmetic; cosmic; cosponsor; cossack; cost; costa; costlier; costly; costs; cote; cottage; cotton; couches; cougars; could; couldn; council; councilscc; counselor; counselors; count; countermoonbat; counting; countless; countries; country; county; countynews; couple; couples; courage; course; coursing; court; courtlizcamp; courtney; courts; cousin; cousins; cove; coventry; cover; coverage; covered; covering; covers; cow; cowboys; cowgirl; cowgirllawyer; coworker; cows; coya; coyotes; cozmo23; cp7c1ch0zu; cpanel; cpeqv52lna; cplyrewfz3; cpqgufzb28; cpr; cpt; cq7jj6yjfz; cqlm9jojop; cqyvfr4ucy; cr; crack; crackdown; crackedgem; cracker; crackin; cracking; cracks; craig; cramer; cramming; cramp; cranboonitz; crane; cranes; crap; crash; crashed; crashes; crashing; crater; crato; crawling; crayford; craykain; crayons; crazier; crazy; crazydoctorlady; crazyideascollege; crazyindapeg; crazyweather; crbzfz; crcn8rwvkj; cream; creamfields; create; created; creates; creating; creation; creationmin; creationsbykole; creativity; creatures; credentials; credits; cree; creek; creel; creeper; creeping; crematoria; crept; crescent; crew; crews; cri; cricket; crickets; cried; cries; crime; crimes; criminal; criminals; crimsonfuckingv; cringes; crippling; criscyborg; crisis; cristianinspire; cristiano; critical; croat; croatian; crobscarla; crockery; crocodile; crooks; crosed; cross; crossed; crosses; crossing; crouch; crowd; crowds; crowdtappers; crowe; crown; crowned; crowns; croydon; croydonization; crptotech; cruces; crude; crudes; cruise; crumbling; crusade; crush; crushed; crushes; crushing; crusty; cruz; cry; cryibg; crying; cryptic; crystal; cs; cs8myauna4; csaresu; cspan; cspanwj; cst; cstsmith; csx; csxvwxuz6t; ct; ct9ejxolpu; cta; ctafails; cte; cth; ctijdpxabk; ctr; cts; cty; cuana; cuban; cubc0nq6fd; cubdnsnuvt; cubs; cubstalk; cubze5mizm; cucks; cuddlesforjen; cuddling; cudkryuuan; cue; cuernavaca; cuffed; cuffs; cufgvupkzi; cufi; cultivating; cultsierre; cum; cumberbatch; cummerbund; cumming; cumshot; cunayyh; cunts; cup; cupcake; curb; curda; cure; curfew; curiosity; curls; currency; currensy; current; currently; curry; cursed; curtain; curved; custer; custom; customer; customers; customized; customs; cut; cute; cutekitten; cuties; cuts; cutting; cuvkf5ykax; cuz; cvhygwcbzv; cvjyml7krm; cw500; cw_hoops; cwcvbubs01; cwm0ulqu3e; cwz37lndvk; cwzhgezaj4; cx6aupnemu; cxb55h37jn; cxdjapzxmp; cxi82rfifs; cy0ciu2u1c; cy1lfenyv8; cybksxhf7d; cycling; cyclist; cyclists; cyclone; cyclone_reizei; cydia; cyhitheprynce; cykr4xaluh; cymru; cypress; cyprus; cyu8zxw1oh; cyv2zg935g; cyzlshlqhg; czallstarwes; czbamzq3gl; czdw8oowa2; cznxhutasx; czpdn9obit; czqr3ci9xw; czwjw4uv7i; d02sbm0ojs; d12r8xpshy; d1ff3r3nt1sg00d; d1vjoyg52a; d3p88xdlec; d7m9kgmpji; d7zxz42qw1; d8awx2okke; d_pagexxi; da; da9lzton1c; daalpenzp0; dabbed; daborsch; dacherryontop13; dad; daddy; dadz5zfo1g; daesh; daewony0406; dagens; daggers; daily; dailykos; dailytimesngr; daisy; daisycuttertz; dakota; dakounty; dal; dalailama; dalinthanelan; dalkeith; dallas; dalroy; dam; damage; damaged; damages; damaging; damatu; damaturu; dambisa; dame; damidnighter; damiengayle; damn; damnnnn; damp; damsels; dan; dan0gkx28l; danagould; danbury; dance; dancefloor; dancer; dancers; dances; dancing; danger; dangerous; danharmon; danhrothschild; dani_riot; daniel; danielkemp6; danielle; daniels; daniglasgow45; danisnotonfire; danny; dannyjohnjules; dannyoneil; dannyonpc; danryckert; dante; dantmatrafajlo; danville; daorcey; daplllfuqk; dappar; dapurplesharpie; daqszzubub; darchambau; dardanelle; dare; daretotaha; dark; darken; darkhorsecomics; darkness; darkreading; darlington; darnley; darrellissa; darryl_brooks; darrylb1979; darsena; dart; dartmouth; darude; darwinism; dat; data; date; dates; dateswhitecoats; dating; datingtips; daubt; daughter; daughterofnai; daughters; daughtery; dauntedpsyche; davao; dave; david; david5fernandez; david_cameron; david_hurn; davidlabrava; davidolszak; davidvonderhaar; daviesmutia; davis; davison; day; days; dayton; dazqamoo0c; db5; dbaujp29ub; dbdwtocgxf; dc; dccc; dccomics; dcdecfv934; dcfd; dchfpxgy2m; dcubecrafts; dcyyjvmxhr; ddhwori5w1; ddos; ddr0zjxvqn; dduxthvvnr; de; deactivate; deactivated; dead; dead_dreamer15; deadend; deadgirltalking; deadgrassandflowers; deadliest; deadly; deafening; deai; deal; dealbreaker; dealer; dealing; dealings; deals; deals_uk; deans; dear; dears; death; death2usa; deaths; debacle; debate; debatequestionswewanttohear; debbie; debris; debt; dec; decades; decals; decatur; deccgovuk; deceased; december; decent; decide; decided; decision; decisions; decisionsondecisions; deck; decks; declaration; declared; declares; declined; deco; decomposition; deconstruct; decor; decorating; decoration; decree; dedicated; dedication; deductible; dee; deeds; deejayempiresound; deep; deezercolombia; def; default; defeat; defeater; defeats; defective; defence; defend; defendant; defendbutera; defender; defending; defense; defensenews; defined; defines; definite; definitely; definition; defj7xekgx; deflategate; defs; degree; degrees; dehmym5lpk; dehydration; dei; del; delany; delaware; delay; delayed; delays; delete; delhi; deli; deliberately; delicious; deliciousvomit; deliver; delivered; delivers; dell; delmont; delphi; delta; deltachildren; deluge; deluged; delusion; delusions; deluxe; dem; demand; demco; demeanor; demetae12; demi; democracy; democrat; democratic; demolish; demolished; demolishes; demolition; demolition_d; demon; demoness; demonization; demons; demonstratio; demonstration; dems; den; denali; denial; denied; denier; denies; denim; deniseromano; denmark; density; dental; dented; denton; denver; deny; denying; department; departments; dependency; depends; deploy; deployed; deployments; depot; depreciations; depressing; dept; depth; deputies; deputy; der; derail; derailed; derailed_benchmark; derailment; derails; derby; derbyshire; dere; derivative; derivatives; derives; derma; des; descendants; describes; describing; description; descriptions; desde; desecrates; desert; deserve; deserves; design; designed; designer; designs; desire; desires; desk; desolate; desolation; despair; desperate; desperation; despite; destiel; destination; destinationimpact; destined; destiny; destinythegame; destroy; destroyd; destroyed; destroyer; destroying; destroys; destruction; detailed; details; detained; detains; detectado; detectors; determined; detersion; detkenlang; detonate; detonated; detonation; detroit; detroitnews; detroitpls; deutsch; devalue; devastated; devastates; devastation; develop; developer; developing; development; devereaux; devffptcvj; devi; devia; device; devil; devinjoslyn; devise; devon; devon_breneman; devote; devours; devpeace; devybnvxgq; dey; dfir; dfr; dfyasvj7nf; dfyrppzkpu; dg0bgzecgm; dgatkrdyny; dgbeh5l9ds; dgelj8ryt9; dggm5b0w4l; dgkmueoaxz; dh0s4buuk7; dh30000; dhaka; dhalgren; dhambp54ya; dhgavw8bsw; dhggxo7mcc; dhs; dhyljllrhl; di; di5arr6hq6; di8elzswnr; diablo; diageo; diagnosis; dial; dialta6t69; diamond; diamondkesawn; diamondville; diaries; diarrhea; diasporas; dibang; dice; dick; dickheads; dickson; dicky; dictator; did; didn; didnt; die; dieanpink95; diebold; died; diego; dies; diesel; diet; diff; differ; difference; different; differently; difficult; difficulties; difficultpeople; difficulty; diggin; digging; digit; digital; digitalhealth; digits; dignity; dih1tgqhej; dijk; dil; dilawri; dili5jhmur; dill; dilute; dilyvrowyj; dimapur; dimension; dimensions; dimitri; dina; dinner; diobzghfju; diplomacy; diplomat; dire; direct; directed; directing; direction; directioners; directions; directly; director; directors; diretube; dirk_trossen; dirt; dirty; dirumah; dis; disabledveterans; disagreements; disappear; disappearance; disappeared; disappearing; disappears; disappointed; disappoints; disarmed; disaster; disasterrecovery; disasters; disclaimer; disclos; disclosed; disco; disconnected; discount; discovered; discovery; discoverycntr; discuss; discussed; discusses; discussing; discussion; disea; disease; diseases; disfigured; disgrace; disgusting; disillusioned; dislike; dislocation; dismantling; dismayed; dismissed; disney; disneyirh; disneyland; disorder; disorders; disowned; disowns; dispatch; dispatchers; dispensary; dispersed; displaced; displaces; display; displeased; dispute; disrupted; disruptive; disrupts; disrwhqgym; diss; dissertation; dissonance; dissuaded; distance; distinct; distraction; distress; distributed; district; disturb; ditched; ditto; div; diverse; diversification; diverted; divestitures; divided; divine; diving; division; divisions; dix; dixie; dixon; diyala; dj; dj1lwznieh; djcoreygrand; djeddygnj; djicemoon; djiglobal; djiwg9pxv4; djjohnblaze; djknyce; djoneplustwo; djryanwolf; djx5elbrv1; dk; dknlznom6n; dkozymvy5l; dl; dl60ja06tw; dlaub2nvtn; dlc; dlgnuuuuyn; dlh; dlizfkk30y; dlkuftlqnf; dloesch; dlp8kpkt2k; dlvyfvnqee; dlvzaay7qr; dly6ruusqk; dm; dm0uupqgwy; dmac1043; dmassa5; dmb6xp966d; dmd; dmlj1agotw; dmsnyptscy; dmt; dmtab6g7j7; dmtzmgyrik; dmv; dn5buo7gsk; dna; dnb; dnbheaven; dnj_com; dno7qxcffh; dnu5hwsxo2; dnwwo1ybrk; do; dobzc3pitm; doc; docker; docks; doco; doctor; doctordryadma; doctors; document; documentary; documenting; documents; dodge; dodxi41y1cåêis; doe; does; doesn; doessnt; doflamingo; dofrh5yb01; dog; dogger; doghouse; dogs; doing; dojo; doll; dolla; dollar; dollars; dolls; dolphin; dom; domestic; domesticate; dominance; dominant; domination; domingo; dominicana; don; donald; donate; donation; done; donington; doningtondash; donnelly; donnie; donny; dont; donzilla; donå; doomsday; door; doors; dope; dopey; doping; dorado; dorette; dorling; dorman; dorret; dorrian; dorrie; dorset; dot; dothraki; double; doublecups; doubleghats; doubt; douchebag; doug; dough; dougkessler; dougmartin17; down; downfall; downing; download; downright; downside; downstairs; downtown; doylech; dozen; dozens; dp; dq; dq1ylcrf9k; dq3ddgvgbf; dqsvyusy; dqtmtpqmbr; dqxkjibbky; dr; dr_baseball41; dr_johanfranzen; draenor; drag; drag0nking0201; dragneel; drago; dragon; dragonvale; drain; drained; drains; drake; drako; drama; dramaa_llama; dramatic; drank; dratomic420; dravet; draw; drawing; drawn; drayesha4; drbcrypj4p; drculiyp0t; drdrewhln; dream; dreaming; dreamoforgonon; dreams; dreamy; dreamz; dredougie; dreieich; dren; dress; dressed; drewscanlon; drewwtaylor; drfkarlz1d; drfriedencdc; dried; dries; drift; drifting; drill; drink; drinkers; drinking; drinks; drive; driven; driver; drivers; drives; driving; drjustinmazur; drno7okm21; drob; droid; drone; drones; drool; drools; drop; droppd; dropped; dropping; drothvader; drought; droughtgov; droughtmonitor; droughts; drove; drown; drowned; drowning; drowns; drphil; drrichardbesser; drug; drugs; drum; drumming; drummond; drumpf; drums; drunk; drvm8isote; drvox; dry; dryer; drying; ds; ds76lozlsu; ds9khkffwc; dsb3ldfuxu; dserialpcilp; dskui6mmgl; dtfswnjzil; dtn; dtop77; du19; dual; dub; dubai; dublin; dubloadz; dubstep; duck; ducks; duckvillelol; duda; dudairbbpo; dude; dudes; dudetown; due; dugout; duh; dukes; dum; dumb; dumbass; dumbfounded; dumle; dummies; dump; dumping; dumuzid; dunbar; duncan; dundalk; dundas; dundee; dune; dungeon; dunking; dunmvj7itl; duo; durability; durand; durant; durban; durban_knight; durham; during; durrellb; durvod; dust; dustinbrowder; dustpig; dustpiggies; duststorm; duststormfilm; dutch; dutton; duty; duval; duvuzhmvut; dv4mmlso1i; dvc; dvd; dvieablofz; dviyer; dvonwiv3l1; dw; dw_english; dwarfonjetpack; dwarves; dwbc1duvdk; dwight; dwilliams313; dwu8qqys0v; dxfqou4kt2; dxirntdsrd; dxvtgi1bvo; dxwfx56pwh; dyamiplotke; dyannbridges; dydfvz7amj; dyersburg; dying; dylanmcclure55; dynastic; dynasty; dysfunctional; dystopian; dywwnbbyvj; dyy7ml2nzj; dzafic_haris; dzlense1gw; dzlpnp399x; e0lugbl6pb; e0pi0c54ff; e0uusnpsq5; e1; e14epzhoth; e1kbludwh5; e1vkc2efst; e1wrvyzfkv; e2dbcpwd9u; e2hltyyfak; e2wgreicmz; e3l1jqjh2u; e4qonkzndz; e4wk8uri8a; e61x9y65qd; e65v80fcus; e7fn5g5ruu; e7shtylbnl; e84ifmcczn; e8dl1lncvu; e981dgskab; e9d9lk5fdw; e9yfe3p7p1; eaaqumkkc9; eac4au; each; eagle; eagles; ear; earbuds; earl; earlier; early; early__may; earn; earned; earners; earonlwifh; earrings; ears; earth; earthling; earthquake; earthquakenews; earthquakes; earths_voice; earthtwerk; easier; easily; easlgea1b7; east; eastatlanta; eastbound; eastcarolina; eastern; easternoregon; eastlake; easton; eastward; easy; eat; eaten; eater; eatfro3d5x; eating; eaton; eau; eaubonne; eb; ebay; ebb; ebola; ebooks; ec46lyqqc6; ecd7hizja1; echoes; ecmj18azai; ecmujkkqx1; eco; eco11c; ecology; econom; economic; economically; economics; economies; economy; ecsu16; ect; ecuador; ed; ed1vpitswy; ed32pbvio7; edappally; edcxo; eddie; eddyville; edekrmqtpq; eden; edfringe; edinburgh; edison; edit; editaxohaze; edition; editor; editorial; edk; edm; edmonton; edmund; edt; education; edward; edwards; edwin; edyfo6e2pu; edznx6goud; ee; ee8rpoahpk; eeasterling_2; eeenice221; eeewo207mx; eejrmktj0r; eelex4ssvf; eep; eerkh8ljws; ef; ef4swp9sxz; efak; efcn9ivnfg; effect; effected; effectiveness; effects; effort; efforts; efkcoegjck; eg1fskqbv6; eganator2000; egcv7ybjae; egg; eggalie; egged; eggs; ego; ego_resolution; egyfnlaoqv; egypt; eh; eheks; ehgtzhkan4; ehklp12yip; ehlq3zsptd; ehomn68ojb; ehsfklgri3; ei9x4h8thm; eic; eight; eighty; eileenmfl; einsqs8tfq; eisenhower; either; ej2ghnafhy; ej30ihrea9; ejaculating; ejkrf8n8a8; ejymkzpeex; ek6kyhxpe9; ekfaz6wvbz; ekiti; ekwtihlwuf; el; el_torro_loco; elation; elbow; elchilicitanierraversal; elderly; eldoret; elecman; elect; election; elections; electr; electric; electrical; electricity; electro; electrocute; electrocuted; electronic; electronicmusic; electrostatic; elem; element; elementary; elena; elephant; elephantintheroom; elephants; eles_kaylee; elevated; elevation; elevator; elgato; elianaraquel; elielcruz; elijah; elijahmallari; eliminate; elisagxrcia; elite; elitesportsny; elitist; elizabeth; elk; elkhart; elkhorn; ell; ellenfromnowon; ellensburg; ellie; elliott; elm; elsa; else; eltne5v1qn; elven; elvis; elvy; elxn42; ely; em; em5opytbpg; emaaalay; email; emailed; emails; embarrassed; ember; emblem; embra; embrace; embraced; embroidered; emdjnnltp0; emerg; emergency; emergencymgtmag; emerges; emhub; emi; emiiliexirwin; emile; emilee; emilio; emiliorivera48; emily; emily4everever; emirates; emittin; emmerdale; emmy; emmychappy; emo; emosrmuvqa; emotion; emotional; emotionally; emotions; emperor; empire; employed; employee; employs; emporia; emptive; empty; emrzicb004; ems; ems1; emsc; emsne; emts; emtwirknyq; emvohm9m6j; en; enabled; enablement; enabling; enacted; enca; encaustic; enclave; encmhz6y34; encoded; encounter; encouragement; end; endangered; ended; enders; ending; endless; endlessly; endorsement; endorsements; endorses; ends; endures; enduring; enemies; enemity; enemy; energy; enews; enfant; enfield; engage; engaged; engagement; engine; engineering; engineers; engines; engineshed; england; engle; englewood; english; engulfed; engvaus; enhanced; enjoy; enjoyed; enjoying; enniscrone; enolagay; enormous; enough; enpjcfma8l; enqgtbaxuj; enrjh5qkve; enroute; enrpgrgtts; enrt; ensued; ensuing; ensure; ensuring; enter; entered; entering; enterprise; entertainment; entire; entitlement; entity; entrepreneur; entretenimento; enugu; enviromental; environment; environmental; envision; envw98; envyseven; eo2f96wxpz; eonlinechat; eovm; ep; ep016; ep03; ep18; epa; epabinczmj; epcotexplorer; epex4axg4b; epic; epic_insanity; epicenter; epicentre; epidemic; epidemics; epilepsy; epileptic; episcopal; episode; epjjkb4be9; epl; epoch; epsom; epzgg4uqji; epzwaseyky; eq; eq4rxc9bb3; eqccrtlnbd; eqdm2opybg; eqjcpwilvn; equal; equalizer; equally; equate; equestrian; equipment; equipments; er; era; erally; erasuterism; ercjmnea; erected; ergo; erie; erinmariefishy; eritrean; erker; err; error; errrr; eruption; eruzbuqzyu; erws6ieldg; erykah; erzurum; es; escape; escaped; escaping; escondido; escorts; esemjrn5cc; esh; esk4yvzvap; eskisehir; eslovenia; esn; esp; espagne; espargaro; espaì; especially; espn; espn2; espoo; espì_rito; esrkmazeq9; essenceofme; essex; essexweather; est; establishment; estados; estate; estates; esteem; esteemed; estellasrevenge; estimate; estimated; estimates; eswnsetftf; et; etc; etdgpiwxti; eternity; ethereal; ethiopian; etisalat; etitgpsrun; etkd58un8n; etoffe; etp; etribune; etswuod3om; etyzy8gb2a; eu; eu8jypizsd; eudwnfyuem; eug6zhciun; eugene; eujgu1hvvx; eur; eureka; euro; europe; european; eurotunnel; evacuate; evacuated; evacuating; evacuation; evacuations; evade; evaded; evahanderek; evanston; evansville; eve; evebrigid; even; evening; event; events; eventspalmbeach; eventually; ever; everest; everett; evergreen; eversafe; everton; everwhe; every; everybody; everyday; everydaynaija; everydaynigerian; everyone; everyones; everything; everytime; everywhere; evidence; evil; evilempire; evolve; evolved; ew5wzc07fo; ewa; ex; ex4fnjjl6h; ex6jzqj3ni; exacerbated; exact; exactly; exam; examiner; examining; example; exc; excellence; excellent; except; exceptional; exceptionally; exchange; exchanging; excited; excitement; exciting; exclamation; exclusively; excuse; excuses; exdbcx4gcr; exec; executing; executives; exercise; exercised; exercises; exhausted; exhibition; exhibitor; exil1bkzmp; exist; existence; exit; exited; exitlxgisj; exits; exo; exofficio; exp; exp0sed; expand; expanded; expander; expansive; expect; expected; expecting; expenses; expensive; experience; experienced; experiences; experiencing; experimental; experiments; expert; experts; expirehc; explain; explaining; explains; explanation; explicitly; explode; exploded; explodes; exploding; explodingkittens; exploit; exploration; explores; explosion; explosions; explosive; expo; exponential; exposed; exposes; exposure; express; exquisite; exsqijf4ny; extend; extended; extender; extends; extension; extensive; exterminate; external; extinction; extinguished; extra; extract; extraordinaire; extreme; extremely; exum; exyr6c5qpu; exznmxbinj; eydapaupvg; eye; eyecuts; eyefacts; eyes; eyesss; eyevziopg1; eyewitness; eyr2xx5l1p; eysvvza7qm; eytay; ezbtg81trz; ezeisasm0c; ezralevant; f1bakpnyn6åê; f1tcbg1mki; f2tqmfh1yb; f496d; f4lhfmehzh; f4xnplio5s; f56v61ampt; f5miuhqaby; f7a66diiyk; f7ljwxj5jp; f8gvwkfqox; f9j3l2yjl4; fa; fa07af174a71408; faan; fabric; face; facebook; faced; faces; faceåê; facilities; facility; facm78eg7k; fact; faction; factor; factors; factory; facts; factsheet; factual; faculty; fadc; fadelurker; fahlo; fail; failed; failure; failures; faintly; fair; fairfax; fairfield; fairgrounds; fairie; fairly; fairy; faith; fake; faked; fakefams; falcon; fall; fallacy; fallen; falling; falls; falmer; false; fam; fame; familia; familiar; families; family; famine; famineåêmemories; famous; fan; fanarmyfaceoff; fanbase; fanboys; fandom; fanged; fangirling; fans; fantastic; fantasticfour; fantasy; fantosex; faogxkwdpg; faq; faqnfupegn; far; farce; farewell; farm; farmers; farmland; farms; faroe; farrakhan; fart; fartanxiety; farther; farts; fascinating; fashion; fashionable; fast; faster; fastest; fastings; fastpitch; fat; fatal; fatalities; fatality; fatality_us; fatally; fate; father; fathers; fau; faulty; faux; fav; favor; favorable; favorita; favorite; favorited; favorites; favs; fayetteville; fazbears; faze_rain; fb; fb8snrg4hu; fbi; fblnifda1c; fc3bxrthpg; fce0k1ihti; fcfpijiqt5; fci; fcixk23xqh; fcqmkffflw; fct; fctrawjcyl; fcujsioyqo; fd; fd9dzspugk; fdbdp; fdiu44jldj; fdjuyvzmrv; fdsaooiskj; fdx; fdxgmiwaeh; fe; fe9hivfmxq; fear; feared; fears; feast; feat; featured; features; featuring; feb; fed; federal; fedex; fedporn; feed; feeding; feeds; feel; feelin; feeling; feelingmanly; feelings; feels; feelslikefob; fees; feet; feikc9fxed; feinstein; fel; fel4qhwyfd; fell; fella; felons; felt; fem; fema; female; feminist; feminists; femnism; fence; fences; fennovoima; fentanyl; fenton; fergie; ferguson; ferno; ferrell; ferriby; ferries; ferry; festac; festival; fetch; fettilootch; fever; fevwarrior; few; fewmoretweets; fez; ffa; ffkcj8pfj2; ffnzit7kgn; fforecast; fftokd0vts; ffvii; fgcu; fgdeh56plo; fhkhcqpl7j; fhvokmphed; fi; fiasco; ficd5qbqwl; fiction; fidayeen; fiddle; fide; fidem; fieg; field; fieldstone; fiendnikki; fierce; fifa16; fife; fifth; fifty; fight; fighters; fightin; fighting; fights; fightåêterrorism; figure; fijapxykrq; fiji; files; filipino; fill; filled; filling; film; film4; filmed; filming; filmmakers; filter; final; finale; finalise; finall; finally; finance; financial; financing; find; finding; finds; fine; finger; fingers; finish; finished; finishing; finite; finland; finn; finnish; finsup; fiona; fionagilbert_; fiore; fir; fire; fireball; fired; firefighte; firefighter; firefighters; firefighting; firefightr; firefigthers; fireman; firemen; firenews; firepower; fires; firetruck; firewise; firework; firey; first; firstpostin; fish; fisher; fishing; fist; fit; fitba; fitness; fits; fittscott; fitz; fitzgerald; five; fix; fixed; fixing; fiya; fizz; fizzy; fj7kcrlir7; fjddx43ewj; fjdm8qhyai; fjeafgbzfj; fk1l4nozig; fk1vyh5qlk; fkd1mbtb68; fkfa9vsssz; fkn; fkqjy3ezyg; fkxcsztezb; fl; fl8gci84aj; fla; flag; flags; flakes; flame; flames; flamethrower; flaming; flared; flash; flashbacks; flashflood; flat; flatback; flatliners; flattened; flatts; flavorchargedtea; flavored; flawless; flaws; flechadas; flee; fleeing; fleek; fleet; fleets; fleetwood; flesh; fletcher; flew; flex; flg; flgovscott; flickershowell; flight; flightcity; flights; flint; flip; flipadelphia; flipped; flips; flo8fgy35a; float; floated; floatin; flood; flooded; flooding; floods; floor; floorburnt; floors; flopping; floral; florence; florid; florida; flour; flow; flow397; flower; flowers; flowri; floyd; flqxd3q5py; flsa8mldsn; fluffy; fluid; flunkie; flush; flushes; flushing; fly; flyest; flying; flynn; fm; fmu0fnumxf; fn; fnaf_talkmc; fnmje8gf7m; fnpdjwvw1j; fntg70rnkx; focus; fog; foiled; fold; folding; foliage; folieacat; folk; folks; follow; followback; followed; follower; followers; following; followme; follownflnews; follows; followurdreams; fond; fonts; foo; food; foodborne; foods; foodscare; foodstand; fool; fooled; foolish; fools; foot; footage; football; footballs; footed; foothill; for; forbath; forbes; force; forced; forces; ford; foreboding; forecast; foreclosed; forefathers; forehead; foreign; foreman; foreskin; forest; forever; forex; forfeiting; forget; forgive; forgiven; forgiving; forgot; forgotten; form; format; formation; formed; former; formerly; forms; formula; forreal; forrest; forrestmankins; forsure; fort; fortaleza; forth; fortunately; fortune; fortworth; forward; fossil; foster; foto; fotofill; fought; foul; found; foundation; founder; founding; fountain; four; fourth; fousey; fouseytube; fowlers; fox; foxa; foxdebatequestions; foxnew; foxnews; foxsportscom; foxtrot; foxy__siren; fp64yosjwx; fph01u3eii; fphfesemyj; fpine; fpjlwoxklg; fpkiqbus9r; fprt7nwrot; fqcdphccg7; fqj0squ3lg; fqj5aga1pd; fqmyprlg9g; fqqi8gvlq4; fqsk7qcawo; fqv47ob8ge; fr; frackfree_eu; frackfreelancs; fraction; fragile; fragrance; frail; frame; fran; france; francisco; francisunderwood; frank; frankie; frankivsk; franklin; frankly; frascati; frat; fraud; frautrapani; freak; freaked; freakiest; freaking; freaky; freddie; freddiedeboer; freddy; frederick; fredericksburg; fredonia; fredosantana300; free; freeallfour; freeamirnow; freebesieged; freebitcoin; freed; freedom; freefromwolves; freegucci; freeing; freelancer; freeman; freemurphy; freeport; freesikhpoliticalprisnors; freespeech; freestyle; freestyles; freeview; freeway; freeze; freezing; freiza; fremont; french; frenzy; frequent; frequently; fresh; freshly; freshman; freshness; fresno; freud; freyas; fri; fricken; frickin; friday; fried; friedman; friend; friend50; friend59; friendly; friends; friendship; friendswood; friggin; frightening; frisco; frkodestuk; frobeus_ns; frofrofro; frog; from; front; frontline; frontlines; frontpage; frost; frostburg; frothy; froze; frozen; frp; frpbnhvpyi; fruit; fruits; frusciante; frustrated; frustration; frvrgrateful; fs012trudg; fs4y1c9mnf; fsc; ft; ft7orfa52y; fte; ftm4rkl8mn; ftunlh6ddg; ftw; fu1btuq1et; fuck; fucked; fuckface; fuckin; fucking; fucks; fuckyeahcarey; fucoqhclad; fuddy; fuel; fueled; fueling; fuels; fuerk0gwui; fukuoka; fukurodani; fukushima; full; fullscreen; fully; fun; function; fund; fundraiser; funds; funeral; funkflex; funko; funkylilshack; funny; funnydadcoach; funnynews; funtenna; funtua; fur; furiosoxv; furious; furst; further; furtrix; fury; fusion; fuso; future; futurea; fvck; fvck_casper; fven1ex0ps; fvlgu1nayr; fvp3wnid4l; fvr9jdq71a; fvyrwhux8p; fvzsgjtbew; fw1ptaelgv; fw2xifj6ec; fw8elbnap7; fwd; fwo; fwpof5twoc; fwqfckncqw; fwup9yurzy; fwy; fx; fx0w2sq05f; fx7uzzxte4; fxdh3u8bq3; fxtffl4axy; fxux987vzx; fy0r9o7xsl; fyi; fyioqvioif; fyjwjdkm5i; fylde; fymp4i2wp5; fz1haej255; fz5ew4ihmb; fz8ytwqkwv; fzhjf8bxld; fzujg7sxjg; g03dkpoonp; g0dn1chluo; g0hsyh7yav; g0q0bzbjli; g0r3zr1nqj; g1bwl3dqqk; g1nw99yj8u; g20; g2uimbekge; g3; g37hujx6et; g38y8h1tjt; g5do2x6226; g5zsru0zvq; g62txymzbv; g7; g7s34sw2am; g891m9gh4r; g90; ga; ga14egplw9; gabon; gaborone; gabriel; gadget; gadgets; gaffney; gag; gages; gaheujruju; gail; gailsimone; gain; gained; gainesville; gaining; gains; gajtugaui7; gal; galactic; galapa; galatians; galaxy; galicia; galifianakis; galleria; gallifrey; gallipoli; gallup; galveston; galvnews; gam7otgisw; game; gameday; gameinsight; gameofkittens; gameplay; gamergate; gamertag; games; gaming; gamma; gan14pw9tg; gander; gang; gangsta; gansey; ganseyman; gaotrg4mtr; gap; gaping; garbage; garden; gardens; gards; garfield; gargoyle; gargron; garner; garowe; garrett; garrison; gary; garza; gas; gasoline; gasp; gasparc; gasping; gassymexican; gastric; gate; gateau; gates; gauze; gave; gawx; gay; gayler1969; gaynor; gays; gaza; gazans; gazette; gba; gbay99; gbbo; gbcvvevdty; gbepdi0wzt; gbluhrrlto; gbonyin; gbqtc7sp9c; gbrnulp3fh; gbvdnczjou; gc; gc0udfnfgg; gcc; gd; gdjtzkpchk; gdrssjbh8q; ge; ge0yd3mkav; gear; gearing; gears; gecko; gedoxsppl9; geeknwjjsz; gel; geller; gem; gemini; gemma; gemmahentsch; gemmasterful; gems; gemstone; gen; gene; general; generally; generalnews; generation; generational; generic; generous; geneva; genisys; genius; genocide; gentle; gently; gentrification; genuine; geometric; george; georgecole; georgefoster72; georgia; georgous__; geotech; geqkdao4cv; gerenciatodos; gerjau74ey; german; germany; germs; gerryconnolly; gesserit; gesture; get; gets; gettin; getting; geu4h46csz; gevrmbvznb; gexhzu1vk8; geysers; gf; gfdhfmpcel; gfe; gfs7usulgq; gfz; gg; gg0dzsvbz7; gg_keeponrockin; gghfx8pzmh; ggindependencmessage; ggnbvzohwu; ggtmdquddo; gh; ghana; ghghqm9e6d; ghmmuj7gbe; ghost; ghosts; ghostwriter; ghostwriting; ghoul; ghul; gi2p9tuvbi; gi82n2juwn; gia; giannis; giant; giantgiantsound; gibraltar; gid6jqn8ug; gideonstrumpet; gidi; giesomgwtr; gif; gift; gifts; gig; gigagil; gigant; gigawatts; giggling; gigw51izpk; gilbert23; gilderoy; gilgit; gillibrand; gilmanrocks7; gilmoreguysshow; ginga; giorgio; girl; girlfriend; girls; gis; gisuserpr; give; giveaway; givebackkalinwhiteaccount; given; gives; giving; gix1gaynxz; giyaad7dcc; gjbainqwn9; gjfd85vuf2; gk4unpznhn; gknrp0e8qs; gkye6gjtk5; gl3c1vc88p; gl4mcax0ny; gl6eejyjky; glacier; glad; gladbach; gladiator; glances; glanders; glasgow; glass; glassanimals; glasses; glaucoma; gleaned; glen; glendale; glenn; glenstannard; glided; glitch; glitter; gllawb2fsk; global; globalwarming; globe; glononium; gloomy; gloria; gloriavelez; glorious; glosblue66; gloucester; gloucestershire; glove; glpfu0uriz; glue; glwoakppjq; gm; gmail; gmcr; gmmbc; gmoul9zq2q; gms; gmt; gmtty; gn; gn3whnsfib; gne1fw0xhe; gnorijnsva; gnpstnvi5g; gns; gnwt; gnynjhne6j; go; go0hpi0b4c; go0pkrfzmf; goa; goal; goals; goat; goats; goblue; gobsmacked; god; godlike; godly; godof_mischief_; gods; godslove; goes; gofundme; going; goingdownthetoilet; gokitgo; goku; golborne; gold; goldstein; golf; golfball; gon; gone; goner; gonna; good; goodbye; goode; goodell; goodlook; goodluck; goodness; goodnight; goodreads; goof; goofballs; goofy; google; googlemaps; goonc1ty; goonda; gooneratheist; goooooooo; gop; gopdebate; gopsicp8bm; gordon; gordon_r74; gore; gorgeous; gorpuazikinak; gosh; goshen; gospel; gostei; got; got7supportph; gotham; gotriangle; gotta; gotten; goulburn; goulding; gov; govegan; govern; government; governments; governor; govjaynixon; govt; govts; govwalker; gpaulista5; gpbxrrdc07; gpcecp9khv; gpm; gps; gpv; gpvzv0249y; gqpi7jmkan; gqskwqzuul; gr; grab; grabakahitman; grabbed; grabbers; grabs; grace; grade; graduated; grahamwp; grains; grand; grandad; grande; grandeur; grandfather; grandma; grange; grant_factory; granted; grants; granttamane8; grapes; grass; grateful; gratia; grave; gravel; graveyard; gravitychat; gravitymovie; gravy; gray; graysondolan; graywardens; grazed; grc; greasy; great; greatbritishbakeoff; greater; greatest; greatly; greece; greed; greedy; greek; greeley; green; greenbuildermag; greenharvard; greenlacey; greenpoint; greensboro; greensburg; greenspace; greenville; greetingcards; greg; gregory; gregorysanders; greinke; grenade; grenades; grew; grey; greyjoys; grh7zlk979; grid; gridlock; grief; grill; grille; grills; grimrail; grindhouse; grit; grizzly; grlxurko8d; groceries; grogparty; groin; groningen; groom; gross; grossly; groton; ground; grounds; group; groupon_uk; groups; grove; grow; growing; growingupblack; growingupincolorado; grown; grows; growth; grrrr; grtvnews; grubbing; grudges; grummz; grumpout; grupdates; grzchkdf37; gs50ddg1jy; gs9bmplbhh; gscswyuupa; gskjqwyi2d; gsmddmu9pu; gt; gt7gf0fsex; gta; gted6ldwho; gtfo; gthddzavhg; gtxrwm; guabxfv; guaj2t910b; guaranteed; guaravitas; guard; guardian; guardrails; guayaquil; guelph; guess; guests; guide; guided; guild; guildford; guillermo; guilty; guimaras; gujarat; gulags; gulf; gulfport; gulls; gully; gum; gummy; gumptown; gun; gunfail; gunfight; gunfire; gunk; gunman; gunmen; gunned; gunners; gunnersfan89; guns; gunsense; gunshot; guo; gurgaon; gurion; gurmeetramrahim; gusramzp1s; gust; gusto; gusts; gusty; gut; guthrie; guvtizyche; guy; guy_reginald; guys; gv; gv84wnhb7s; gvaipmlsl0; gvd7fcx8iz; gvj7slbelp; gvm70u2bpm; gw0cxoojyv; gwalior; gwatt; gwersyllt; gwesgeszxv; gwfrazee; gwnlhneku9; gwsnbmmcqf; gx1otoh8sj; gx75w3q9ye; gx9skuau9j; gxe7nhwz3e; gxgm1t3w0j; gxq1auzb18; gxqwd1qzbd; gxyivswki7; gyh00mrkjm; gym; gyp; gypsy; gyqlaoz3l2; gyrsi; gz27audyha; gzekqwzijq; gzgpwsqymw; gzib0mawmn; gzmoblsjxu; gztolll5wo; gzxipmoknb; h01j9pirie; h09nydbzov; h132iul7mu; h1xch54kd3; h1xigcen7f; h20; h2o; h31knuwzz5; h3dch6fyaw; h3sxfv5mtc; h3vusqzyqo; h5epx2d1ga; h6amecx5k7; h6pm1w7ell; h6tyysgr30; h6z7hxuqtu; h9fsiaxv3q; h9vmmdebdx; ha; ha5boppejy; haaaaaa; haaretz; habit; habits; hack; hacked; hackers; hackney; hacks; had; haddonfield; hadn; hadnt; hagerstown; hah; haha; hahah; hahaha; hahahah; hahahaha; hai; haiku; hail; hail_youtsey; hail_zel; haildamage; hailing; hailstorm; hair; haircuts; hairdryer; hairy; haiti; haiyan; haji_hunter762; hakogaku; haley; haley_whaley; half; halfrica; halifax; hall; halloikbenwill; halsey; halt; halton; ham; hamas; hamayun; hamburg; hamilton; hamlet; hammersmith; hammock; hamont; hampshire; hampstead; hamptonroadsfor; hana; hand; handbag; handbags; handed; handicapped; handle; handled; handling; hands; handsome; hang; hangout; hank; hanna; hannah; hannahkauthor; hannaph; hannomottola; hannover; hanover; hao; haouz; hapa; happen; happened; happening; happenings; happens; happily; happiness; happing; happy; har; hara; haram; harassed; harassment; harbinger; harbor; harcourt; hard; hardball; hardcore; harden; harder; hardline; hardstyle; hardy; harlem; harleychick; harm; harms; harper; harperanetflixshow; harpurhey; harrisgle; harrowing; harry; harrybecareful; harshness; hartford; harvardu; harveymaine; harwich; haryana; has; hasbro; hashd; hashgqafic; hashtag; hashtags; hashtagteaclub; hasil; hasn; hassle; hastings; hastle; hat; hatchet; hate; hated; hating; hatman; hatred; hatteras; hatzolah; haunting; haute; hav; have; haveli; haven; havenford; having; havnt; havxobcsvu; haw; hawaii; hawaiianpaddlesports; hawthorne; hayden; haydnexists; haysville; hazard; hazardous; hazards; hazelannmac; hazmat; hbbgy2vzyt; hbdo22nqpz; hbhx0dwkpc; hbpnfoawii; hbwoivjqkd; hc6hzs4wsi; hcdiwe5flc; hcsm; hcwrk81p71; hcyajsacfj; hd; hdckeposqc; hddbmu2yca; hdumpty39; hdvmhsqxhm; he; he7q7h3nzf; hea; head; headed; header; heading; headline; headlinelike; headlines; headphones; heads; headset; heal; healed; healing; heals; health; healthandsafety; healthcare; healthweekly1; hear; heard; heared; hearing; hears; heart; heartbeat; heartbreak; heartdisease; hearths; hearthstone; heartland; heartless; hearts; heartwarming; heat; heated; heather; heathrow; heaven; heavenly; heavy; heavybag201; heavydirtysoul; heavyweight; heavyåêrain; hebron; hebrooon; hector; heebsterrr_; heels; hehe; heheh; heidia1438; heiekfchdm; heights; heiress; heirs; held; helder; helen; helene; helene_yancey; helens; heli; helicopter; helicopters; hell; hella; hellfire; hellfire_ev; hello; hellonwheelsamc; hellotybeeren; helm; helmet; helo; help; helping; helps; helsinki; hem; henderson; hendersonville; hendy_21; henley; henry; hensley; hep9k0xghb; her; here; hereticofethics; herman; hermancranston; hermitage; hermosa; hero; heroes; heroin; heroine; herring; hers; herself; hertfordshire; hes; hexagon; hey; heyimginog; heyitsepark; heyot6; heyseto; heywood; hfgjgfgfel; hfvnyft78c; hfxstanfield; hfzk09mcen; hgb1mc3irk; hgdrk81sn4; hgedwxtdjn; hgf52611; hhahaha; hhbu; hhllqckcep; hhpvpael4n; hhpvsatqxn; hhs; hhtwayt4yo; hhwv0eudfv; hhzql9tznp; hhzy3oqela; hi; hiatt; hibdw7d7ja; hibernating; hidden; hide; hideous; hienshi; hieroglyphics; high; higher; highest; highland; highlands; highly; highqualitybird; highsmith; highway; hijack; hijacker; hijacking; hijinks1967; hikdc1fm2f; hike; hiker; hil; hilarious; hilary; hilda; hill; hillary; hillarymass; hills; hillside; hilton; him; himalayan; himalayas; himeruisu; himself; hinata; hinatobot; hindhede; hindsight; hint; hinterestin; hinterestland; hinton; hints; hip; hippie; hipster; hipsters; hired; hiring; hiroshima; hiroshima70; hirsch; his; hisao; historic; historical; history; hit; hitch; hitchhiking; hits; hitters; hitting; hixon; hj26sfddfi; hk9yf72ova; hkbxxvd9iw; hkm3rtd4zf; hksbmijqz1; hkxfymhex; hkxyzhvmqe; hld5xlywbn; hlg; hlmyaanrc9; hlyhdfwsqb; hmm; hmmm; hmrt98oydj; hmrtqeykyi; hmu; hmwhob7prs; ho; hoax; hobbit; hobby; hobo; hoc; hockey; hoe; hoenn; hoes; hoffman; hogging; hogsmeade; hogwarts; hoisting; hold; holdin; holding; holds; hole; holed; holes; holiday; holidays; holistic; holland; holly; hollyorange8; hollywarnexx; hollywood; holmgren; holodomor; holomua; holt; holtz; holy; home; home2; homealone2; homebuyer; homecoming; homefolks; homeimprovement; homeland; homeless; homemade; homeowners; homepage; homers; homes; hometown; hometownglory; homeworldgym; homicides; homie; homies; homosexuality; homra; honda; honduran; honduras; honest; honestly; honey; honeybunzgem; honeymoon; hong; honolulu; honored; honors; honour; hoo; hood; hoodedu; hoods; hoof; hook; hooligan; hooligans; hoop; hoopa; hoops; hooters; hop; hope; hoped; hopefulbatgirl; hopefully; hopeinchrist; hopes; hoping; horiikawa; horizon; horn; horndale; horno; horny; horoscope; horowitz; horrendous; horrible; horrific; horrifying; horror; horrormovies; horrors; horse; horses; horsetalknz; hospital; hospitalized; hospitals; host; hostage; hostages; hosting; hot; hotbox; hotboy; hotel; hotnewscake; hotspot; hotter; hottest; hough_jeff; houma; hour; hours; house; housed; household; households; houses; housing; houstn; houston; hove; how; how_fans; howardu; however; howling; hoxton; hp; hpa9gqrywa; hpd3snm6oy; hppld1jhtz; hpssjd; hpvodud7ip; hpzhe0cjvf; hq; hqdczzdmbn; hqewmreyso; hqod6v6dnc; hr; hr88cwxpgz; hrc3oxquik; hrdwgfbfyq; hrips_k; hrl4xnj9k7; hromadske; hronlinetweets; hrqcjdovjz; hrs; hrsto; hs; hs2; hsdbgciyrs; hsjb215; hsu; hszjafxrvi; htez4z48od; http; https; htx; hu5cxqnobf; hua; hub; huber; hubert; hudhud; hue; huebel; hueco; huffman; huffpostarts; huffpostcomedy; huffpostrelig; huffpostuk; hug; huge; hugged; hughes; hughes1128; hugomatz; hugs; huh; hujvgsflus; hukjz1wt36; human; humanconsumption; humanitarian; humanity; humanityi; humans; humaza; humble; humbled; humboldt; humid; humidity; humofthecity; humor; hump; humphrey; hunchback; hundred; hundreds; hung; hungary; hunger; hungerarticles; hungover; hungrier; hungry; hunhry; hunk; hunt; hunted; hunterlove1995; hunters; hunting; huntington; huntley; huntsville; hunwx; huriivfdkc; hurled; hurricane; hurricane_dame; hurricane_dolce; hurricane_surge; hurricanes; hurry; hurt; hurts; husband; hush; hustletown; hutch; huthxlkyxy; huyovoetripolye; huzrhgmksy; huzzah; hvbj30aj9s; hvjmuualxv; hvwkjqxxyt; hvxu1zcvau; hvyxehxbmq; hw; hwnyxxkczz; hwo; hworb1n6vn; hwrf; hwy; hwy401; hxdg254dho; hxox7o42rq; hxtupra5bc; hxvfmouhdm; hxvihdushp; hxwfbpp1b3; hy5pbe12tm; hyatt; hybrid; hyderabad; hyenatown; hyider_ghost2; hype; hyped; hyperbole; hypo; hypocrisy; hysteria; hyuk; hyypspn0yq; hz4lkffc59; hzpx6vaqpz; i12nlsr8fk; i1eeuxxz3a; i1vpkq9yag; i23xy7iejj; i27oa0hisp; i2aag6lp6w; i2el5acrrw; i2hhviumtm; i4; i405; i4aogcsoy5; i4fz75utnh; i5; i580; i5cdtd8ftj; i5k3vjicmg; i6lmccclv5; i6zqlk2puz; i7ap1mes8m; i7eskymoec; i7kztevb2v; i8sj1kws1d; i9dspdkruk; i9mxxkzhbl; i_amtalia; i_electrocute; ia; ia1hngnhvb; ia44nczlif; iadlslqdpd; iaff36; iafflocal4416; iamdigitalent; iamdowntown; iamhorsefly; iamrrsb; iamtonyneal; ian; ian_bartlett; ian_hellfire; ianokavo96; iap4lwvqsw; iapvtqxlht; iartg; iateyourfood; ibadan; ibaraki; ibed3xg7fy; ibeto; ibeyiofficial; ibiza; ibooklove; ibrahimmisau; ibsvy2r3ph; ibype1kaz5; ic; icarus; icc_realckt; icd10; ice; icemoon; icequeenfroslas; ices; icicle; icon; iconic; icrc; icrgseagya; icrzi5tqc5; ictyosaur; icy; icymagistrate; icymi; id; id667rlets; idaho; idc; idea; ideals; ideas; idek; identical; identification; identitytheft; idfire; idgaf; idhj4jbq05; idiot; idiots; idis; idk; idols; idp; idps; idqcfjycym; idwpublishing; idws2zgysa; ieansquad; iembot_hfo; iemxgse2be; iewdrenauk; if; ifak; ifm6v6480p; ifqqpur99x; ifs; ifunny; ig; igcetumkcw; iger; iggfnbixt5; ight; igll3ph6o1; iglnqpgbnw; igm2fcmupm; ignite; ignited; ignition; ignorant; ignore; ignored; igwstttkwk; igx8xfz8ko; igxrqpotm7; igz7v24ge9; ih0awv3l1o; ih8udz8mq3; ihave44episodesofgg; ihhen; ihhrkg4v1s; ihphzckm41; ii; ii2spvp89b; ii4ewe1qir; iiaigzkbnj; iidkc0jsbx; iifgaz0fil; iii; iiii; iikssjgbdn; iit; ij; ijmccmhh5g; ijobz3mzp0; ijournal; ijwar15h16; ijzcytbffo; ik; ik4len; ik7mgidvbm; ik8m4yi9t4; ika; ikeja; ikorodu; ikpeazu; ikuggvbyei; il; ildbeje225; ilford; ill; illegal; illegally; illegals; illinois; illness; illnesses; illogical; illusion; illusions; illusoria; illustrated; illustrations; ilnewsflash; im; im2ad; im2hdsklq5; im6m4xaen2; ima; image; imagecomics; images; imagine; imagined; imaginedragoner; imam; imawesome7986; imawvmzs3a; ime; imeshika; imhfdaowrd; imilsfxntf; iminchina; immediate; immediately; immensely; immigrant; immigration; immortaltech; immune; impact; impacted; impacting; impairs; impending; imperfect; imperialism; implication; implicit; importance; important; imported; imposed; imposition; impossible; impressed; impressive; imprison; imprisoning; improve; improved; improvement; impulse; ims; imsushickoflove; imtariik; imtygds5qo; imullbvued; imwmfdjssn; in; in8lys7v5l; ina; inbetween; inbounds; inc; incapable; incase; inch; incident; incidental; incite; inciweb; include; including; incognito; income; incompetent; increase; increased; increasing; increasingly; incredible; incredibly; incredulous; incremental; indah; indecisiveness; indeed; independence; independent; indepth; index; indexing; indi; india; indiahttp; indiakomuntorjawabdo; indian; indiana; indianapolis; indiannews; indians; indiatv; indictment; indie; indiegogo; indifference; indigo6e; indiscriminate; indistinguishable; individual; individuals; indo; indonesia; indoors; induced; industrial; industries; industry; indy; inec; inequality; inevitable; inevitably; inexpressible; inezzaes5d; infamous; infantry; infantryman; infected; infections; infectious; infectiousdiseases; inferior; inferno; infested; infield; infiltrated; infiltration; infinitegrace7; infinity; inflict; inflicted; influenced; influencers; info; infographic; infomercial; informant; information; informationng; infosec; infowars; infp; ingu6ztyg4; inhofe; iniqzfyioi; initial; initiative; inj; injured; injures; injuries; injury; injustice; ink; inkuv5dntx; inmate; inmates; inner; innerhalb; inning; innings; innocent; innocents; innovation; innovative; innsbruck; innsmouth; inroices; insane; insanelimits; insas; inside; insides; insomnia; inspect; inspection; inspections; inspi; inspired; inspiring; inst; instagram; instagrams; install; installation; installed; installment; instant; instantly; instaquote; instead; instincts; institute; instruction; instructions; insubcontinent; insula; insults; insurance; insurer; insurers; insurers163; int; intact; intead; integrates; integrative; integrity; intelligence; intelligencebar; intended; intending; intensifies; intensity; intensive; intentions; interest; interested; interesting; interestraterise; interlaken; interlocking; intermountain; intern; internal; internally; international; internet; internetradio; interpretation; interracial; interrogation; interrupt; intersectio; intersection; interstate; intertissue; intertwine; interval; intervene; interview; interviews; into; intoxicated; intragenerational; intrigued; intriguing; introduction; inundated; inundation; invaded; invading; invalid; invasion; inverness; invest; investigate; investigated; investigating; investigation; investigators; investing; invincible; invisible; invited; inviting; invoices; involved; involves; involving; invzices; inåêchaos; io7kuug1uq; iof; ionwarvrfy; ioq051t5te; ioqm5bm1dg; iosthxlcyv; iovr4ymlkp; iowa; ip; ipa; ipad; ipfzwwnxxp; ipgmf4ttdx; iphone; iphooey; iphoto; ipod; ipt0honoti; ipwysnik0g; ipxpi3me16; iqj1z3jxx8; ir; iran; irandeal; iranian; iranians; irannucleardeal; iraq; iredell; ireland; irish; irishirr; irishspy; irishtimesworld; iron; ironforge; ironic; ironically; ironmanå; irons; irony; irpssresrq; irqj3zkcuz; irrespective; irving; irwin; is; is2idc3ubj; isai; isbtzujfbm; isea2015; ish; isi1rllct0; isil; isis; isla; islam; islamabad; islamaphobe; islamic; islamist; islamophobe; island; islands; islandå; islas; isle; islip; isn; isnt; iso; isolated; isolation; israel; israeli; issue; issued; issues; istanbul; istg; istj; it; italian; italianåêalps; italy; item; items; itfbbz9xyc; itg84q7vii; itirapina; itrawcwb; its; itself; itsjustinstuart; itsnasb; itsqueenbaby; itss_selenaluna; itunes; itunesmusic; itz; itz9masbvz; itzzkwfhg5; iucpcsfbmt; iuh718kcy0; ivanberroa; ivano; ive; ivwtynoujk; iw7elszifz; iwasdisappointedby; iwate; iwk; iwontmakeit; iwsdbgd1zq; ixfne5jlep; ixiybap8qa; ixjjlp1lvo; ixjqg1sx6u; ixrehm05yq; ixw2cutk1c; ixwin; iyjejop2wi; iylvzy3cob; iys9xwpvmk; iywzallsn4; izi_garcia; izjk6kpwiz; izjtoojzkp; j295md1sow; j2bone; j2ddvh7fy0; j2erzbmjqd; j2pykyo0en; j3cirxjfa6; j3di85ist5; j3lyon; j3rtf2dt3x; j3x0doy7r3; j43nwkx0x3; j4fsdpfa63; j5mkcbkcov; j5onxfwlao; j6wseptxga; j7hukhwmal; j8tyt1xrrk; j90dt2qnxb; j9lpdrxcde; ja; ja0wgp8spe; ja3w1s3tmr; jaawuiovdc; jab541hhk0; jacinta; jack; jackass; jacket; jackets; jackholes; jackie; jackmulholland1; jackperu1; jackson; jacksonville; jackwilshere; jacque; jacqui; jade; jadehelm15; jagexsupport; jaiden; jail; jailbreak; jailed; jaileens; jaipur; jakarta; jakartapost; jake; jake_adavis; jakegint; jam; jamaica; jamaicaobserver; jamaicaplain; james; james_justus; jamesmelville; jamie; jamiegriff97; jamienye; jammed; jammu; jamrock; jams; jamshedpur; jan; janata; janeenorman; janeiro; janenelson097; janet; janice; janiethekillr; jannellix0; jannet2208; jans3fd4lf; janta; january; japan; japanese; japanjapan; japon; japton; japì_n; jar; jared; jariana; jarmusch; jasalhad; jasmine; jasminehuerta24; jasmines; jason_floyd; jasoncundy05; jasonpope2; jass; jaureguiswisdom; java; jawa; jawans; jax; jay; jayankondacholapuram; jaycootchi; jaydennotjared; jaylenejoybeligan; jays; jazz; jb038rdfak; jb25fhke6q; jbjrg3ep1q; jblrrnmdsm; jbodkm6rbu; jbouie; jbrk8zsry6; jbumzqpk; jcdd6sd6qn; jcmonkey; jcomanse; jdabe80; jdb; jdbtlymehy; jdkqc12tid; jdtpirnm76; je6zjwh5ub; je86vetdxh; jealous; jeannathomas; jeans; jeb; jebbush; jeddah_saudi; jedi; jejc9xctmp; jen; jenna; jennasjems; jenner; jennife29916207; jennifer; jenniferarri_; jeremyduns; jerkface; jeromekem; jerry; jersey; jerseys; jerseyville; jerusalem; jervis; jesse; jessica_stclair; jessienojoke; jesus; jet; jetengine; jetixrestored; jetstar; jevhknjgbx; jewelry; jewels; jewish; jews; jez; jfb; jfc; jfx6qiyivf; jfyfzddlrn; jgdlx4faw8; jharkhand; jhaustin; jhb; jhc2rt0v9f; jhmnye; jhpdssvhve; jhscgda2g8; jiahahahha; jihad; jilfbr0ufp; jim; jimin; jimmozel; jimmyfallon; jimskiv92; jinx; jiomnrcygt; jishin_e; jitsu; jittering; jixscpmdud; jk7npdpwro; jkd7cti2iw; jkl; jkpjpch9i6; jkt48; jkym9edofc; jlabuz; jlczidz7vu; jlester34; jlmicj6je5; jlput7va3s; jlu2j5qs8u; jlwgshyy3n; jlwhaowfqa; jlzk2hdetg; jmastrodonato; jmawrlt7hb; jmbvpanxr3; jmcwrites; jmu5uyamdu; jn8s0drwbp; jnn0krnxvy; jnromse1z2; job; jobbing; joboozoso; jobs; jocelyn; jods9a32pi; joe; joegoodmanjr; joel; joelsherman1; joestrong; joeybats19; jogja; johannesburg; john; johndcgow; johnejefferson; johnfugelsang; johngreen; johns; johnson; johnsontionne; join; joined; joining; joints; joinvroom; jojnq2oopi; joke; joked; jolie; jolly_jinu; jon; jonas; jonathan; jonathanferrell; jones; jones94kyle; jones_luna; jonesboro; jonvoyage; joonma_; jordan; jorrynja; jose; joseph; josephjett; josh; josh_lado; joshsternberg; joshua; joshuaassaraf; journal; journalism; journalist; journey; journeys; journo; joxroundtable; joy; jp; jp9xyla3c5; jpa6sajfe3; jphgpl1c5x; jpu9gips9f; jq9nj6gko3; jqso4fyzp4; jqxm4gcqz3; jr; jrdwyy0ax4; jrgj17oamt; jrkgyl7te5; jrlallo; jrowah; js; js9ehp88wq; jsccx8k0ja; jslxtq3nqs; jssmmlnaq7; jst; jst5hauk35; jsuhupz6vp; jsunnews; jszzqst3xs; jt_ruff23; jthusynjah; jtjofltms4; jtw; jtxji7ygrl; jtzefipdbo; juan; juanny; jubail; judas; judge; judgement; judicial; judson1360; juice; juicy; jul; julian; julie; juliechen; juliedicaro; juliet; july; jump; jumped; jumper; jumps; jun; june; jungle; junko; junsuisengen; jupiter; jurors; jury; jus; jusstdoitgirl; just; justaguess; justice; justifying; justin; justin_ling; justinbieber; justintrudeau; justjon; justthebottle; jutland; jvai5vkmsy; jvcxb75drj; jvivt6zrv7; jvjalyg2n1; jvkyzndtja; jw3hn9ewft; jwalkerlyle; jwfiilj8wr; jwiv6wyw6f; jwqybe4ep1; jwxrx1lsqo; jxhazebnqk; jyiegtnc6h; jyiekeo2he; jywfygclhm; jzgxwrgfqg; jzprciqa9d; jzwrisxepf; jzwrwlvlsj; k0qtl8aodh; k0y7xfxmxa; k14q8chwkp; k1tmlwvjmj; k2bzuatuks; k2tbes65oa; k3; k3pnnktlxh; k44tl3rfmy; k4h8cq7puo; k4zomof319; k5fijankjb; k5knnwugwt; k6uetsnlht; k8bexkgwr2; k8ughv2aif; k9airfq3ql; k9asktwxfl; k9cd0efvut; k9fbtccu58; k_matako_bot; kabarmesir; kabk3tcjnl; kabul; kaccpk85wf; kach; kacrlpjc0l; kadiegrr; kaduna; kah1kmtrj7; kai; kainyusanagi; kaiseiw; kaiser; kajang; kakajambori; kakeru; kaldi; kalinandmyles; kalinwhite; kalle; kama; kamayani; kamchatka; kamindoz; kamkasteiiano; kamon; kamunt; kaneohe; kanger; kanglaonline; kansas; kanto; kanye; kaputt21; karachi; kardashianempire; karen; karijobe; karma; karnakarank; karnal; karnythia; kasab; kash; kashmir; kashmirconflict; kasiadear33; kasiakosek; kasich; kasitaroch; kate; katherine; kathrynschulz; katiecool447; katiekatcubs; katrina; katt; katterpì; katunews; kauai; kaumelite; kavaovjz2v; kawartha; kay; kayla; kaylak369; kaylen; kbak; kbe91arcdw; kbeastx; kbstrxnhup; kbtzzzg2tp; kc; kc5kh; kca; kcarosawmur; kcoff6bmie; kcrnmjkj73; kcrw; kctigymahl; kd3qsakbi5; ke; ke1zs6naml; kea5l3b1ae; kediri; kee1tytz15; keegan; keen; keep; keeper; keeps; keepthefaith; kefxtjtakb; keighley; keith; keithboykin; keithyy; keithyyl; kelbytomlinson; keli; kellkane; kelly; kellyannwx; kelworldpeace; kemal_atlay; kenai; kendall; kendra_leigh13; kenji; kennedy; kennethbauer_; kenny; kenosha; kensington; kent; kenton; kentucky; kentwood; kenya; kept; kern; kernow; kerri; kerricktrial; kerry; kerrykatona7; kesabaran; kessily; kessler; kestuuyc4t; kettering; kettlebell; kevinedwardsjr; kevr_7; key; keynes; kezi9; kf0qybkzol; kfbjvjivqb; kfc; kfkaosh0kh; kfzvmxj9st; kg4vaal; kg5plkedhr; kgb; kgkz50q8tk; kgswhsr7mn; kgtxnnbj7y; kgxnwziuxd; khalidkkazi; khan; khanna; khd99oz7u3; khf0ih05a9; khq; khqa; khrone; khsbzkfd6o; khulna; khuzdar; khztevedja; ki; ki9ehjhl8y; kia; kick; kicked; kicking; kicks; kid; kiddie; kidding; kidicalmassdc; kidnap; kidnapped; kidneys; kids; kidscompany; kierannicholson; kiernan; kiev; kif7m3fqlx; kiildu8gpo; kijan; kijangbank; kijima_matako; kikes; kilbride; kilby; kilkenny; kill; killa; killafornia; killed; killer; killers; killhard; killin; killing; killings; kills; kind; kinda; kinder; kindermorgan; kindersley; kindle; kindly; kindness; kindof; kinesiology; kinetic; king; king_naruto_; kingdom; kings; kingston; kingswinford; kink; kinkyconnors; kiranahmedd; kiri; kirkwall; kiro7seattle; kirsten; kisii; kissed; kisses; kissimmee; kissing; kisumu; kit; kitana; kitchen; kith; kitten; kittens; kiwi_karyn; kjbxieypma; kjfordays; kjsvw06gbv; kk8cnppzmk; kkdx8zmv4g; kkeh8qcgc3; kkimmbue04; kksghsblfh; kl4r1ccwct; klarajoelsson; klavierstuk; kleenex; klimkin; klitschko; kltit88as3; klxaucnp5i; km; km8ucihrrn; kmgdv7vsaz; kmndkfa7me; kmpfhglhoo; kmvrzasxy4; kmxzho5tfm; knbv2ytnwc; kncm9jc8i9; knee; kneelbot; knees; knehvvohvk; knew; knife; knives; kno; knob; knobhead; knock; knocked; knocking; knockout; knocks; know; knowing; knowlddge; knowledge; known; knows; knox; knoxville; knw; ko0oz3ryfg; kochi; kodak; kodiak; koin6news; kolkata; kombat; kombatfans33; komen; komo; kong; konoha; kontrolled; kooks; korea; koreans; korzhonov; kosciusko; kot9zvd2h7; kotaweather; kotolily_; kou; kowing; koz; kp; kp2lf4aute; kp5dpoaf58; kpivxgjnqt; kpmyqujsue; kpqk0c4g0m; kpvymhm2ub; kqjevyqzlv; kqpky7dthj; kqvevuutdj; kraft; krasnodar; kristenkoin6; kristindavis; kristyleemusic; krnw0wxhe5; kro; krsy54xmmc; ks; ks100; ks111; ks7ln8hq8s; ks94; ksa; ksawlyux02; kshllcenterpri1; kshsgwghfj; ksu; ksxto8nknl; ktd5ig9m5o; ktfounder; kttape; ku; kua; kuala; kukmal605a; kulli; kurd; kurdish; kurdistan; kurds; kurokobot; kurqlxfihl; kurt; kurtschlichter; kushwush; kutztown; kuualohax; kuwait; kuznetsova; kvnahthuwz; kvpbybglsr; kwaaaaa; kwajalein; kwmrcekvtf; kwwwkwwwk; kx8cu4s8t1; kxewlhh7uw; kxplyom9rr; kxrehvt6hl; kxslftz2i5; kxxnszp6nk; kxy56fr8vm; ky; kyee; kyiv; kyle; kylekrenek; kylewappler; kz35rgngjf; kzfigkeeva; kzhb8zx6yc; kì; l056yj2ioi; l0b14sj7jb; l0deocxu6o; l0pmmtzlwp; l1gfxgozvx; l1gh8064yv; l2nmywrmq2; l3gizrucy4; l3w8mipvnt; l4w0pcorbs; l4wjhz4aj6; l5awtundhm; l6; l6jbjaj8dm; l6pif3lpen; l7bjsq0y2o; l7pmdmejs1; l8w30wfw3r; l90dcpv9zu; l9ekhnkbar; l9fjpnszuo; l9idherotj; l9udest; la; la_siren; lab; labelled; labor; laboratory; labour; labourleadership; labs; labyrinthia; lack; lad; laden; ladies; ladins; lady; ladyfleur; laevantine; lagos; laguna; lahar; lahore; laid; lajn2n5e2d; lajx578dru; lake; lakeeffect; lakes; lakewood; lalaloopsy; lambasts; lamha; lamia; lamp; lampung; lamsdzkcuz; lan; lan76zqkxg; lana; lancashire; lancaster; lancasteronline; lance; land; landfall; landi; landing; landolina; lands; landscapes; landsli; landslide; landslides; lane; lanes; lanford; langata; langley; language; languages; languishing; lanjut; lanka; lansdale; lansdowne; lansing; laois; laos; lap; laphamsquart; lapping; lapse; lara; laredo; large; larger; largest; largo; larious; las; lashes; lashings; lassics; last; lasted; lasting; lasvegaslocally; late; latechwatch; lately; later; lateral; latest; latestnews; latimes; latin; latina; latinos; latssuo4ws; lauded; lauderdale; laudner; laugh; laughing; laughs; laughtraders; launch; launches; laundry; lauradeholanda; laurathorne97; lauren; lauren_miller_7; laurenjauregui; laurensicle; lava; lavapixcom; lavatory; lavenderpoetrycafe; law; lawfulsurvivor; lawn; lawrence; laws; lawsonofficial; lawsuit; lawton; lax; lay; layang; layer; laying; layout; layzba9y8h; lbpx8bucnv; lcb; lcc; lci3pljx25; lcnw4ead8v; ld0uniyw4k; ld5p1sia2n; ldbao0rsuz; ldgwsyowss; ldjet9tfmk; ldnr; lds; le; lead; leader; leaders; leadership; leading; leads; leaeby6cr2; league; leagues; leak; leaked; leaking; leaks; leaning; learn; learned; learni; learning; leashless; least; leather; leave; leaves; leaving; lebanon; lec1vms7x2; leczolkmsv; led; ledmvezcol; ledofficial1; lee; leeds; leedsrouge; leedstraif; leejasper; leelanau; leesburg; left; leg; legacy; legacyofthesith; legal; legend; legendary; legio; legion; legionna; legionnaire; legionnaires; legionstrackandfield; legislation; legit; legitimate; legna989; lego; legs; leh; leiaorganasolo; leicester; leicester_merc; leisure; leitchfield; lej5onus9q; lemairelee; lemme; lemon; lemonade; len; lengths; lenn_len; lennonparham; lennox; lenore; leo; leonalewis; leones; leos; leprosy; ler; les; lesa; lesbian; lesbians; lesley_mariiee; lesleychappelle; lesnar; lesotho; less; lesson; lessons; lestah; let; lethal; lethbridge; lets; letsfootball; letter; letters; letting; level; levels; lewis; lexi_purduee; lexington; leyjwnnah8; lez; lfbdhtgqwg; lfkmtzaekk; lfnippnoto; lga; lgbt; lgglf5yrme; lgl; lgm; lgpgajgomy; lgpne5hkao; lgrocbxpqo; lh9mrypdrj; lhdcpnzx6a; lhh; lhpgxc4b8j; lhtvkcoiso; lhw4vtbhzg; liability; liable; libby; libertarianluke; liberties; liberty; libertybell1000; libertygeek83; libraries; library; libya; libyan; licensed; licenses; lie; lies; life; lifeaintfairkid; lifeguard; lifehacks; lifelettercafe; lifeline; lifelong; lifetime; lifted; lifting; lifts; light; lightbulb; lightening; lighter; lighting; lightly; lightning; lightning_ooc; lightrail; lights; lightseraphs; lightumupbeast; like; liked; likely; likened; likes; likwqhshhx; lil; lilithsaintcrow; lilourry; lilreese300; lily; lim; lima; limerick; limestone; limit; limited; limits; limpar33; lincoln; lind; lindasocvat; linden; lindsay; line; linerless; lining; link; linked; links; linkury; linton; lion; lionel; lions; lip; liqd; liquidation; lisavanderpump; lisbon; lisnaskea; lisowski; lisp; list; listed; listen; listening; listenlive; listeria; listings; lit; litany; lite; literally; literarycakes; literature; lith; litter; little; littlebitofbass; littleton; littlewomenla; liv; liva_gotta; live; live4heed; lived; liveleak; liveleakfun; livelihood; livelihoods; lively; livemint; liveonk2; liveonkbak; liveonstreamate; liver; liverpool; lives; livestream; livin; living; livingsafely; livingston; liye; lizard; lizards; lizbon; lizhphoto; lizz; lizzie363; liì; ljc; ljmgdpdlvs; ljomctuzfy; ljp; ljubljana; ljxce1qw2p; ljylxz1fbi; lk5uqkop1e; lkjfabqzb3; lknu8902je; lkwxu8qv7n; lkz5cnynxx; ll; llegaste; llf; lloyd; lma39zrwoy; lmao; lmaov; lmfao; lmfaoooo; lmrkgporcf; ln; lnp; lnpscadaxr; lnzi7o166y; lo; loa; load; loaded; loading; loads; loaf; loan; loans; loathing; lobbied; lobby; lobo_paranoico; local; local_arsonist; location; lock; locka; locke; locked; locker; lockout; locksmith; locomotive; locomotives; lodisilverado; log; logan; logic; logically; logistics; logo; loki; lol; lolatjesus; lolgop; lolla; lolly_knickers; lolo; lolol; lomasvisto; london; london3; londonfire; londonstan; lone; lonely; lonelyness; lonepine; loner; lonewolffur; long; longaberger; longbreastyat; longer; longest; longevity; longs; loo; look; looked; lookg; looking; looks; lookss; looooool; looooooooooool; loop; looping; loose; loosers; looses; loot; looters; looting; lopez; lopezandthelion; lord; lordbrathwaite; lordofbetrayal; lordrsbiscuits; lore; loretta; lorr; lorries; lorry; los; losangelestimes; losdelsonido; lose; loseit; losers; loses; losing; loss; losses; lost; lot; lotg; lots; lotz; lou; lou8lbla1f; louavul; loud; loughborough; louis; louis_tomlinson; louisiana; louisville; love; loved; loveislove; loveland; lovely; lovelylikelaura; lovemydentist; lovemywife1983; lover; loves; loveyouuuu; loving; low; lower; lowered; lowestoft; lowkey; lowly; lowndes; loyalty; lp; lpgfqnpjd3; lq4lxgs2xu; lqd1wefpqd; lqgoe7psxp; lqjjy1ptwt; lr4btvueom; lrelvrm06w; lrhcthband; lrouwjmbix; lrt; lrtu8rwn2f; ls; lsjowgyvqh; lsmx2vwr3j; lspnycvolo; lsqe7nu6kl; lsvsyspdxx; lswsitnkuk; lt; lt3dave; ltf6jl5keu; ltmgdp6jaf; ltvvpflsg8; ltyefjdm3a; lu; lubbock; lubrication; lucas; luchaunderground; lucia; lucifer; lucio; luck; lucky; lucymayofficial; lucysforsale; lue3waegpi; luhan; luigmhma1i; luis; luke; luke5sos; luke_winkie; lulgzimbestpicts; lumbar; lume; lumixusa; lumpur; lunch; lungs; lured; lurkin; lurking; luv; lvbuw01yoh; lvg; lvizo9cssr; lvkoemsq8m; lvl; lvlh3w3awo; lw2fglrgxb; lw9o2kdk18; lwane9vupg; lwb; lwdcrpehtn; lwilliams_13; lwlexxjus8; lxjjgyv86a; lxmdiseucn; lxtjc87kls; lxvlqvbc8r; ly8x7rqbwn; lyallpur; lydeard; lyeh; lying; lyj57pq3yx; lynch; lynchburg; lynchonsports; lynnfield; lyrical; lyrically; lyrics; lyrium; lytham; lzasr05ljo; lzk; lzkely; lzktjnox; lzml1xb2nh; lzob8qoh1b; lzxwoaye4x; lì_cke; lìáctea; m00nf00l; m0dap5xlwo; m0utldif77; m1; m151a1; m19ivwrdkk; m1rosi2wcs; m1xykecrzr; m203ul6o7p; m27329; m2hpnoak8b; m2y9ym3if6; m2yuxnqlqy; m3; m4; m416; m4jdzmgjow; m4tczaawpt; m4tui0p9nt; m5; m5djllxozp; m5kxlpkfa1; m5rjekvddp; m5sbfrrsn7; m6lvkxl9ii; m6x1; m75dnf2xyg; m7na4skfwr; m8; m8mvdspjp7; m8ufjdtlsm; m9ig3wq8lq; m9k08oazve; m9o08gurt4; m9pxto2kww; m9yda5k6jf; ma; ma3route; ma4ra7atql; maatmhi; mac; macabrelolita; macbreck; macclesfield; macdaddy_leo; macedonia; machida; machine; machismo; mackay; mackayim; mackem; mackinnon08; macob5xlsu; macon; macs; mad; madara; maddddd; maddie; maddzz_babby; made; madhya; madinah; madison; madisonpa_; madonnamking; madrid; mafia; mafireems; mag; magazine; mageavexis; magellan; mages; magginoodle; magic; magichairbump; magisters; magne; magner; magnetic; magnets; magnificent; magnitude; magnitudeåêåêml; magnolia; magnum; magnums; mahalo; maharashtra; maid; mail; mailonline; main; maine; mainline; mainly; mainstage; maintain; maintained; maintenance; maj; majesty; major; majority; makai; make; maker; makes; maketh; makewaterwork; making; malabamiandsons; malang; malatya; malaysia; malaysiaairlines; malaysian; male; males; malibu; malik; malistkiss; malkavius2; mall; mallord; malt; malta; mama; mamata; mammy; man; manabi; managed; management; manager; managers; manavadar; manchester; mandate; mandela; mandem; mango; manhattan; manhood; mania; manifesting; manila; manitoba; manitou; manly; mannequin; manor; mansehra; mansion; manslaughter; manufactured; many; manzanita; map; maple; mapmyrun; maps; mar; maracay; maratha; marbella; marc_holl; march; marches; marcoarment; mare; marek; marek1330; margarita; marge; maria; mariaf30; mariah; marians; maricopa; marietta; marijuana; marilyn; marinading; marine; marines; mariomaraczi; mariveles; mark; mark_argent; marked; marker; market; marketer; marketers; marketforce; marketing; markets; marketwatch; markkriegsman; markoturner; marks; marksmaponyane; markwschaefer; marleyknysh; marlon; marquez; marquis; marrakech; marrie; married; mars; marshall; martial; martinmj22; martynwaites; martyrs; marvel; mary; maryland; marynmck; marysville; mas; mascara; mash; mashup; mask; masochisticmage; mass; massachusetts; massacre; masses; massgrave; massive; master; masterchef; mastered; masterpiece; masters; masturbates; masturbation; mat; match; matches; matching; mate; mateo; material; materialism; materials; math; mathew_is_angry; matilda; matrix; mats; matsepe; matt; matt_bez; matt_kroschel; mattcohen4fake; matter; matters; matthew; matthews; mattingly; mattmosley; mattson; mattytalks; mauds99; maui; mauritius; max; maxed; maxi; maximum; maxsys; may; mayan; maybe; mayflower; mayhem; mayhem_114; mayoroflondon; mayweather; mazda; mazing; mb; mba; mbataweel; mbiwa; mbo6oaniqi; mc; mcc76xowli; mccain; mccainenl; mccauleysdesign; mcconnell; mccormick; mcdonald; mcdonalds; mcejzzxgh8; mcfaul; mcgwire; mchapmanwsaz; mchenry; mcilroy; mclaughlin; mclean; mcmahon; mcr; mcsek4hx5s; mctjnzx4h8; mcv; mcwd37iof9; md; mdash; mdnugvubwn; mdp2ni1pqu; mdt; me; meadow; meals; mean; meaning; means; meant; meanwhile; measles; measurement; meat; mechanic; mechanical; mechanicsburg; med; medals; medan; medford; media; media420; median; medic914; medical; medicine; medics; medieval; meditation; meditationbymsg; mediterran; mediterranean; medium; meek; meekmill; meelllttting; meereen; meerkat; meet; meeting; meetkakarotto; meets; mega; megadeth; megan; meganbee92; megancoopy; megaquake; megatronafc; megynkelly; meinlcymbals; melanie; melbourne; melissaross9847; mello; melrises; melrose; melt; meltdown; melte; melton; melts; member; members; membuahkan; meme; memenaar; memenet; memes; memorial; memories; memory; memphis; men; mens; menswear; mental; mentalhealthgov; mentality; mentally; mention; mentioned; mentions; mentor; mercados; mercury; mercy; merged; merica; meridian; merle; mermaid; mesa; mesgcngaz0; mesh; meshnewsdesk; mesmerizing; mesqtvdu63; mess; message; messages; messenger; messeymetoo; messi; messnermatthew; messy; met; met0mtpr3s; met4ytzmfb; metal; metallica; metaphorically; metastatic; meteoearth; meteors; meter; method; methods; methville; metlife; metre; metrics; metro; metrobus; metrofmtalk; metropolis; metrotown; mets; mexican; mexico; meyerbjoern; mf; mfckpvzfv8; mfjxh4p51u; mfkqyxd8xg; mflrvbh4qa; mfs; mfsbwpj0ce; mg5eajelul; mgm; mgr; mgr809yc5a; mgs2; mgyvglenks; mh; mh17; mh370; mhl7pfr7kb; mhmmm; mhtw4fnet; mi; mi_country_hick; mia; miami; mic; michael; michael5sos; michaelwestbiz; michele; michele_nfpa; michelebachman; michelleellle; michigan; micjnpuhg0; mickinyman; micom; microbes; microchip; microlight; microphone; microsoft; microsofts; microwave; mid; middle; middleeasteye; middlesbrough; mideast; midfield; midges; midget; midlands; midnight; mido; midst; midsummer; midtown; midweek; midwest; midwestern; might; migraine; migrant; migrants; migrating; mihirssharma; mika; mike; mikecroninwmur; mikeparractor; mil; mile; miles; milf; mili_5499; milioooo_; militant; militants; militarism; military; militarydotcom; militias; milk; milkshake; milky; mill; millcityio; millennium; million; millions; milton; milwaukee; min; mina; minaj; minamisoma; minato; mind; mind_mischief; minded; mindless; minds; mindset; mine; minecraft; mineness; mineral; miners; mingo; minhazmerchant; mini; miniature; minimal; minimum; mining; minion; minions; minister; ministers; ministry; mink; minna; minneapolis; minnesota; mino; minor; minority; minors; mins; minsuwoongs; mint; minus; minuscule; minute; minutes; mipasho; miprv; mir; mirad; mirage; miranda; mirrorlady2; mirrors; mis0rjxuir; miscalculation; misdirection; misery; misfit; misfitrarity; misfortunebut; misguided; misha; mishacollins; mishaps; misled; miss; misscharleywebb; missed; misses; missing; mission; missionhills; mississauga; mississippi; missjadebrown; missleylaha; missouri; missy; mistake; mistaken; mistakes; mistreated; mistress; mistresspip; mistrustful; misty; mithitennis; mitigating; mitigation; mitt; mix; mixes; mixify; miyagi; mizuta; mizzou; mj2jq2psv6; mj8rezoxlj; mjbiuvbmo6; mjmwa72er6; mjoeebdlxn; mjstefggu5; mjtn3qbgos; mkayla; mkjq9yfmp8; mkqsvp8e0g; mkwyvm3i8r; mkx; mkx6ux4ozt; ml; mlb; mligpuhvoh; mlrydalch; mly7sdn6ev; mm; mma; mmchale13; mmfa; mmgsyahdzb; mmiye1k8zz; mmk; mmklapx2ok; mmmmmm; mmxi; mn; mnkaji2q1n; mnl; mnpdnashville; mnsy1qr7bq; mo; mo7dbbdfvr; mo9wptyqkp; moa0q0aufa; moan; mobile; mock; mocked; mockery; mockingpanems; mod; mode; model; modelbubbles; models; moderate; modern; modernize; modernized; modest; modi; modified; modiministry; modis; modnao23; modoc; modqnalwsb; moe; mofanon; mofo; mogacola; mogadishu; mohali; mohammed; moines; moir; moist; mold; mole; moll5vd8yd; molly_the_tanz; moly; mom; moment; moments; mommyisbomb; momneedscoffee; moms; mon; monarchy; moncton; monday; monetary; money; mongolia; monica; monijjth7v; monitor; monitoring; monkey; monkeys; monogram; monopolized; monroe; monsoon; monster; monsters; monstrosities; montalbanony; montana; montego; monterrey; montetjwitter11; montgomery; month; monthly; months; montreal; montrì; monty; mood; moon; moore; mooresville; mooseknuckle; mop; moral; morales; morality; morbid; morbidmovies; mordechai; more; moreland; morelos; mores; morethan; morevoices; morgan; morganite; morganlawgrp; morganville; morioh; mormon; morn; morning; morning_joe; mornings; morocco; moron; mort3mer; mortal; mortified; morty; moscow; moscow_ghost; moseby; mosh; mosque; mosquito; most; mostly; moth; motha; mothe; mother; mothernature; mothernaturenetwork; motion; motivated; motivation; motivator; motley; motogp; motor; motorcraft; motorcycle; motorcycles; motorcyclist; motordom; motors; moulding; mount; mountain; mountaineering; mountainous; mountains; mounting; mounts; mourning; mourns; mouse; mousse; mouth; move; moved; moveit; movement; moves; movie; movies; movietheatre; moving; moyo; mp; mp3; mpc; mpers; mph; mpls; mpoaefql6k; mpp; mprnews; mqbyravk6h; mqfofkxtyh; mqydxrlae7; mr; mr5bi4kd82; mr_aamir_javaid; mrc; mre; mrmikeeaton; mrospd9878; mrrobinson; mrsbinker; mrtophypup; mrv54fidfn; mrvxbzywd4; mrw; ms; ms8e8mnddb; msdizftz2g; msf; msf_sea; msgdoing111welfareworks; msgnndxoek; mskn6d3ekh; msmiggi; msnbc; mssq0svnbm; msuy4qtpk9; mt; mt029qj4ig; mta; mtgfx3efiv; mtgrotto; mthe; mtmkimwiyy; mtmoia0oo0; mtqjsvupwy; mtvhottest; mtvsummerstar; muanfwcrw9; muazimus_prime; much; mud; mudgu1puns; mudslide; mueller; muf5czqjrl; mufc; muffle; mugged; muhamadjabal; mukilteo; mul1j9aeux; mulan; mulberry; mullin; multi; multidimensional; multinational; multiplayer; multiple; multiverse; mum; mumbai; mumbling; munch; mundo; municipal; muppet; murder; murdered; murderer; murderous; murders; murfreesboro; murlo; musbik7ejf; muscat; muschamp; muscle; muse; museum; music; music212; musician; musicians; musik; musk; muslim; muslims; must; mustachemurse; mutant; mutek_montreal; mutt; muttatek; muwmfjgzyh; muzzamil; muzzies; mv; mv7ggglmvc; mvrsyu2ppk; mvsrjd4x3d; mw9ambgafq; mwcnvtcxvu; mwdhxyfrag; mwednesday; mwjcdk; mwmt3bdr5l; mwnhappy; mwwwowcayo; mwzqcjhzpb; mx; mxaaaa; mxz7yx8ld1; my; my8q1uwijn; myanmar; mycareer; myelf; myfitnesspal; myfriendmina; myhhthsli3; myhohvrhil; mylieruxk1; mylifestory; mylittlepwnies3; myreligion; myrtlegroggins; myself; mysteries; mystery; mythgriy; myths; mzk5ujlfcv; mzmandilynn; mzmxmyklxv; mzqq5pai8g; mzrhfojt2j; mì; mìás; n00dvxega2; n08qluornx; n0akjm1e4b; n0tawgezjx; n0uhasfkbv; n15b; n2bcf4m64v; n3ow73oasw; n3vbtc6nca; n3yjb8tcpm; n5kmxuverg; n5vrffrbo3; n6ahgfmudt; n6mcpgvwq2; n6rbnhmtd4; n6zflxigvr; n71hmvervv; n844h1aspj; n8ezfctfce; n95igskd3p; n9c3i9v8go; na; na2ey64vsg; naaa; nada; nadiad; nafeezahmed; nagasaki; nagaski; nagel_ashley; nagpur; nah; nail; nails; nairobi; najib; najibrazak; naked; nalathekoala; name; named; namekians; names; namffldh5h; namjoon; nana; nanaimo; nankana; nantes; nap; napa; naperville; napviygkyk; narendramodi; narnia; narrated; narrator; narrowly; narry; nas3ipm5vh; nasa; nasahurricane; nasasolarsystem; nashhmu; nashsnewvideo; nashua; nashville; nashvillefd; nashvilletraffic; nasty; natalia; nataly; nathan; nation; national; nationals; nations; nationwide; native; nativehuman; nato; nats; natsnation; natsu; natural; naturaldisasters; naturalemblem26; naturally; nature; natz5ipv1x; naval; navbl; naved; navigate; navigating; navy; nawf; naypyidaw; nazi; nazis; nb; nb1e7mnce5; nb7maaaofs; nba; nbc; nbc10; nbc15; nbcnews; nbcpolitics; nbcvbso9nm; nbd5ot9iew; nbizatlsmv; nc; ncjlkqasuk; ncjpgf6znv; nckogwjq61; ncms; ncr; ncwx; nd; nda; ndgpwyxu6h; ndia; ndis8f1vzt; ndjja4d5o8; ndtv; ndwep6izdq; ndxrk2ncln; ndzedze; ne; neal; neanderrebel; near; nearby; nearest; nearing; nearly; neat; nebraska; neces; necessary; neck; necn; necro; neddick; need; needed; needing; needle; needs; negara; negative; negotiating; negros; neighborhood; neighboring; neighbors; neighbour; neil; neil_eastwood77; neither; nekm1rpohu; nelson; nema; nemesisk_pes; nennicook; neoprogressive1; nep5azwkna; nepa; nepal; nervana_1; nerve; nester; nestleindia; net; netanyahu; netflix; netherlands; netkicorp; netlabel; network; neur0sis; nevada; nevaehburton33; never; neverland; new; newark; newbeginningsanimalrescue; newberg; newbie; newcastle; newcastleupontyne; newcity; newep; newest; newidea; newly; newlyweds; newport; news; news3lv; news4buffalo; news786; newsarama; newsdict; newser; newsintweets; newsome; newspaper; newswatch; newton; newyear; newyork; newyorkcity; newyorker; newz_sacramento; newåêheights; next; nexus; nf; nf46paytvw; nf4iculoje; nffc; nfl; nfpa; ng2x5; ngapain; ngata; nghlth; ngkrzpza45; nh; nh1news; nh5pkfbfqm; nhl; nhlducks; nhs; nhxse3rthx; nia; niagara; niall; niamhosullivanx; nic; nice; nick; nickcannon; nickcocofree; nicki; nicklee8; nickscomics; nicola; nicolaclements4; nicole; nicolekidman; nicoma; nicosia; niece; nieces; nifc; nigeltanner1; nigeria; nigerian; nigga; niggas; night; nightbeat; nightmare; nightmares; nightmarishly; nights; niiiice; nike; nikeplus; nikistitz; nikki; nikostar; nine; ninja; niqqa; nirgua; nissannews; nite; nitroglycerin; nittys; niv8x5tbe0; nj; njaffyjarz; njd1n5txxe; njd28pg9xv; njenga; njh; njlqrqcnl9; njmidysxof; njqv45nds2; njrjxqbjr4; njturnpike; nkaw9ezqgg; nkkctttsd9; nkkvknbvoz; nkou7zwwrt; nkulw; nl; nlbltynv36; nlccollide; nljvp3vfyz; nm; nm83johluu; nmaumydke1; nmfsgkf1za; nmhztb1ewm; nmpn2mqzge; nmrvthkvah; nmtlpo4b58; nn4ztcmsru; nn6y0fd3l0; nnbexhklhr; nne; nnixodhigc; nnmqlz91o9; nno; nnw; nnylxhinpx; no; no_periferico; noaa; noah_anyname; noahj456; nobleman; nobody; nocere; noches; nockthie; noemotion; noida; noirandeal; noise; noises; nojoke; nola; nolesfan05; nolocation; nomad; nominations; nomiya; nomorehandouts; non; none; nonexistent; nonm8c6l8p; nonprofit; nonsense; nonucleariran; noodles; noonan; nope; nopower; nor; nora; norf; norfolk; norge; norge2040; norkxbrs6g; normal; normally; norman; norse; nort; north; northampton; northbayhealth; northbound; northern; northerncalifornia; northland; northwest; northwestern; norway; nose; noses; nosso; nostalgia; nostrils; nosurrender; nosvu0zx4x; nosy_be; not; note; noted; notes; notexplained; notgoingoutinthat; nother; nothing; nothingness; notice; noticed; notices; notifications; notificationsu; notified; noting; notley; notorious; notoriousd12; notre; notrocketscience; nottingham; notts; nout; nouvelle; nov; nova; novalismi; novel; novels; november; now; nowhere; nowplaying; nowt; noxious; np; npoqlkqup9; nprfreshair; nps3xpbkaq; nq89drydbu; nqiobczkrt; nqjzs6wkun; nqnwktrhsa; nqxqyi70w4; nr8jjmpmos; nra; nrc; nri; nruzhr5xqu; nrw; ns; ns1aggfnxz; nsa; nsf; nsfw; nsfzkfgznj; nside; nsit_; nss5l64cvr; nsw; nt; ntswuayeji; nu; nu0d3uannz; nu6wrp716d; nuclear; nuclearweapons; nude; nueva; nufdgw9yev; nuff; nugget; nuggets; nuh; nui; nuke; nuked; nukes; numa; number; numbered; numbers; numenor; nuohkmpzfj; nurgle; nurse; nurses; nursing; nus; nut; nuts; nutsandboltssp; nux5xfpv2d; nuys; nv; nv3uxv9imx; nv7rk63pgc; nvfkzv5fex; nvp6wrkl1e; nvr; nvzdilrfgj; nw; nwo; nws; nwsbayarea; nx2d83a4du; nxkum9h7wd; nxleiijfgs; nxs3z1kxid; nxttd9nrux; ny; ny1; ny1burst; ny35; ny3l1orzqb; nyack; nyaman; nyc; nycdivorcelaw; nycha; nye8ae2ifr; nyhc; nylon; nyo1xuebfa; nyozi; nypdnews; nyse; nyt; nytimes; nyty7fcqo6; nyv51681ue; nywrkrq7kn; nz; nz7ackrrji; nzifztcugl; nzrwddlntp; nå¼36; o097vsotxk; o0ltqdjbqe; o1enhjrkjd; o1smuh2unn; o207jyabyz; o2cdkpsdfp; o2jd4tbrwa; o3wvsclicx; o4xljnav8f; o5xlxmkoyq; o61h2taae4; o6onsjhcsd; o784; o7qogmoegu; o7yyjlukfj; o82yvxbztv; o85m1bjfrw; o8x4m5er6b; o8xvtlp4mf; o8y1sul4ow; o91f3cyy0r; o9a26fn27y; o9dzgzqemf; o_o; oa6b0z2h6y; oabjztbvyz; oak; oakland; oakridge; oaskgki6qj; oazghozgya; obama; obedience; obfd7e4qcp; obispo; obix79ncxn; object; objection; objective; objects; obky8pc89h; obligatory; obliterate; obliterated; obliteration; oblivion; oblivious; obp595w7tm; obscuring; observed; obsessed; obsolete; obsz45ybaj; obtaing; obviously; oc; oc73x; occasion; occupants; occupational; occupy; occur; occurred; occurrence; occurs; ocean; oceans; ocnj; oct; octnpyueei; od250zshfy; od2ratxrqs; odai; odawara; odd; odds; ode; odell; odeon; odmx36wdhm; odu; odv3rqs8ju; odydt9qpk1; oef; oef123l5rc; oegfqbiqiq; oem; oer5hh41ew; oez7o9ab2c; of; of3q75fgeu; of3td6dglb; ofan6dkoez; ofclans; ofcourse; ofecs6tcvc; ofentse_tsie; off; offended; offenders; offensive; offensiveåêcontent; offer; offers; offers2go; office; officer; officers; offices; official; officialcoredjs; officially; officialmqm; officials; officialtjonez; offing; offline; offloading; offr; offramp; offroad; offs; offshoot; offsite; offspring; offtrackhorse; ofnsixjks; often; ogba; ogtomd; ogtuv1plht; ogun; ogxsy4gwd1; ogzjokd7sv; oh; ohbv7yvtl5; ohcx3y8l4s; ohh; ohhhh; ohholj9vev; ohio; ohlordy; ohmygoshi; ohmyloz; ohndh2ri0v; ohyayyyyay; ohyd7hhcpe; oi; oi6cmagasi; oif; oil; oilandgas; oiled; oioecbsh1f; ojhcgzxlst; ojodu; ojoubot; ojus08yzrq; ojyw7jkuh5; ok; okamsczbwg; okanagan; okanowa; okay; okayyyyyy; okcfox; okgooner; okinawa; okinawan; okla; oklahoma; okmlagvkjv; oks; oktaviana; oktxduo; okuma; okvsimogic; okwx; ol; olap; old; oldenburg; older; oldjsowky5; oldtown; oli; olive; oliver; oliviaapalmerr; olliebailey11; ollymursaus; olnfzb86zb; olnk1ti1nm; olpbmy9xw9; ols6qdi9um; olympia; olympic; omaha; oman; omar_molina036; omb3os54tn; ombudsmanship; omega; omfg; omg; ominicanì; omnbatjeao; omron; omw; on; on18cqgcoa; ona; onboard; once; ondo; one; oneborn; onegreenplanet; oneheartonemindonecss; oneness; oneonta; ones; oneself; onesie; onfireanders; onion; online; onlinea; onlinecommunities; onlinemh370; onlvf2fyoy; only; onnnn; onpnbx0zex; onr; onshit; ont; ontario; onthisday; onto; onu_france; onvd9d4nkg; onxhkfhn2a; onå; onåê; oobscfoktq; oocvg; oogoto76uz; ooh; oom; oomf; oompah; oooh; ooohshit; ooooohshit; oooooohhhh; oops; ootd; op; opa; opal; oped; open; opened; opener; opening; openly; opens; oper; opera; operation; operations; ophiuchus2613; opinion; opinionated; opjwunuvg8; opp; oppa; opportunity; oppose; opposite; opposition; oppressed; oppressions; oprah; ops; opseaworld; optic; optical; optich3cz; optimization; option; optioned; options; optps1lgkc; opus; oqb7dasmvy; oqeq4uegf8; oqh1jbuenl; oqw8jx6rts; or; oral; orange; orapinforma; orbette; orcas; orchardalley; orchestrated; orchid; orchs; orcot; ordained; order; ordered; orders; ore; oregon; org; organic; organicallyrude; organizations; organized; organizing; ori; origin; original; originalfunko; orjb3j803f; orlando; orleans; ormond; ornament; orontem; orovzfsku2; orpik; orpol; ortiz; orxdqfz0j0; os; os1wjrvx5c; osage; osaka; osama; osborn; osbourne; oshawa; osi2016; osjurfddkt; oskfyj8ck7; oslo; oso; osp; osteen; osuoivnigo; ot; ot3bjjhh8s; otd; otfw5sekd7; oth; other; others; otherwise; otleyhour; otm; otp; otrakansascity; otrametlife; otratmetlife; otsm38xmas; ottawa; ou_wbball; ought; oun; oup; our; ourselves; out; outback; outbid; outbound; outbreak; outbreaks; outbreed; outburst; outcomes; outcry; outdoor; outfield; outfit; outflow; outlaw; outlet; outlook; outnumbering; outrage; outrun; outs; outside; outta; ouvindo; ouvir; ouylwuixcs; ovaries; oven; over; overcharging; overcome; overhead; overland; overload; overlooked; overlooking; overnight; overpriced; overrated; oversee; overtime; overtook; overtures; overturn; overturned; overturns; overwatch; overwhelming; overåêhostages; ovlet0gdqm; ovo; ovofest; ow4gexynbh; owbujez3q4; owen; owje3i6ygn; own; owner; owners; owpd7vcfs6; oxford; oxrwrjzmnu; oxxrnab8un; oyo; oyogii97yh; oyster; oyy9mgw7hn; oz1ds3xu0d; oz6vlwwtnr; ozk1qhjvfh; p0gos5urxg; p10hndc0mm; p18lzrlmy6; p1amginsys; p1jlurgwbu; p1wmkxa9d8; p2; p3g3bqbczu; p45perez; p4doa5yyje; p4ekgc9sig; p4kofytkdx; p4zfxdnbch; p5jpjgiipw; p5ktaqw5qg; p5zicjudxo; p64xrvgjik; p6cylz5lpt; p6gqmctglj; p769eo49fj; p7uhcb13qx; p85nwcmkqu; p8ih0hni3l; p8yr2po6jn; p93s2rfhx6; p96rgbbayl; p9rymfjcux; pa; pa5sslefec; pace; paci; pacific; pacing; pack; package; packages; packs; pacquiao; pact; pada; padded; padosfyxnm; padres; paducah; pagasa; page; pageparkescorp; paging; paid; paignton; pain; paine; painful; paint; painting; pair; pajamas; pak; pakistan; pakistani; pakpattan; palermo; palestine; palestinian; palestinians; palin; palinfoen; palm; palma; palmer; palmoil; palms; palo; pam; pamela; pan; panama; paname; panamìá; panay; pancakes; panda; pandemic; pandemonium; pandora; panel; panic; panicking; panik; panoramic; panther; pantherattack; panties; pants; paobghv3c7; papa; papcrdoll; paper; paperback; paperwork; papi; papicongress; paqanences; para; paracord; parade; paradise; paraguay; paramedic; paramedics; paranaque; paranormal; paratroopers; paraì; pardon; parental; parenthood; parents; parentsacrossam; paris; parisian; park; parkchat; parker; parking; parks; parksboardfacts; parley; parliamentary; parole; pars; parsholics; part; partake; parter; partially; participating; particularly; particulate; parties; partner; partnerships; parts; partsunknown; party; pasadena; pascal; pascoe; paso; pass; passamaquoddy; passed; passenger; passengers; passing; passive; password; past; pastie; patch; patched; pated; paterson; path; pathfinders; pathogen; pathogens; paths; patience; patient; patio; patna; patra; patrick; patrickjbutler; patrickwsls; patrol; pattern; patterns; pattonoswalt; pattyds50; paug7a68i0; paul; paul_staubs; paulhollywood; paulista; paulo; paved; paws; pawsox; pawvnj4sap; paxton; pay; payback; payday; paying; payment; pays; paztdblgyk; pb; pbban; pbcanpcx; pbclfsxrld; pblvpm6c27; pbohanna; pbs; pbx; pbya7uv3v5; pc; pc7s8nxj6q; pc8bvuflfj; pcaldicott7; pci; pckf0nl2yn; pcps; pcxarbh9an; pd; pdehd1tcpk; pdkhbdg9ho; pdosrg8cf7; pdp; pdx; pdx911; pe; pe2d3hcsni; pea; peace; peaceful; peacefully; peacetime; peach; peachtree; peak; peale; peanut; pearl; pearlharbor; peasants; pedals; pedestrian; pediatric; pedophile; pedro; pee; peeked; peekskill; peel; peers; peeters; peice; pekanbaruå; pelham; pelosi; pelotas; penalties; penalty; pendleton; penn; penneys; pennies; pennington; pennlive; pennsylvania; penny; pensacola; people; peoples; peoria; pepper; pepperoni; per; perak; perceive; percent; perenjori; perfect; perfectly; perform; performance; performing; perhaps; period; periscope; perished; peritoengrafoscopia; periwinkle; perkpearl; permanent; permanently; permits; perpetrators; perquisite; perrie; perrychat; persecution; persist; persistent; person; personal; personalinjury; personalize; personally; personnel; persons; perspectives; perth; perthshire; peru; perì¼; peshawar; pet; peta; petchary; pete; pete_r_knox; peterborough; peterdutton_mp; petereallen; peterhowenecn; peterjukes; petersburg; petersburgfl; petition; petroleum; pets; petting; petty; pettyville; pez; pf8dxwibdp; pfft; pfmn63vnam; pfsryjs1pc; pft; pfvzvpxqgr; pg; pg4y3i5ciu; pga; pgb2bmcfx8; pgkbt3mbap; ph; ph0tos; ph2xli8nve; ph7wllkrfi; phandom; phantasmal; phantom; phantrash; pharaoh; pharrell; phase; phdsquares; phfoeozyps; phh1vmlfoo; phiddleface; phil; philadelphia; philippi; philippines; phillips; phillipten; philly; phixznv1yn; phnotf; phoenix; phone; phones; photo; photogenic; photographed; photographer; photographs; photography; photos; photoset; photoshop; physical; physicians; piano; pic; pick; picked; pickens; pickerel; picking; pickle; pickup; pics; picthis; picture; pictures; piece; pieceofme; pieces; pierce; piercings; pig; piga; pijg5w2l2u; pikachu; pikin; pile; piles; pileup; pilgrims; piling; pill; pillows; pilot; pilots; pin; piner; pines; pineview; pinpoint; pioneer; pioneerpress; pioy1o54f4; pipbois; pipe; pipeline; pipeliners; piper; piperwearsthepants; piping; piprhys; piracy; pirate; pis0aivrbr; pisces; pisco; pisgah; piss; pissed; pissing; pit; pitch; pitched; pitcher; pitchers; pitchwars; pits; pittsboro; pittsburgh; pity; piveupirky; pivot; pixelcanuck; pixelsmovie; pizza; pizzarev; pizzas; pizzeria; pjigxpvpl0; pjlda9hd5v; pjnet; pjnt; pk8dgvripw; pkfv8lksld; pkk; pkkcdwjyg0; pksparkxx; pkuamxw6pm; pkwy; pl; place; placed; places; placing; plague; plaguing; plains; plan; plane; planes; planet; planeta; planetary; planned; plannedparenthood; plano; plans; plant; planted; plastic; plastics; plate; platform; platinum; platt; play; playa; played; player; players; playing; playingnow; playlist; playoffs; plays; playstation; playthrough; plaza; pleasant; pleasantly; pleasanton; please; pleasure; pleb; pledge; pledged; plenty; plez; pll; pllolz; plmiwofpom; ploppy; plot; plotted; pls; plsss; plug; plugin; plumbing; plummeted; plummeting; plunging; plus; plymouth; pm; pm2tnnfdww; pmarca; pme0hojvya; pmggavtokp; pmharper; pmhmmkspaq; pms4pmur0q; pmtqhivsxx; pmxezuo4ay; pmxlezjbrc; pnaqxprweg; pnhpljho8e; pnnunrnqja; pnssia5e46; po; po19h8ycnd; po_st; pocatello; pochette; pocket; pockets; poconorecord; poconos; podcast; poem; poffin; pogo; poignant; point; pointing; points; pokemon; poking; pol; pol92mn8yz; poland; polar; polaroids; pole; police; policies; policy; polit; politely; political; politicians; politicized; politics; politifiact; poll; pollster; polmont; pomfret; pomo; pompano; pon; pond; pontefract; pontevedra; pony; pool; poor; poorly; pop; pop2015; poplar; pops; popular; popularmmos; population; porcini; porcupine; pore; porn; pornhub; porno; port; porta; portable; portage; portaloos; portfolio; portion; portland; porto; portoviejo; portsmouth; portugal; poses; positive; positively; positivity; poss; possibility; possible; possibly; post; postal; postapocalypticflimflam; postcards; posted; postering; posters; postexistence; posting; postponed; posts; pot; potatoes; potential; potentially; pots; potter; potters; potus; pounded; pounds; pour; pouring; pours; pov; poverty; powder; power; powerful; powerlines; powers; pox; pozarmy; pp; pp05etlk7t; pp15000266858; ppc; ppekbqdcnc; ppji1tcnml; ppl; ppor; ppsellsbabyparts; pq0d7mh3qr; pq3ipugkuy; pqhq4jnztt; pqhuthss3i; pqrjvgvgxg; pqslug4jk5; pr; pra; practice; practices; practicing; practitioner; pradesh; pragnik; prairie; praise; praiz8; pramklrmhz; pratt; pray; prayed; prayers; prayforsaipan; praying; prci76howu; pre; preacher; prebreak; precious; precipitation; precisionistic; preconditioning; predator; predict; predicted; prediction; predictions; predjama; prefecture; prefer; preferable; preferably; pregnant; prehistoric; prem; premature; premier; premiere; premises; premium; premonitions; prensa; preorder; prepare; prepared; preparedness; prepares; preparing; prepper; preppers; preppertalk; pres; preschool; prescott; presence; present; presentation; preservation; preserve; president; presidential; presley; press; pressed; presser; presssec; presstv; pressure; prestige; preston; presume; pretend; pretenses; pretoria; pretty; prettyboyshyflizzy; prevent; preventative; prevention; preview; previews; previous; previously; prez; price; priceless; prices; pride; priest; priests; primalkitchen; primarily; primary; prime; primum; prince; princeoffencing; princess; princessduck; principality; principles; print; printing; prior; priority; prison; prisoners; prisonplanet; privacy; private; privilege; prmtxjjdue; pro; prob; probability; probably; probe; problem; problems; probs; procedures; proceeds; prod; prodding; produc; produced; producer; produces; product; producthunt; production; productive; profbriancox; professional; professionally; profile; profit; program; programme; programs; progress; progress4ohio; progressives; prohibits; projeavg8t; project; projected; projectiles; projects; proliferation; prolly; prolong; prom; promise; promised; promises; promote; promoted; prompted; prompts; prone; pronouncing; prontouo91; proof; propaganda; propagandist; propelled; proper; properly; property; prophet; prophetmuhammad; prophets; proposal; proposed; pros; prosecute; prosecuted; prosper; prosser; prosyn; protect; protectdenaliwolves; protected; protecting; protection; protector; protein; protest; protesters; protesting; protestors; protests; protoshoggoth; proud; proudgreenhome; proudly; prov; prove; proven; provence; provide; provided; providence; province; provocation; provoke; provokes; proxy; ps; ps1; ps2; ps4; psa; psalm34; psbxl1hvu3; pseylyzck4; psfda; psi35au3pc; psm; psn; psp; pspm3ahgkq; psqd; pst5bbq0av; psychiatric; psychological; psychologist; psychrewatch; pt; pt1; ptbo; ptc0xcragy; ptkrxtzjtv; ptq3zmgnck; ptsd; ptsd_chat; ptsdchat; pty9hrcuzh; pu7c4hhbxj; pub; public; publichealth; publicizing; publish; published; publishing; puck; puddle; pue5xnznqb; pueblo; puente; puerto; puff; pug; pugprobs; pull; pulled; pulling; pulls; pulse; pulwama; pumbrnebje; pummel; pump; pumped; pumper; pumpkin; pumxlvlsgm; pun; puncak; punch; puncture; pundit; pune; punished; punishing; punjab; punk; punpunlì; puntland; puny; pup; puppies; puppy; purchase; purchased; purdies; purely; purfleet; purgatory; puritan; purple; purpleturtlerdg; purported; purpose; purposely; purse; push; push2left; pushing; pussy; pussyxdestroyer; put; puth; putin; puts; putting; puxbc2loyk; pvc; pvkgo79jni; pvmr38lnva; pvris; pw3tzu0tay; pw5dst9roz; pw78nbljky; pwd5l0glkv; pwhvgwax; pwjjimrfly; pwwpum6rbj; pxnatosil; pyehwodwun; pygkssscfr; pyjamas; pyramidhead76; pyrbliss; pyrotechnic; python; pyvrprnhop; pz56zjssft; pzeixi4xk7; pzfbb1p1mj; pzotpdgaki; pztbqimpuw; q0hsyfrwec; q0jhdcu6ly; q1; q13; q2; q2eblokeve; q3dtoqo04c; q3xq8r658r; q4kgftc2am; q4l7dg56jm; q4q8xsyzob; q5mp2q6hy8; q5q1x5vcqk; q5qcoao8jp; q6oxzq45ve; q8ivrzojzv; q8reoevlue; q99; q9lxo4qkji; qadrkejz9t; qaqqrjv9gu; qave; qbecjli7cx; qchv3jqovk; qcpmktgllr; qcyqhvn2ha; qd3dssfwue; qdf6asaelm; qdhxto57em; qdmvtj4lzj; qegmrhsms2; qeihvn3dnq; qejedwsfdg; qelroci7by; qeopmcjbcz; qew; qew4c5m1xd; qfjjdxes7g; qfrawln4ba; qgqlpmrfjd; qgum9xheos; qgyn2u1up3; qh5axvhwh5; qh6oxft9ir; qhfqlui6ry; qhujajctr5; qhwe5k7xuw; qi8qdw5dfg; qiang; qiopbtiuvu; qj3pvgavn7; qjuu0wcwpx; qkahxwlwxa; qkrltrd39b; qld; qlnnmxzfqk; qltwhojqya; qmif0blwoa; qmo1txxdkj; qms8rressd; qn4zyisspo; qna4tubnwh; qnh; qnvxj2palj; qotring; qp6q8rs8on; qposkp3mwj; qpr1980; qpur3vd7hl; qpwotugui9; qqsmshaj3n; qr1l2jyuez; qr6btdcqcj; qreinwg0gs; qrhjei7grq; qsekoeubmd; qsheu3yf0w; qsipl1c9fa; qszgjfuutu; qtizcbww7g; qty; qu1iug3e9r; qu8s89pvvt; quadrillion; quake; qualit; quality; quals; quantico; quantit; quarantine; quarantined; quarrel; quarrels; quarter; quarters; quartz; que; quedv2xxxx; queen; queenmy; queens; queensland; queenwendy_; queenåê; quest; questergirl; question; questioning; questions; quests; quezon; qufwxrjiql; quick; quickly; quiet; quilmes; quincy; quirk; quite; quito; quiz; quizzed; qulgakebhb; qunxocxcga; quot; quote; quoted; quoteoftheday; quotes; quran; quì; qv1rmzi3j1; qv7iydovx9; qvc; qvlxpyyycd; qvs7o10bg3; qvsp6b2qsu; qvx0vqtpz0; qwgiwc9w7z; qwiihnmchr; qwo7q1amh8; qwqnni7vmz; qwrrfdgxcc; qwsbvflpe1; qwtk1b2fmc; qxhowcv16r; qxmweljbc0; qxxn6rksp6; qyccvuubkr; qycw5jjaj1; qymalttvzp; qyu8grorq1; qyx5thkrbh; qz; qzdqrbr4lh; qzizelxbyr; qzlpfhpwdo; qzrcinaf5z; qzvkpahsq7; r1354; r1cnsjuayq; r1xwdnvb0g; r3pddjpiee; r4kheh7iaf; r4utnewlna; r4wgxra59m; r4yzhxk7lw; r5bxzzhxkm; r5live; r6jdj9kigm; r7pvtsduma; r8ceprqxle; r_lauren83199; ra; ra2majpkq2; raabchar_28; rabaa; rabbit; rabidmonkeys1; raccoons; race; rachelrofe; racial; racing; racist; radar; radiant; radiation; radical; radio; radioactive; radioriffrocks; radios; radler; radychildrens; raf732vrtt; rafael; rag; rage; rages; raging; raheel; raheelsharif; rahulkanwal; raid; raiders; raidersreporter; rail; railguns; railing; railroad; rails; railway; railways; rain; rainbows; rained; rainfall; rainier; raining; rains; rainstorm; rainy; raised; raishimi33; rajasthan; rakwwritpo; raleigh; rally; ralph; ram; ramag; ramat; rammed; ramp; rampage; rams; ran; rand; randallpinkston; randerson62; random; random_tourist; randpaul; randy; ranefihbuk; rang; range; rangerkaitimay; raniakhalek; rank; ranking; ransacked; ransomware; rant; rants; rap; rape; raped; rapid; rapidcity; rapidly; rapids; rapper; rappers; rapping; raptors; raq4zpdvke; raquel; raqupzfkjy; rar; rare; rascal; rat; rate; rather; rating; ratings; ratio; rationing; raung; rave; ravioliåêwith; raw; rawfoodbliss; ray; raychielovesu; raynbowaffair; rayner; raynor; rayquazaerk; rays; razak; razed; razedåê; razing; raì¼l; rb; rb2s0jmlej; rbbnjkoqud; rbmucurs2f; rbrw8pwipj; rbzomwgjee; rcburzsb2b; rchs; rcmp; rcqacn91be; rczalru05o; rd; rd10ex6hvt; rdg; re; re_shrimplevy; rea; reaad; reach; reached; reaches; reaching; react; reacted; reactor; reactors; reacts; read; reading; reads; ready; reafs; real; real_liam_payne; realdonaldtrump; realestate; realhiphop; realhotcullen; realise; realised; realism; realistic; realities; reality; realization; realizations; realize; realized; really; realmandyrain; realtime; realville; reap; rear; reason; reasons; reassigned; reator; rebahe; rebecca; rebeccaforreal; rebelled; reblogged; reboot; rebooting; rebuilding; rec; recal; recall; recalled; recalls; recap; receipts; receive; receives; recent; recently; recip; recipes; reckless; reckon; recognised; recognition; recognize; recoil; recommend; recommendations; recommended; record; recordand; recorded; recording; recount; recover; recovered; recovery; recreates; recruiting; recruitment; recycling; red; redbull; redcliffe; reddakushgodd; reddeer; redding; reddish; reddit; redeem; redeemeth; redemption; redesigning; redistribute; redlands; redondo; reds; redskins; redsox; redsoxnation; reduce; reduced; reduces; reebok; reed; reef; reeko; reeves; referencereference; referring; reffbkvg9r; reflect; reflected; reflections; refrigerator; refugee; refugees; refugeesmatter; refugio; refund; refunds; refuse; refused; refuses; reg; regalo; regard; regarding; regardless; regc; regent; reggaeboyz; regime; region; regional; register; registered; regret; regular; reid; reimagining; reince; reined; reinstate; reiterate; reject; rejected; rejects; rejoice; related; relations; relationship; relatives; relax; relaxinpr; relay; release; released; releases; relegation; relentless; relief; religion; relive; remade; remain; remains; remand; remark; remarkably; remaster; rembr; remedial; remember; remembered; remembering; rememberrabaa; remembrance; remind; reminded; reminder; reminds; remixes; remodeled; remorse; remorseless; remote; removal; remove; removed; removing; remymarcel; ren; renamed; render; rendered; rene; renew911health; renewed; renfrew; renison; reno; renovation; rent; renunciedilma; reopen; reopening; reopens; rep; repair; repairs; repatriated; repatriating; repay; repdonbeyer; repeat; repjohnkatko; replace; replaced; replacement; replacing; reply; report; reported; reportedly; reporters; reporting; reports; representative; repression; reprises; reprocussions; republic; republica; republican; republicans; reputation; repì¼blica; request; requests; requiem; required; requiring; rescue; rescued; rescuers; rescuing; research; researchers; resemblance; reserved; reset; reshape; reshapes; reshareworthy; residence; resident; residential; residents; residual; resigninshame; resilience; resin; resistant; resolved; resource; resources; respect; respected; respects; respond; responded; responder; responders; responding; responds; response; responsibility; responsible; resque; rest; restart; restaurant; restaurants; resting; restive; restlessness; restore; restoring; restoringpaths; restricted; restrospect; result; resulted; resulting; results; resumed; retail; retainers; retard; retiredfilth; retirees; retirement; retooled; retract; retro; retroactive; return; returned; returning; returns; retweet; retweeted; reunion; reusing; reuters; revealed; reveals; reveillertm; revel; revelation; revenge; revenues; revere; reverse; review; reviewers; reviewing; reviews; revitup; reviving; revolt; revolution; reward; rewatchingthepilot; reworked; rexyy; rey; rezaphotography; rfb3jxbiej; rffpqbaz2f; rfjzexqgxt; rfp; rfvjh58ef2; rg3bndkxjx; rg4jishybs; rg9yaybosa; rgdrjv63hf; rgpem2tqej; rgyuakc0dr; rhee1975; rheinbach; rhett; rhiannon; rhinestone; rhode; rhodeisland; rhtaqjvqn2; rhxmghspd7; rhyme; ri; ribbon; rice; riceechrispies; rich; richard; richardson; richland; richmond; ricin; rick; rickets; rickperry; rickybonessxm; rico; ricotta; rid; rida; riddler; ride; rider; riders; ridge; ridiculous; ridiculously; riding; rifles; rig; rigga; right; righteous; rights; rightways; rightwaystan; rihanna; rijkswerf; rijn; rin; rindou; ring; rinkydnk2; rio; rio2016; riooooos; riot; rioters; rioting; riots; rip; ripped; ripping; ripple; ripples; ripriprip; rips; ris; rise; rises; rising; risk; risks; risky; rite; ritual; ritualistic; ritzy_jewels; rivals; riveeeeeer; river; riverroaming; rivers; riverside; rivieres; riyadh; rizzo; rjcaxjp4os; rjebpib5rz; rjju70rhyu; rjkrraj; rjopjkbydr; rjpjbwvfck; rkb7egkveb; rkdzb0tgc3; rku0idm6aq; rl; rlftjmhhvt; rln09wke9g; rlpttkbg4w; rly; rm50vcvjsh; rm6cnzkszl; rmucfjcazr; rn; rnk; rnqebaycvm; rny4l3sr7a; road; roadid; roads; roadside; roadway; roaming; roanoke; roar; rob; robbed; robbie; robbiewilliams; robdelaney; robert; robertbenglund; robertcalifornia; robertharding; robertmeyer9; roberts; robin; robinson; robot; robot_rainstorm; robotcoingame; robpulsenews; robthier_en; rochdale; rochester; rock; rockbottomradfm; rockefeller_chi; rockefelleruniv; rocket; rocketing; rockford; rockin; rocking; rockingham; rockland; rocks; rockstar; rockville; rocky; rockyfire; rocyyei2dm; rodarmer21; rodkiai; rodpt33xfm; rods; roga; roger; rogers; rogersville; rogue; roguewatson; roh3; roh3smantibatam; rohingya; rohnertparkdps; roi2nsmejj; roimentor; rolandonabeats; role; roleplay; roles; roll; roller; rolling; rolls; rolo; roma; roman; romanatwoodvlogs; romance; romania; rome; romeo; romeocrow; romero; romford; ron; ronaldo; ronda; rondarousey; ronge; ronnie; roof; rooftops; room; roomr; rooms; roosevelt; root; ropes; roppongi; rorington95; rorktmpqns; rory; rosa; rosalie; rose; rosemarytravale; roses; roseville; roskomnadzor; ross; rossbarton; rossum; roster; rosters; rosvxqelqj; rotating; rotation; rotations; rotherham; rotten; rotterdam; rotting; rouge; roughdeal1; round; round2; roundhouse; rousey; route; routecomplex; router; routes; routing; rover; roving; row; rowyso; rowysolouisville; roy; royal; royals; royton; rp; rp2dxfkhdq; rpbxdfnx5k; rpda60aoni; rpmtropsvr; rpn; rpneaj6fod; rptouz2ijs; rpvzbesuqj; rq; rqbspucjdf; rqiuqxnm2x; rqkk15uhey; rqu5ub8plf; rqwuoy1fm4; rrbc; rrq1ildkil; rrusa; rs; rs22lj4qfp; rs40000cr; rsa; rsf; rslm72254; rsn; rspca; rss; rsv9atj9vh; rt; rt_4_a_mention; rt_america; rt_com; rtcufag0au; rteugb5tnv; rtfirzcpoc; rtrrt; rts; rubber; rubbery; rubbin; rubbing; rubble; rubi_; ruby; rubybot; rudd; ruddyyyyyy; ruebs; ruhl; ruin; ruined; ruining; ruins; rujv4vpnbv; rukjyjg9oq; rule; ruled; ruler; rules; rum; rumah; run; runaway; runbenrun; runjewels; runkeeper; runner_joy; runnin; running; runs; runway; ruor; rupaul; rural; rush; russaky89; russell; russellville; russia; russian; ruthann; rutherford; rutherfordton; rv; rv0fk7q4y5; rv9dv6joew; rvacchianonydn; rvfriedmann; rvkyj3yuvk; rvmmut3gvc; rvsyxwj9cp; rw8b50xz9m; rwa; rwrabbit; rwy; ryah8fni5q; ryan; ryanoss123; ryleedowns02; ryobyqjfce; rz0adzursw; rzl; rzlytnez2u; rzsulzmokx; rzxqssun02; rì; s01e09; s0ctcqjvjx; s0eyq1wehe; s0ktiliskq; s0vgtkhw7v; s2g; s2kxvm0cba; s2wm8lh7oo; s3xleak; s43we7oe2i; s4srgrmqcz; s5; s5nuegswyj; s61; s7grbznwlr; s7nbowa7tp; s7vygenjuv; s7xdxuudcy; s8oinfgxyx; s_casualty; sa; sa15t; sa5cdwvdxt; saalon; saat; sabbath; sabrina; sac; sacae; sackings; sackville; sacramento; sacrifice; sad; saddle; saddlebrooke; sadly; saf9mosksn; safari; safe; safely; safer; safety; safferoonicle; sagacioussaber; sahbhlxssh; sahel; sahib; sahq5uoahw; said; sail; sailing; sailors; saint; saintsfc; saipan; saison; sake; sakhalintribune; sakorgdqul; saladinahmed; salado; salamanca; sale; salem; sales; saline; salisbury; sally; salman; salmanmydarling; salmon; salon; salt; salted; saltillo; salty; salute; salvador; salvadoran; salvages; salvation; salvi; salyers; sam; sama; samanthaturne19; samaritans; same; samel_samel; sami; samihonkonen; sammy; sammysosita; sample; samples; sampling; samsmithworld; san; sanction; sanctioned; sanctions; sand; sanders; sandiego; sandra; sandrabland; sandstorm; sandunes; sandy; sanelesstheory; sanganer; sanitizing; sanity; sansa; santa; santafe; santanico; santiago; santo; saohvjktqc; sapphirescallop; sara; sarah; sarahksilverman; sarahmcpants; sarcasm; sarcastic; sarniamakchris; sarumi; sasha; sask; saskatchewan; sassy; sat; satan; satanaofhell; satchel; satellite; satellites; satin; satire; satisfying; satoshis; saturated; saturation; saturday; saturn; saudi; saudiarabia; saudies; saumur; saunders; savagenation; savannahross_4; save; savebees; saved; savedenaliwolves; saver; saveti; saving; savior; savioursquadåç; savour; saw; say; sayed_ridha; sayin; saying; says; sayzt2oagm; sb; sb3rjqqzix; sb5r7shccj; sbee; sbfglqjzfs; sbgirvqvzb; sbhhkkz01y; sbila2yqjq; sbnation; sbzwruwufh; sc; sc4twjkxr1; scabs; scale; scaligero; scalpium; scam; scandal; scandals; scandinavia; scare; scared; scares; scarier; scariest; scarlet; scars; scary; scattered; scegnews; scene; scghl0piq6; schedule; scheer; schelbertgeorg; scheme; schiphol; schism; schoenfeld; scholars; school; schoolboy; schools; schwarber; scichat; science; sciencefiction; scientist; scientists; scifi; scissor; scmp_news; scofield; scorched; score; scored; scorpions; scotia; scotland; scotrail; scott; scottdpierce; scotto519; scotts; scottsdale; scottwalker; scourge; scourgue; scout; scouts; scranton; scraped; scraptrident; scratches; scratching; scream; screamed; screaming; screamqueens; screams; screeching; screen; screening; screenshot; screenshots; screw; screwed; screwston; scriptettesar; scrolling; scseestapreparando; sct014; scuf; scum; scumbernauld; scwx; scxfc5wi9t; scynic1; sd; sd7loww9nu; sdgoutwntb; sdmrzgeryx; sdxzhjco0x; sdzrrfzhmy; se; sea; seagull07; seagulls; seal; sean; seanhannity; seanpeconi; search; searching; seas; seashore; season; seasonfrom; seasons; seat; seatbelt; seats; seattle; seattledot; seattletimes; seawalls; seaworld; sebee; sec; seclusion; second; secondhand; seconds; secret; secrets; sectarian; section; sector; secured; securing; security; sedar; seduction; see; seeb; seed; seeds; seeing; seek; seeker; seeking; seeks; seem; seemed; seemeth; seems; seen; sees; seeweed; sef; sega; seismic; seismicsoftware; seize; seizing; sejorg; sek6mq6njf; sel; selangor; select; selection; selects; selena; self; selfavowed; selfie; selfies; sell; seller; selling; selma2oakland; selmo; selmoooooo; semarang; semasirtalks; semekeepschanging; semi; seminars; semw5cq7dg; sen; senate; senatemajldr; senator; send; sending; sends; senfeinstein; senior; sensanders; sense; senseless; sensitive; senso; sensor; sensory; sent; sentenced; sentient; sentinel; seoul; sep; separate; separated; separation; sept; september; sequalae; sequel; sequence; sequwmvfx4; serarcnrby; seras; serbian; serene; serephina; sergipe; serial; series; serious; seriously; serva; servants; serve; served; servers; service; services; servicin; serving; seshqn5dsk; session; sessions; set; setanta; setlist; sets; setsuko; setting; setting4success; settle; settlement; setzorah; seven; sevenfigz; seventies; several; severe; severely; sewage; seward; sewer; sewing; sex; sexual; sexuality; sexy; sexydragonmagic; sf; sf5jdnvdw9; sfa; sfakqnveta; sg; sg1ftkaegq; sgc72; sgecnkfthu; sgxp1u5ol1; sh; sha; shaabi; shade; shadow; shadowflame; shadowman; shadows; shady; shah; shaheed; shake; shaken; shakeology; shaker; shakes; shakespeare; shaking; shakjn; shall; sham; shame; shanaynay; shanghai; shaniatwain; shantaeskyy; shape; shaped; shaper; shaping; shar; share; shared; shares; sharethis; sharia; sharif; sharing; sharjah; shark; sharkatraz; sharp; sharply; shatter; shaw; shawie17shawie; shayoly; shaznlmsfe; she; shedding; shedid; sheer; sheeran; sheet; sheff; sheffield; shekhargupta; shelby; shell; shelley; shelli; shells; shelter; shemesh; shepherd; sheriff; sherwood; shevlin; shhlv4dplz; shia; shias; shidddd; shield; shift; shifted; shifter; shifts; shii; shimmyfab; shines; ship; shipping; ships; shipsxanchors; shipwreck; shira; shire; shirt; shit; shite; shitsickles; shitton; shitty; shity; shizune; shkimonmlw; shoalstraffic; shock; shocking; shoe; shoes; sholt87; shook; shoot; shooter; shooting; shootings; shootoutåê; shop; shoppe; shopping; shops; shore; shores; short; shorts; shot; shotgun; shots; should; shoulder; shoulders; shouldn; shout; shouted; shouting; shoutout; shove; shovel; show; showcase; showdown; showed; shower; showers; showing; shows; shrhkfj1bc; shropshire; sht; shtap; shtf; shud; shuffle; shuffled; shut; shutdown; si; si02qrguka; sibling; sicamous; sicily; sick; side; sided; sidelines; sides; sidewalk; siding; sidjsjdjekdjskdjd; siena; sif; sifting; sigeeq42cz; sight; sigmund; sign; signal; signed; significance; significant; signing; signs; sigue; sihqpluidw; sijnbmczij; sikh; sikkg0fphr; silang; silas; silence; silenced; silent; silent0siris; silentmind; silesia; silinski; silly; silo; silver; silverhusky; silverman; silvermoon; silverstar58200; silvery; similar; simmering; simmons; simon; simple; simplify; simply; simpson; simulate; simulation; simultaneous; sin; since; since1970the; sincere; sincerely; sincerely_tsunami; sindria; sing; singapore; singer; singing; single; singles; sinistras; sinjar; sink; sinkhole; sinking; sinkingshipindy; sioux; sippin; sir; sirbrandonknt; siren; siren_song21; siren_voice; sirens; sirius; sirmione; sirmixalot; sirtophamhat; sis; siskiyou; sismo; sister; sisterhood; sisters; sit; site; sites; sitting; sittway; sittwe; situation; six; sixth; size; sized; sizewell; sj57boksib; sje59u2nnm; sjh0hsrp4s; sjkgjxff2r; sjnyfszcu1; sjoeing76t; sjtvzggcxu; sjubb; sjxllzosw7; sk398; skaggs; skanndtyagi; skardu; skdbot7tgf; sketch; sketchbook; skh; ski; skies; skiing; skill; skills; skimmed; skims; skin; skinless; skinny; skip; skipping; skirt; skq8oucm3r; skqpwsnoin; sks5jccrj2; skull; skvnmtzgeg; sky; sky9eokggb; skye; skyhold; skyler; skyline; skynet; skynews; skyrim; skyscrapers; skywars; sl; slab; slain; slam; slammed; slams; slanglucci; slappin; slapping; slate; slated; slateport; slatina; slating; slatukip; slaughter; slave; slavery; slaves; slay; slc27emugm; sleep; sleeper; sleeping; slept; sliced; slicker; slide; slides; slideshare; sliding; slight; slightly; sligo; slip; slipped; slipper; slipping; slips; slit; slithering; sllikely; slogan; slone; slopeofhope; slosher; slosheriff; slovenia; slow; slower; slowly; slows; slsandpet; slttorrlhs; slumber; slytherin; sm; smackin; small; smallbiz; smallbusiness; smaller; smantibatam; smart; smartnews; smarttek; smash; smaug; smb; smeared; smell; smelled; smelling; smells; smfh; smh; smile; smiles; smiling; smirking; smith; smithsonian; smoak_queen; smofc; smoke; smokes; smoking; smoky; smoothed; sms; smth; smug; smugglers; smugglersåênabbed; sn; snack; snacks; snake; snakes; snap; snapchat; snapchatselfie; snapharmony; snaymldiun; snazzychipz; snd; sneak; sneaking; sneaks; sni; sniff; sniiiiiiff; sniping; snippets; snooker; snort; snotgreen; snow; snowball; snowden; snowflake; snowstorm; snqfhpym3o; snuck; snuff; snxgh9r16u; so; so81ab3a1x; soak; soaring; sobbing; soc; socal; soccer; social; socialism; socially; socialmedia; socialnews; socialtimes; society; socket; sockets; sodak; sods; soea1ggbkj; sofa; soft; softball; softenza; software; soggy; sol; solano; solar; sold; soldi; soldier; soldiers; sole; solelinks; solicitor; solid; solitude; solo; soloquiero; solos; solution; solve; somalia; some; somebody; somecity; someday; somehow; someone; someones; someplace; somerset; somethin; something; sometimes; somewhere; somme; son; sona; soner; song; songfor; songs; songwriter; songz; soni; sonia; sonisoner; sonofbobbob; sonoranrattler; sons; sony; sonyprousa; soo; soon; soonergrunt; soonermagic_; sooo; soooo; sophia; sophie; sophieingle01; sore; sorely; sorrow; sorrower; sorrowful; sorrows; sorry; sorrybutitstrue; sort; sothwest; souda; soudelor; soufside; soul; soulja; souls; soultech; sound; soundcloud; sounders; sounding; sounds; soundtrack; soup; source; sources; sousse; south; southafrica; southampton; southbound; southdown; southdowns; southeast; southern; southline; southridgelife; southwest; soviet; sow; soyeh; sp; spa; space; space_wolverine; spaceship; spacex; spain; spam; spammers; span; spaniel; spanish; spare; spark; sparked; sparking; sparks; spartans; sparxxx; spe7u8t40k; speak; speaker; speaking; speakingfromexperience; spears; special; specialist; specialists; specialize; specialized; specially; species; specif; specific; specifically; specimens; specs; spectacular; speculatio; speculation; speed; speeding; speedtech; spell; spencer_fearon; spencers; spend; spending; spends; spent; sphwe6wfi5; spice; spider; spiderweb; spies; spike; spill; spilled; spin; spinning; spinningbot; spins; spirit; spirits; spit; splash; splatdown; splatling; splatoon; splattershot; split; spoil; spoiled; spokane; spoke; spokes; sponge; sponsor; sponsorships; spontaneously; spookyfob; sport; sport_en; sportinggoods; sports; sportsroadhouse; sportwatch; spos; spot; spotlight; spots; spotting; spouse; spouting; sprains; spray; spread; spreading; spree; spring; springer; springs; sprinklers; sprinter; spså; spt54kfa9q; spuhuvgasy; spur; spurgeon; spurs; sputnik; sputtering; spx; spying; spymiqnecj; spyro; sq; sqfp6ecz0i; sqgogj3s5r; sqmtkkjimj; sqn4girdvz; sqpshaws0w; sqsyueh4yi; squabble; squad; square; squeaky; squeeze; squeezed; squibby_; squirrel; sqydkslfzp; sr; sr14; sr37; srbqlmuwbv; sri; srslcxhc2t; sruj5zljgl; ss; ss1zl36y9v; ssb4; sslt8esmhy; ssn1mxsfoa; ssshhheeesshh; ssssnell; sstj2bepqn; ssu; ssw; st; st5fgblsye; stab; stabbing; stacdemon; stacedemon; stacey; stacks; stadium; staff; staffing; stage; staged; stages; staid; staining; stalin; stallion150; stamford; stamp; stan; stand; standard; standardised; standardized; standards; standforwolves; standing; stands; standstill; standup; standwithpp; stanford; stankyboy88; stans; star; starbs; starbucks; stardate; stare; stark; starks; starmade; starr; starring; stars; start; started; startelegram; starter; startide; starting; startrek; starts; startup; startups; starve; starving; stat; state; stateless; statement; statements; staten; states; statesboro; statesville; station; stationcdrkelly; stations; stats; status; stavernise; stay; stays; stds; steady; steak; steal; stealing; steals; stealth; steam; steel; steel_lord; steep; stem; stemming; step; steph93065; stephen; stephenking; stephenscifi; stephenson; stepkans; stepped; steps; stereo; sterling; stern; steve; steven; stevenontwatter; steveycheese99; stevie; stew; stewart; stfxuniversity; stick; sticker; sticking; sticks; sticky; stickynyc; stil; still; stillness; stir; stl; stlnd; stlouis; sto; sto58qa94c; stock; stockholm; stocks; stockton; stockwell; stokes; stole; stolen; stomach; stone; stonebrewingco; stones; stonewall; stony; stood; stool; stop; stopharper; stoponesounds; stopped; stopping; stops; store; stories; storm; stormbeard; stormchase; storming; storms; stormtrooper; stormy; stortford; story; storybrooke; stout; straight; straightfire; strain; strains; straits; strand; stranded; strange; strangers; strap; strategicpatience; strategies; strategy; stratford; strawberries; strawberry; strawberrysoryu; stray; streak; stream; streaming; streams; streamyx; street; streetlight; streets; strengthening; stress; stressed; stresses; stressful; stressing; stretched; stretcher; stretches; strickskin; strict; strictly; strike; striked; strikes; strip; strips; strives; stroke; strong; stronger; strongest; strongly; struck; structural; structure; structures; structuring; struggle; struggles; strutted; strutting; sts; stu; stuart; stuck; studebaker; student; students; studies; studio; study; studying; stuff; stuffin; stump; stunckle; stung; stunned; stunningly; stuns; stuntfm; stupid; stupid_niggr; stupidity; sturgis; stury; stvmlly; stw3pg3t0o; sty; style; styled; stylish; stylishly; su; su4zvwadj7; sub; subconscious; subcontractor; subject; subjected; submerged; submissions; submitting; subreddits; subs; subscribers; subscription; subsd; subsequent; substantial; subtle; subway; success; such; suck; sucked; suckers; sucks; sudden; suddenly; sue; suffer; suffered; suffering; suffers; suffice; sufficiently; suffield; sugar; sugarhouse; suggs; suginami; suh; suicide; suicides; suilzs2s95; suing; suit; suitable; suited; suites; suitland; sul; sumatera; summary; summer; summer2k15; summerfate; summerhallery; summerinsweden; summerslam; summertime; summit; summon; summons; sun; sunbathe; sunburst; sunbury; suncorp; sunday; sundays; sundercr; sundowns; sunflower; sunk; sunnis; sunny; sunnyvale; sunrays; sunrise; suns; sunset; sunsets; sunshine; suny_orange; super; superb; superbug; superhero; superintende; superintendent; superiority; supermarket; supernatural; supernovalester; superpower; superstitions; superv; supervisor; suplex; supply; support; supporter; supporters; supportive; supports; suppose; supposed; supreme; supremo; surabaya; surah; sure; surely; sureshpprabhu; surety; surf; surf_photo; surface; surfers; surge; surgery; surges; surgical; surprise; surprised; surprises; surrender; surrey; surrounded; surrounding; surry; suruc; suruì; survey; survival; survive; survived; survivor; survivors; suryaray; susanj357; sushi; susinesses; suspect; suspected; suspended; suspense; suspicious; sustainable; suv; suva; suvs; sux; svetlana; sw; sw_trains; swallowed; swallows; swam; swanger; swaning; swansea; swarm; swayback; swayoung01; swb1192; swea; swear; sweat; sweated; sweater; sweden; swedish; sweep; sweeping; sweet; sweet2young; sweetiebirks; sweetpea; sweets; swells; swellyjetevo; swift; swiftly; swiftycommissh; swim; swiming; swimming; swindon; swinfo; swing; swingman; swiss; switch; switching; switzerland; swivels; swmo; swollen; swords; sworn; swpdq84boi; swq5lmydka; sws; swviazsphk; swvuzxi6gt; sww0qsmxvm; swwylrk0fv; sxhw2tnnlf; sxmlg3xdvx; sxqtyduvul; sxwjyr3k3l; sy2whxt0k5; syd; sydney; symantec; symbol; symbolicjensen; sympathy; symphony; symptoms; syndrome; syria; syrian; syringetoanger; sys; system; systematic; systems; sywuel7yyx; sz2rvwpwhj; szeapueuvy; szmnextdoor; szuter; sì; t07qxp5cbe; t1000s; t1mbw0ia3o; t2kk8fya77; t344phnpy9; t4axz7kc3s; t4fvvnrpc5; t4pv0nroov; t5agps7t2b; t5trhjuau0; t6seku4yvm; t7ge0j3cay; t81oayjowc; t8nz6h9zz4; t8sv2ai7sw; t94lnfwf34; t_t; ta1yqclpsc; taaylordarr; tab; table; tablet; tacit; tackettdc; tacoma; tacos; tactful; tactics; tadhgtgmtel; tae; tafekop; tag; tagged; tagging; tagzbcxfj0; tahoe; tail; tailor; taint; taipei; taiwan; tak; take; takeaways; takecare; taken; takes; taking; takis; tale; talent; tales; talibans; talisman; talk; talkin; talking; talkinghell; talkradio; talks; tallahassee; taller; tambourine; tamilnadu; tammy_w1997; tampa; tampabay; tangled; tangletalk; tank; tantrums; tanzania; taoistinsight; tape; taraswart; tardis; tareksocal; targ56igbz; targe; target; targeting; tarleton_sophie; tarmineta3; taron; tarp; tarragona; tarynel; tasks; tasmania; taste; tasted; tastes; tat; tattoo; tattooed; tattoos; tatzfk63ch; taufikcj; taught; taungbazar; tawfmcaw; tax; taxes; taxiways; taxpayers; taxreturn; taxstone; taxuxp9qa2; tayiorrmade; taykreidler; taylor; tb; tb8gzembxu; tbbobvcotj; tbh; tblack; tbm9fqb8cw; tbpqlyfyot; tbqsqtmqv4; tbr; tbs; tbstk5vqu0; tbt; tbx8cakdrw; tc; tcc; tcgreno; tch; tcot; tcotåê; tcs2cd5y6y; tdaktglu5p; tdcch01n7q; tdeqwm8zxn; tderbtgz2k; tdeukjzzii; tdm; tdp; tdwprvb04y; te; te2yerugsi; tea; teacher; teachers; teaching; teafrystlik; team; teamatowinner; teamhennessy; teammates; teamo; teams; teamscorpion; teamstream; teamsurvivors; teamvodg; tear; tears; teases; tech; techesback; techfish; technical; techniqu; technique; technologies; technology; tecno; ted; tedcruz2016; teddy; teduka; tee; teeess; teemo; teen; teena_797; teenfiction; teens; tees; teesside; teeth; tejas; tejc; telangana; telegraph; telekinesis; telemarketing; television; tell; telling; tells; telltale; telly; tellyfckngo; telnet; tem; tema; temecula; temper; temperature; tempered; temple; temporarily; temporary; temptation; ten; tends; tennessee; tennessees; tennis; tenno; tennoatax; tens; tenshi; tensift; tension; tent; tepat; tepco; teq7sri57p; ter_ell; terlingua; term; terminated; termn8r13; terms; terrain; terran; terre; terrible; terrific; terrified; terrifying; territory; terror; terrorism; terrorist; terrorists; tersestuff; terwilliger; tesco; teslas; test; tested; testicles; testify; testimonials; testimony; tests; testy; tewkesbury; texansdc; texas; texaschainsawmassacre; texasss; text; texting; texts; texture; tezltqeyw2; tf; tfan6qq2ys; tfb; tfcdronra6; tfgrayudc5; tflbusalerts; tft1bb4xaz; tfw; tg; tgcr5vofj3; tgdonttkty; tgtcru8jio; tgxutuoyhl; th; th2wlilbmo; th9ywbbeet; tha; thai; thailand; thalapathi; than; thancred; thane; thanjavur; thank; thankful; thankfully; thankkk; thanks; thanku; thankyou; that; thatpersianguy; thatrussianman; thats; thatswhatfriendsarefor; thda; the; theadvocatemag; theashes; theater; theatershooting; theatlantic; theatre; theatres; thebargain; theblackshag; theblaze; thebookclub; thebriankrause; thebuffshow; thecomedyquote; theconspiracytheory; thedailybeast; thedailyshow; thedarktower; thedoolinggroup; thee; theemobrago; theevilolives; theft; thegame; theghostparty; thehammers_; thehighfessions; their; theirs; thejenmorillo; thelegendblue; thelonevirologi; them; themagickidraps; themaine; themale_madonna; themed; themhe; themselves; then; theneeds; theological; theory; thepartyofmeanness; theramin; therapies; therapy; there; therealrittz; therefore; therein; thereisonlysex; thereof; theres; these; thesensualeye; thesewphist; thesteveharveyshow; thestrain; thetawniest; thetimepast; thetshirtkid; thetwisterokc; thetxi; thewesterngaz; thexfiles201days; they; theyre; thh; thhjjw51pe; thibodaux; thick; thigh; thin; thing; things; think; thinking; thinkpink; thinks; thinner; third; thirst; thirsty; this; thisdayinhistory; thisisfaz; thisishavehope; thisisperidot; thisispublichealth; thisiswhywecanthavenicethings; thisizbwright; thmblaatzp; thnexicgqe; thnk; tho; thomas; thomashcrown; thomassmonson; thomasvissman22; thorgan; thorium; thoroughly; those; thou; though; thought; thoughts; thousand; thousands; thoyhrhkfj; thr; thrarchives; thread; threat; threatconnect; threatening; threatens; threatintel; threats; three; threesome; threw; thrhkhogcuåê; thriller; thrissur; thriving; throat; thrones; through; throughout; throw; throwback; throwin; throwing; throwingknifes; thrown; thru; thrusts; thruuu; ths9iqswp3; tht; thu; thucydiplease; thuggin; thunder; thundering; thundersnow; thunderstorm; thunderstorms; thurlow; thurs; thursd; thursday; thus; thx; thy; thyroid; thyzomvwu0; tianta_; tiara_marei; ticket; tickets; ticklemeshawn; tidal; tidalhifi; tide; tides; tie; tier; tiffanyfrizzell; tigers; tigersjostun; tiggr_; tightly; tightrope; til; til_now; tilgurkv7z; till; tim_a_roberts; tim_micallef; timber; time; time2015; time4me_sews; timebomb; timed; timeline; times; timesofindia; timestack; timey; timing; timkaine; timur; tin; ting; tinixw; tinybaby; tinyjecht; tipperary; tips; tipster; tire; tired; tirelessly; tita; titan; titania; titanic; title; titolo; titortau; tittie; titty; tix; tj3ltpzfw1; tj_robertson2; tjoz4u4txl; tk65ske0zm; tkeoaedqkq; tkjybjjskl; tkyonly1fmk; tl93aod3er; tlc; tlk; tls40nqipn; tlvfaces; tm5hthfdo0; tm9zbhjcyf; tmgcgart; tmid_; tmipegqyev; tmmorvxswz; tmp; tmpfwjpi6i; tmr; tms7; tmz6x1n2gq; tmzxopvs94; tn; tn1ax1xmbb; tna; tneazzy; tngye2fklv; tni92fea3u; tnn; tnwx; to; to0bpieyms; to9viqoofv; tobago; tod; today; todayhave; todayng; todayngr; todays; todaysbigstock; todd; toddler; toddstarnes; toddyrockstar; toe; toenail; toes; together; togthe; toiindianews; toilet; toilets; tokteacher; tokyo; told; toledo; tolerated; tolewant; toll; tom; tomarse99; tomatoes; tomcatarts; tomclancy; tomdean86; tommorow; tomorrow; ton; tongue; tonight; tons; tonto; tony; tony_burke; tonyakappes11; tonycottee1986; tonymcguinness; tonysandos; too; toocodtodd; took; tookitlikeaman; tool; tools; toooooo; toosoon; tooth; tootrue; top; top25; topic; topnews; tops; topstories; tora; torch; torching; tories; torn; tornado; tornadoes; tornadogiveaway; tornados; toronto; torontorc; torrent; torrential; torry; torso; tort; torture; tory; tos; toss; tosu; total; totaling; totalitarian; totally; tote; totes; totteham; touch; touched; touching; tough; toughens; tounge; tour; tourists; tournaments; tourofutah; tours; toward; towards; towboat; towel; tower; towers; towing; town; towns; township; toxic; toxicsavior_; toyu16mxbo; tozlet; tpanic; tpoaprjudp; tprimo24; tps; tq3j2qgtzq; tqh5amoknd; tqwrw3jqwo; tr; tra; trace; traces; tracey; track; tracking; tracklist; tracks; trackside; traction; tractor; trad; tradcatknight; tradcatknights; trade; trading; traditional; traditionalist; traffic; trafficalert; trafford; tragedy; tragic; trailed; trailer; trails; train; trained; training; trains; traintragedy; traitor; trajectories; tram; trampling; trans; transcription; transfer; transformation; transformed; transgendered; transgress; transit; transport; transporta; transportation; transporting; trap; traplord_29; trapmusic; trapped; trash; trashed; trauma; traumatised; travel; travelelixir; traveling; travellers; travelling; traverse; travis; trc; treasure; treasures; treat; treated; treating; treatmen; treatment; treblinka; tree; treeporn; trees; treescape; trek; trekkers; tremblayeh; tremont; tremor; tren; trench; trend; trending; trends; trent; trestle; trey; treyarch; trfc; tri; triad; trial; trials; trib; tribal; tribe; tribez; tribune; triciaoneill; triciaoneillphoto; trick; trickier; trickxie; trident; tried; tries; triggered; trillac_; trillion; trillrebel_; trim; tring; trinidad; trinity; trinna; trip; triple; tripoli; tripsburg; triskelion; triumph; triumphant; trivium; trl1dskf81; trois; troll; trolley; trollingtilmeekdiss; trombonetristan; trooper; troops; tropes; trophies; tropical; trost; trouble; troubleonmymind; troubling; troupe; troy; troye; troylercraft; trp; trpreston01; trs; tru; trubgme; truck; truckcrash; trucking; trucks; true; truelove; truly; truly_stings; trump; trump2016; trunk; trunks; trust; trusted; trusting; truth; truths; try; trying; tryna; tryout; tryouts; ts; tsaletftkt; tsipras; tsunami; tsunami_esh; tsunami_nopeach; tsutomi; tt; tt4kvmvujq; ttb9oil8r2; ttq9ilhp8w; ttw; tu; tu6scrsxvg; tu9cglmgvr; tuai0zwgxu; tub; tube; tube4nbqnz; tubestrike; tucson; tuebingen; tuesday; tuffers; tui9uwbvvp; tuicruises; tullamarine; tulowitzki; tulsa; tumbling; tumblr; tunas; tunbridge; tune; tuned; tunein; tuning; tunis; tunisia; tunisian; tunnel; turbine; turbojet; turkey; turkish; turkmen; turkmenistan; turn; turned; turnedonfetaboo; turner; turning; turns; tutor; tutorial; tutorials; tuvbr4lep3; tux0ypwzur; tuzacdwfqd; tv; tvd; tvjnews; tvshowtime; tvyqczgjdy; tw; tw4rw; twcnews; twcnewsclt; tweak; tween; tweet; tweet4taiji; tweeted; tweeting; tweetinglew; tweetlikeitsseptember11th2001; tweets; tweetstorm; twelve; twentynine; twia; twice; twill; twimbos; twin; twister; twisterlovesshania; twitch; twitter; twitterville; two; twoptwips; twos; twpl0nl8cx; twx; twykzn4rlc; tx; txetcysm1h; txg7k2do9v; txlege; txrbdaubnn; txrswi0efg; txtpx4umqh; txy3us2ejs; txzxcnudr8; ty; ty5gavn7uk; tyar; tydxauuenq; tyewzf3hqa; tyjxrfd3st; tyler; tyleroakley; tyne; type; typewriter; typhoon; typical; typing; typography; typos; tyrant; tyre; tyrone; tytpbc4gwi; tyyfg4qqvm; tziolfte5i; tzszmf2qxe; tzyhdbw9f5; tìáchira; u0vdbrxfia; u1fuwrgk5u; u2; u2do2mc2ri; u2es0uk1u3; u2kwof3wtj; u30n3ffx8y; u3wao8asfg; u4bdy1w7d4; u4gsbnu8wc; u52rw9ji2r; u66kyg11zd; u6isxv2f3v; u7bbenxwyk; u7vavyrgv9; u8hsrtrxmm; u8rgb51d22; u9bkqt6xhr; u9cd0txe7z; u9fcb8dz3h; u9lvvlzhye; u9x3perxco; uabstephenlong; uae; uan05tnksw; uaodoquda1; uavfrtlfs4; ub1jzskmrc; ub3woz2ut1; uber; ubfr1urafc; ubvevuuach; uc4j4jhvgr; ucbfgibfor; uchicago; uchwtlc9b4zjugh7ydlb55iw; uclvihwoec; ucnckrnlow; ucudwiu3an; ucy5fea9yu; ud; ud7xobyua1; udhampur; udhampuragain; udj50j3mv4; udkesj01ml; udkmadkuzy; udlebh88uz; udp10frxrl; ue78c7egox; uea0txrhys; uelz59wvom; ufo4ublogeurope; uga; uganda; ugc; ugesklcn8m; ugh; ughptzjulk; ugliness; ugly; uglypeople; ugzu9iqprw; uh; uhc; uhf7nyabsw; uhfm1r3tq5; uhhhhh; uhkxmxab9l; uhl0akfvsm; uhmmmm; uhxodsc7wi; uilpg8i1ev; uisnqiu3if; uitm; ujk0e5gbcc; ujnrgfangj; ujrx9kgawp; uk; ukfloods; uknews; ukqybhxmqi; ukraine; ul5xdblmbk; ullman; ultimalucha; ultimate; ultimatum; ultra; um; um3wtl5r7k; um5icn5et2; umajwsnluf; umbrella; umjprrwruu; uml5jztmcb; umzkc9azwd; un; unable; unaddressed; unarmed; unavoidable; unaware; unawares; unbelievably; uncertain; uncle; uncommon; unconditional; unconfirmed; unconscious; unconsciously; uncontrollable; uncontrolled; uncover; under; undercover; underestimate; undergroundbestsellers; undergroundrailraod; understand; understandable; understanding; underwater; underway; underwriter; undeserving; undone; unexercised; unexplainable; unfilled; unfolded; unfollow; unfortunately; unfortunemelody; ungodly; unhappiness; unhappy; unharmed; unhinged; unholy; unhqcq6bex; unidos; uniform; uniforms; unimpressed; uninvestigated; union; unions; unique; unit; unite; uniteblue; united; unites; units; unity; universe; university; universityoflaw; unkn; unknowingly; unknown; unless; unlocked; unnecessary; unplug; unprecedented; unpredictable; unr; unreal; unrecognized; unrelenting; unrest; unsafe; unsayjdtu7; unsecured; unsensibly; unsigned; unstable; unstoppable; unsuccessful; unsuckdcmetro; unsure; untameddirewolf; untangle; until; untill; untmdoutdoors; unto; unveiled; unwarranted; uo0aqk9kr8; uonebahh3h; uoozxaus26; uorxff0nfx; uotpnsqpz5; up; upcoming; update; updated; updates; upgd2cy9il; upgraded; upgrades; upgrading; upheaval; uphill; upi; uplfsqmr0c; uplifting; upon; upper; uppwxda4yd; uprootin; uprooting; upset; upsetting; upstairs; uptown; uqh85mip0v; uqkx5vbium; uqnj6nk9y3; uqssnaattu; uqva3dfbca; ur; ur7fexszg4; uranium; urban; urbanfashion; urbanisation; urg; urgent; uribe; urine; urjwsvr311; urogyn; ursula; urufusanragu; uruguay; urì; us; us0qqqhqvj; us101; us70; usa; usage; usagov; usama; usami; usar15; usar2015; usat; usatoday; usatoday_nfl; usd; usdot; use; used; user; users; uses; usfs; usgs; ush59uq30j; ushanka; ushed; ushiocomics; using; usmnt; usnoaagov; usnwsgov; usual; usually; usvyhdg9og; uswarcrimes; ut; ut7r2ixrjq; utah; utc; utc2015; utc7pdidfo; utd; utfire; utica; utility; utilized; utmwmjirty; utopian; utp; utrecht; utter; utterly; utv; uu64wfg17m; uubovy9gqi; uuzfs1l5kt; uvaojzcycz; uve; uvq41i3kx2; uwitvbsbnc; uwobuuw2mk; uxcfbj3mzx; uxp6poqjlb; uxqkieqdyf; uymxocfs33; uyyyrkd6q3; uz1yiz7n6m; uzsqzycb8x; uzwlgjqzns; uzwxjbg0zh; v0yrfh9dkc; v1sfllowgh; v3azwoamzk; v3z96ydmvd; v4br5gjmiy; v4smaeslk5; v57nugmgkt; v5gtunwohy; v5ogr3f5n9; v5yuualoqw; v6; v6ijxccd2i; v6qxnfhrxf; v8; v8aftd9zez; v8gkkfmfxt; v9i4pfxo0c; va; vabengal; vaca; vacant; vacation; vaccines; vaginaorcake; vai; vail; val; valdes1978; vale; valentine; valle; valley; valparaiso; value; values; vam5podgyw; vampires; vampiro; van; vancouver; vancouveråêisland; vandalized; vanderbilt; vanessa; vanished; vanishing; vannuyscouncil; vanpoli; vantage; vape; vaping101; varagesale; varanasi; varies; variety; various; vashon; vast; vault; vaunps6wja; vaxshill; vayaymbngu; vb3vfm76ke; vbffodtp6m; vbhu2t8wgb; vbo1tjndps; vbqmz5apwj; vbsj8tniv1; vbswhz4s2v; vcirn1md8v; vcjcykq8b8; vckit6edev; vcq2icptki; vcu; vcv73buacz; vddi5chktp; vdefmulx43; vdgfxyx3bw; vdiliicyr5; vdukcv7yjy; ve; vecmsiuuh1; vedders; vegan; vegas; vegetable; vegetarian; veggies; vehicle; vehicles; veil; vela; veld; veldfest; veneto; venezuela; venice; ventilated; ventura; venture; verdict; vergil; verhoek; vermilion; vermont; vern; vernon; vero; veronicadlcruz; versethe; version; versions; very; vest; vestment; vet; veteran; veterans; vets; vets78734; vf6cklmcsx; vfbbchwrfd; vfctrzaok2; vg7jnah0iw; vg8hrbebda; vgbootcamp; vgf41iupkn; vgvjgr8zoo; vgzgok5k3s; vhcxtvcinr; vhrlswvzql; vi; via; viab; vibe; vibez; vibrates; vibrator; vic; vice; vicinity; vicken52; vickybrush; victim; victims; victoria; victoriagittins; victorian; victorinox; victorious; victorville; victory; vid; vida; vidalia; video; videos; videoveranomtv; vienna_butcher; vietnam; vietnamese; view; views; vigilent; vigils; vihdoksccc; vijfnhl630; villa; village; villagers; villages; ville; vilnius; vimvith; vince; vincent; vine; vines; vineyard; vintage; vinustrip; vinyl; violation; violations; violators; violence; violent; violentfeminazi; vir; viralspell; virg; virgil; virgin; virginia; virtual; virus; viscous; visibility; visible; vision; visionzero; visit; visited; visiting; visits; vista; vital; vitalvegas; vitaly; viterbo; vitesse; vitì_ria; vivaargentina; vivian; vivian_giang; vivianunhcr; vivid; viwxy1xdyk; vixmeldrew; vixstuart; vj44; vjbhxn9x1o; vjgr6liaxh; vjhpvlnbaw; vjsaqpxngn; vku3rtoz1j; vkwqbojfjc; vl5tbr3wbr; vladimir; vlaiuvtomm; vlnmklwwby; vmf5lnxvzc; vmjrtuvmh4; vmkexjtyg4; vmwtouyohm; vn0accf6d4; vn73o4sgzj; vnni3zzuz6; vnzybfgzcm; voc; vocal; vocalist; vodka; vods; voice; voices; void; vol; volcano; volcanodiscover; volcanoes; volfan326; volga; volleyball; voltaic; voltaire; voluntary; vont; voodoo; voodoo_ben; vor; vote; voted; votejkt48id; voter; voting; vox99fwkcx; voyruxcrin; vp; vplr5hka2u; vpqtgeqlma; vpvj5hrc1i; vra50; vroman; vrpmplczcy; vrpthvpymt; vrwc; vs; vscpgmsjxy; vsgqolr32g; vsoxkbt6nq; vsvy1qe69t; vt2aky5mgk; vtc; vtp8i8qlen; vuitton; vuln; vulnera; vulnerable; vuwbsrsnry; vve3usesgf; vvorm; vvplfqv58p; vxegcmmvbv; vxjcx8ukmd; vxsqpfe9na; vxuftvt9au; vxxmvgtzvg; vymnrnsthg; vymouzjzre; vz1irh0nmm; vz640xoswj; vzcvadkcqp; vzgslepkkh; vzpkn23rx4; vzwsupport; vì_a; vì_deo; vì_sterì; w0a1mjorhy; w0exzad5gc; w192wkog1m; w2ixt1k0ab; w3esx6ud8t; w56cf75mxe; w6o0uizf8p; w6yu7qs4cv; w7siidujoh; w9cd6offcj; wa; wackos; waco; wactt18gda; waddesdon; wafer; wage; wahhabism; waialua; wailuku; waimate; waimea; waist; wait; waited; waiting; waits; waiver; wakanda; wake; wakefield; waking; wal4frtfka; waldo; wale; walerga; wales; walk; walked; walker; walking; walkthrough; wall; wallahi; walls; wallybaiter; walmart; waltdisney; walter; walthamstow; walton; wamkre6ckd; wander; wanderlust; wandsworth; wank; wanna; wannabe; want; wanted; wanting; wants; war; warcraft; ward; wardens; warfare; warlord_queen; warm; warmbodies; warming; warn; warned; warning; warnings; warns; warped; warra; warri; warrington; warriorcord; wars; warsaw; warship; warships; warszawa; wart; warthen; was; waseembadami; wash; washard; washed; washing; washington; washingtonpost; washingtontimes; wasilla; wasington; wasn; wasnt; waste; wasted; wasteland; wastelands; watch; watched; watches; watching; watchthevideo; water; waterford; waterfront; waterloo; waters; watertown; waterways; watford; wattle; wattpad; wattys2015; waukesha; wave; waved; waverly; waves; waving; way; wayne; waynesteratl; ways; waziristan; wb; wb8awoblcl; wbcb3sytj7; wbcshirl2; wbi7laq18e; wblimlmt2x; wbogs8ejsj; wbu; wc; wc69xajis4; wc8aqxedf7; wce; wcfpznsn9u; wctv; wcvb; wcw; wd; wd9odwjj9l; wdueaj8q4j; wdvqlewybs; wdym; wdyouth; we; weak; weakening; weakness; weaknesses; weallheartonedirection; wealth; wealthy; weapon; weapon_x_music; weapons; wear; wearethenews; wearing; weather; weathernetwork; web; webcam; webinar; website; webster; wed; wedding; weddinghour; weddings; wedn; wedneday; wednes; wednesday; wee; weeaboos; weebly; weed; week; weekend; weekends; weeklong; weeks; weep; weigh; weighs; weight; weird; weirdo; welcome; welcomes; welfare; well; wellington; wells; welovela; weloverobdyrdek; weloveyoulouis; welshninja87; wema; wemwdtfwic; wendell; wenger; went; weqpesenku; were; weren; werk9qibvv; wesley; wesleylowery; west; westchester; westend; westerland; western; westerncanadadrought; westeros; westgeorgia; westmarch; weston; westside; westward; westwestwestwestwestwestwest; wet; weudlkc4o4; wews; weyburn; weymouth; weyrey_gidi; wezjqc4cf2; wf8itk2kvx; wfaaweather; wfseaobato; wftcrlz32p; wftv; wgefbuk4jk; wgl4lubnw1; wgmzmj5imd; wgqkxmby3b; wgwiqmicl1; wha; whack; whag; whales; whao; what; whatever; whats; whedonesque; wheel; wheeler; wheelers; whelen; when; whenever; where; whereas; wherever; whereveri; whether; which; while; whipe; whippany; whipped; whippenz; whirlwind; whistle; whistleblower; whistled; whitbourne; whitby; white; whitehouse; whiterun; whitewalkers; whitewashes; whitt; who; whoa; whocares; whoever; whole; wholesale; whomever; whoops; whopper_jr_760; whose; whs; wht; whvholst; why; whyor; wi; wicdiv; wicked; wickett; widda16; wide; wider; widespread; widout; width; wielding; wife; wifi; wilbraham; wild; wild_lionx3; wilden; wildfire; wildfires; wildhorses; wildomar; will; willhillbet; william; williams; williamsburg; willian; willie_am_i; willing; willinghearted; willis; willow; wilmington; wilshere; wilson; wiltshire; wimbledon; wimp; win; win10; wind; window; windowgatribble; windows; windows10; winds; windsor; windstorm; windstormåêinsurer; windwaker; windy; wine; winechat; wineisdumb; wing; wingers; wings; winik; winner; winning; winnipeg; wins; winston; winter; wiped; wipp; wire; wired; wireless; wis3h9tqrm; wisconsin; wisdc; wisdom; wisdomwed; wisely; wish; wishing; wishlist; wit; witch; with; withdraw; withdraws; wither; within; without; withstand; withåêannihilation; witness; witnessed; witnesses; witnessing; witter; wizard; wizkidayo; wj0u59mppb; wj7ujfs8fd; wjljq3ya4g; wk; wk63tm34a0; wk6b5z803o; wkmfdig3nt; wkpzp1jcau; wkrn; wllflfndgg; wlmsq3mtho; wmata; wmdihdiz1r; wmmkirj0hw; wmnb5ita5p; wmnonhxeir; wmoyibwec1; wmur9; wmutcdg36b; wmv; wn; wnd; wniagospel; wnptvbm5t7; wnw; wny; wo; wocowae; wod; woes; woke; woken; wolf; wolforth; wolmers; wolter; wolverhampton; wolves; wom; woman; womb; womem; women; womengirls; womens; wompppp; won; wonder; wonderful; wonderfully; wondering; wonderkid; wonderland; wonderousallure; wonders; wont; woo; wood; woodcreek; woodland; woods; woodward; woosley; worcester; word; wordk; wordldwide; wordpressdotcom; words; work; workd; worked; worker; workers; workforce; working; workout; workplace; works; world; worldnetdaily; worldnews; worldoil; worlds; worldvision; worldwatchesferguson; worldwi; worldwide; worldwideweb; worm; worn; worried; worries; worry; worrying; worse; worseits; worship; worst; worstoverdose; worstsummerjob; worth; would; wouldn; wouldnt; wound; wounded; wounds; wow; wowo; wox3vprixq; wpilp4mymf; wpkl2qniqw; wplrhbfhee; wpri; wps; wpt; wq3wjsgphl; wqgsmioimx; wqikqx9e3w; wqow; wqtdnp3w5a; wqul8pg5px; wr; wraith; wrap; wrapped; wrapup; wrb7xd8w5y; wreak; wreck; wreckage; wrecked; wrestleon; wrex; wrightsboro; wrigley; wrist; wristband; write; writer; writers; writes4coffee; writing; writings; writingtips; written; wrked; wrnpywyalj; wrong; wrongdejavu; wrongperson; wrote; wrought; wsaz_brittany; wsjthinktank; wsls; wspuxorewb; wtafaepukz; wtc; wtf; wth; wud; wudlkq7ncx; wuicdttuhf; wukcalnqms; wut; wv; wveo9ed10e; wvexjjrg6e; wvj39a3bgm; wvlah8jrxe; wvobvvtxkg; wvtpuryx63; wvvgmeja7l; ww1; ww3; wwa; wwat; wwe; wwexdreamer; wwfacu6nft; wwfqgcqyii; wwgadpffkw; wwi; wwii; wwp; wwu070tjej; www; wwwbigbaldhead; wwxbgubww5; wx; wx11d69gez; wxces39zte; wxela91juh; wxhmp5ppjq; wxky; wy; wyattb23; wye; wyokt0ftrw; wz55nbyao3; wzc5r4xoqz; wzedxefblg; x1386; x1392; x1441; x17fubqbgg; x1onv3d5ux; x1x6d5enef; x1xj0xvtj7; x2; x2qsjod40u; x2wn7o2a3w; x36; x3g2ox6k8r; x4ecggvnsn; x5jgkjv6ma; x5rc5nuamh; x5xumtoeke; x5yeuylt1x; x6asgrjswc; x6el3ysycn; x8i0mhyrmn; x8moyevjsj; x8zqbwnfo1; x9cuihib5n; x9mdhocpda; x9ofv1kmv7; xaermbmvlv; xb1; xb8nfxabum; xbox; xbznu0qkvs; xc96rwuszb; xcgzc45gys; xd; xdojjjj; xdt4vhfn7b; xdxdprcpns; xe0ee1fzfh; xehwmsh7lv; xekstrin; xela; xeni; xezbs3sq0y; xfhh2xf9ga; xgkyvf9t4f; xgnjgle9eq; xh4dz1gpyw; xhehjfft7g; xi; xico; xii; ximpnczxth; xiumin; xiydyfptru; xizkjfff29; xjkrxrnwnv; xkmlq99sjy; xkonkz0zl6; xkurdr3yev; xl; xl61; xlegc6uora; xlfi7ovhfj; xlq8g6vb2r; xm9stfzcpv; xmsvohkccp; xmwodfmtui; xn09mx6sxy; xnto3jmmts; xo; xojademarie124; xomi4zqzgp; xoxo; xp; xpddwh5tem; xpfmr368uf; xppqnyhiwc; xq92x4bvg3; xqbwnlbbiu; xqdvghz8g6; xqiadg9h2w; xqj6wgiuqh; xqrlewia4x; xrdwr8cdvm; xrgpdlswfd; xrja0xpl40; xrp0rtkffj; xrrlnhelap; xsgwm5zxpd; xspqdoriqj; xssgedsbh4; xszicdwxq0; xszx9mwxyp; xtf5dvgrvh; xtljz7bjgl; xtohi1hexy; xtra1360; xuhmj098lq; xuub2hbli5; xuzee2budv; xv; xv3d9bpjhi; xvaoqo4egr; xvii; xwms1aww8m; xwn7rgvkzc; xwnjysv9v9; xwvw1sft4i; xwxbyhtuzc; xxfk4khbiw; xxkhjysn0p; xxx; xy41z0o5ei; xyav4t5n0o; xyg7jhrjof; xyi5fdacxo; xyiwr9jetl; xyj0rpsai2; xyxtuaczvb; xzfxrglalp; xzlrwc0pik; xzv0lt9zzk; xzvmzqus0x; y0kbyy8nce; y217ceeemd; y2jt1amyfj; y2mt6v13e8; y35qtvdsoh; y3dm9ulqxg; y3fo0ghg8t; y3zfqjsvpz; y46isyzkc8; y4y8fcljed; y518jyrzav; y678xsnvj6; y7ghhyk05b; y7o55by36f; y7peto0dx2; y7sipkb1kd; y87gi3brlv; y8h5v1j2y7; y8wloctevc; y8xknpqmnj; y9w0v6te9o; ya; yadkinville; yagitudeh; yahistorical; yahoo; yahoo7; yahoocare; yahoofinance; yahoonews; yahoonewsdigest; yahooschwab; yahootv; yakub; yall; yamaguchi; yamaku; yamashiro; yankees; yao1e0xngw; yaqrsximph; yay; yazidis; yazje5owvk; ybdsljw7c1; ybe9jqoznr; ybjezkurw1; ybtheprophet; ybyp68ievn; yday; ydgiuydqgb; ydgmgbryl2; ydjpoph1dw; yduixefipe; ye; yea; yeaahh; yeah; yeahs; year; years; yeda; yee; yehuda; yejt18sbm0; yeljpqhmed; yell; yelled; yelllowheather; yellow; yellowknife; yellowstone; yemenis; yennora; yep; yeqq3bzx3g; yerct4j244; yes; yeshayad; yesterday; yet; yetagc2d8a; yeun; yewa; yeyeulala; yfavsuogvl; yfy3nkkcoh; yg32yb2jdy; yg697fcqgr; yh4r7ug21a; yh5vetm0yz; yhaqa5wxok; yhh7x0maio; yhngsjlg; yhqu5uv6ok; yhyy3o609u; yi30zgizsw; yi3oivk2x4; yiayplan; yikes; yilt1bb68k; yjjbntcazy; ykdsp0nrdq; ykelquiban; ykuauov9jo; ykvsttvdwo; yl67dkf4tb; ylhayfaoou; ylisse; yllqjljiiq; ymcglaun; ymczyvkfme; ymp0ginwza; ymuti3nd9r; yn6duotimr; yn6nxoucr1; ynxnvvkcda; yo; yo3t8qho9h; yobe; yoenis; yoga; yogurt; yogya; yojkfqej6s; yokohama; yolandaph; yolk; yonews; yooooooo; yopeypjkb2; yor; york; yorker; yorkshire; yosemite; you; you7wn9xvs; youd; yougov; young; younger; youngheroesid; youngins; youngsafe; youngstown; your; your4state; yourboy_shawn; yours; yourself; yourselves; youth; youtu; youtube; youuu; ypbvs1ijya; ypeelmjdzy; ypg; ypres; ypvjgzqqqb; ypvvqz8jzt; yqg5pvw5gx; yqhfio9xqm; yqjpn3quux; yqpaijsa5g; yqyiwjn8ez; yr; yr67ugesrm; yr8knephgu; yrfz5wj7r2; yrqgnblkac; yrs; yrvgykdbm6; ys3nmwwyvc; ysg9vsrt4g; yspon4d6qo; ysxhfwmgod; ysxun5vceh; ytkxwpyihg; yu6nue7gfb; yu_nita99; yubkhf9iyh; yucatìán; yug; yugoslav; yugvani; yuki; yulee; yuo7jdnijx; yup; yuppies; yuuko; yvafi3zujx; yvo6q6w442; yvsjyzwxjr; yvv1rlghft; yvvpznzmxg; ywkk26arag; yx1ukbmtqb; yxnagsqvbm; yxtzbtvmhm; yxvmiflvc4; yyc; yycfringe; yycstorm; yycwalks; yycweather; yyeso; yzazf4ceoa; yzhvobgocq; yzzxxknism; z10; z16dtoqhhg; z2vdgiyowf; z3ke_sk1; z3nevglufm; z4ilb9y9nu; z4jyharrew; z5grlrey6v; z6ee1jvhni; z7phpjtqud; z8ij8ktkyk; z8r6r3nbtb; z8xiqngulc; z99pkjztrp; za4axfjsvb; zac; zacb_; zach; zagbmlsf4h; zahnewjri8; zaibatsunews; zak_bagans; zakuun; zamtriossu; zar; zaragoza; zarharzar; zarry; zayn; zaynmalik; zboyer; zbzc8905gl; zckxtfc9pt; zct5cchoj0; zcvfc500yy; zdhwrn6czc; zdj2hyf6ro; zdpa4dbtsu; zdpvqmeezs; zdtcw9fsx1; zdtoyd8ebj; zdtz3rbs6w; zeal; zealand; zehrs; zenande_mcfen; zenit; zeno001; zepp1978; zepzqydby4; zero; zeron; zevakjapcz; zevan9kjzl; zfivvxydzy; zfwmjh6slh; zg1yddywa5; zgjgghdurf; zhejiang; zhenghxn; zhgu8ye1bj; zhp0sowxry; zhrtcvu0ff; ziam; zildpvknxp; zimbabwe; zimpapersviews; zionism; zionist; zionists; zip; ziphimup; zipped; zippednews; zipper; zippoline; zisuwlqrhf; zk69ugxmt8; zkgqspwyj3; zkkn6mse1n; zl7fhucxhl; zl7ojdaj3u; zla30jcssq; zlco4ue5oq; zlq8thctkw; zlvebeoavg; zm6vczqvwk; zmne; zmwecbwvao; znsvstgwx3; zntg2wndmj; zoepzsoky1; zoipkpbd6o; zombie; zombiefunrun2014; zombies; zone; zonewolf123; zonnqgsxyw; zouma; zpqwkhfhnf; zpsnx5iyaj; zpxe3fmyng; zqbxe7x9y7; zqihnhdwpv; zqmtrbkas0; zqo6nuvytu; zqrcptlrum; zr5rgbgh03; zrtfxluk6r; zrtrpl77qv; zrzejpef5j; zsdvweglf5; zsnsar1tw1; zsqm8ihe1k; zss; zsykzj2bzg; zt5ofbiwtd; ztfead8gid; ztyzhbvzqp; zu9yydf5di; zujwuiomb3; zumiez; zuqgvjneqa; zvobmdxhgp; zvre6ffnyd; zw5jp46v5k; zweygphpf7; zwvyisyp2b; zy3hpdjnwg; zyrzx6dfki; zyssobxntc; zz0cewew64; zz5udilrea; zzcbbqyj1q; zzpojgngaj; zzsee5hipm; zzzz; å_; å_å_los; åá; åç; åè; åèmgn; åê; åêfedex; åêi; åø; êwagger; ìäcosse; ìït; ìñ; ìñ1; ìøåàå_t; ìü; û_; û_1; û_ahhh; û_https; û_one; û_t; û_that; û_turns; û_you; ûª; ûª93; ûªa; ûªarabia; ûªd; ûªll; ûªm; ûªre; ûªs; ûªt; ûªve; ûê; ûï; ûïa; ûïairplane; ûïall; ûïcat; ûïfor; ûïhatchet; ûïi; ûïlittle; ûïlove; ûïmake; ûïnews; ûïnobody; ûïplans; ûïrichmond; ûïstretcher; ûïthe; ûïwe; ûïwhen; ûïyou; ûò; ûò800000; ûó; ûóher; ûókody; ûótech\n"
     ]
    }
   ],
   "source": [
    "print(*count_vec.get_feature_names_out(), sep='; ')"
   ]
  },
  {
   "cell_type": "code",
   "execution_count": 234,
   "metadata": {},
   "outputs": [
    {
     "data": {
      "text/plain": [
       "(5329, 18455)"
      ]
     },
     "execution_count": 234,
     "metadata": {},
     "output_type": "execute_result"
    }
   ],
   "source": [
    "X.shape # matrix size"
   ]
  },
  {
   "cell_type": "markdown",
   "metadata": {
    "id": "A4waLlnC3HvM"
   },
   "source": [
    "## Задание 5 (1 балл)\n",
    "\n",
    "В предыдущем пункте у вас должна была получиться достаточно большая матрица.\n",
    "Если вы взгляните на текст, то увидете, что там есть множество специальных символов, ссылок и прочего мусора.\n",
    "\n",
    "Давайте также посмотрим на словарь, который получился в результате построения CountVectorizer, его можно найти в поле vocabulary_ инстанса этого класса. Давайте напишем функцию, которая печает ответы на следующие вопросы:\n",
    "\n",
    "1. Найдите в этом словаре все слова, которые содержат цифры. Сколько таких слов нашлось?\n",
    "\n",
    "2. Найдите все слова, которые содержат символы пунктуации. Сколько таких слов нашлось? \n",
    "\n",
    "3. Сколько хэштегов (токен начинается на #) и упоминаний (токен начинается на @) осталось в словаре?"
   ]
  },
  {
   "cell_type": "code",
   "execution_count": 235,
   "metadata": {
    "id": "7PhQSWqcHhU8"
   },
   "outputs": [],
   "source": [
    "def contains_digit(s: str) -> bool:\n",
    "    # Проверка, содержит ли слово цифры\n",
    "    return bool(re.search(r'\\d', s))\n",
    "\n",
    "def contains_punctuation(s: str) -> bool:\n",
    "    # Проверка, содержит ли слово пунктуацию\n",
    "    return bool(re.search(r'[^\\w\\s]+', s))\n",
    "\n",
    "def is_hashtag(s: str) -> bool:\n",
    "    # Проверка, является ли слово хэштегом\n",
    "    return bool(re.match(r'#\\w+', s))\n",
    "\n",
    "def is_mention(s: str) -> bool:\n",
    "    # Проверка, является ли слово упоминанием\n",
    "    return bool(re.match(r'@\\w+', s))\n",
    "\n",
    "def investigate_vocabulary(vocabulary):\n",
    "    n_digits, n_punct, n_hashtags, n_mentions = (0 for _ in range(4))\n",
    "    #words_digits, words_punct, words_hashtags, words_mentions = ([] for _ in range(4))\n",
    "    for word in vocabulary:\n",
    "        n_digits += contains_digit(word)\n",
    "        n_punct += contains_punctuation(word)\n",
    "        n_hashtags += is_hashtag(word)\n",
    "        n_mentions += is_mention(word)\n",
    "    \n",
    "    print(f'With digit: {n_digits}')\n",
    "    print(f'With punctuation: {n_punct}')\n",
    "    print(f'Hashtags: {n_hashtags}')\n",
    "    print(f'Mentions: {n_mentions}')"
   ]
  },
  {
   "cell_type": "code",
   "execution_count": 236,
   "metadata": {
    "colab": {
     "base_uri": "https://localhost:8080/"
    },
    "id": "s8hL5ZcQIdp6",
    "outputId": "c8b50455-38f2-455d-c9f6-96b03a7e09ce"
   },
   "outputs": [
    {
     "name": "stdout",
     "output_type": "stream",
     "text": [
      "With digit: 2\n",
      "With punctuation: 7\n",
      "Hashtags: 1\n",
      "Mentions: 3\n"
     ]
    }
   ],
   "source": [
    "dummy_vocab = {'th1nk' : 0,\n",
    "               'think333' : 1,\n",
    "               'think.' : 2,\n",
    "               'th!nk' : 3,\n",
    "               'th...nk' : 4,\n",
    "               '#think' : 5,\n",
    "               '@think' : 6,\n",
    "               '@thinking':7,\n",
    "               '@nothink' : 8,\n",
    "               'think' : 9}\n",
    "investigate_vocabulary(dummy_vocab)"
   ]
  },
  {
   "cell_type": "code",
   "execution_count": 237,
   "metadata": {
    "id": "VpW8R_SuKR_l"
   },
   "outputs": [
    {
     "name": "stdout",
     "output_type": "stream",
     "text": [
      "With digit: 3812\n",
      "With punctuation: 0\n",
      "Hashtags: 0\n",
      "Mentions: 0\n"
     ]
    }
   ],
   "source": [
    "investigate_vocabulary(count_vec.vocabulary_)"
   ]
  },
  {
   "cell_type": "markdown",
   "metadata": {
    "id": "bfNLaxX93HvM"
   },
   "source": [
    "## Задание 6 (0.5 балла)\n",
    "\n",
    "Вспомним, что на семинаре по текстам мы узнали, что в nltk есть специальный токенизатор для текстов - TweetTokenizer. Попробуем применить CountVectorizer с этим токенизатором. Ответьте на все вопросы из предыдущего пункта для TweetTokenizer и сравните результаты."
   ]
  },
  {
   "cell_type": "code",
   "execution_count": 238,
   "metadata": {
    "id": "xnlRoXUS3HvM"
   },
   "outputs": [],
   "source": [
    "from nltk.tokenize import TweetTokenizer\n",
    "# Чтобы узнать, какие параметры есть у этого токенайзера - используйте help(TweetTokenizer)\n",
    "# Для того, чтобы передать токенайзер в CountVectorizer используйте параметр tokenizer"
   ]
  },
  {
   "cell_type": "code",
   "execution_count": 239,
   "metadata": {
    "id": "8lPMIf6UKccT"
   },
   "outputs": [
    {
     "name": "stdout",
     "output_type": "stream",
     "text": [
      "Help on class TweetTokenizer in module nltk.tokenize.casual:\n",
      "\n",
      "class TweetTokenizer(nltk.tokenize.api.TokenizerI)\n",
      " |  TweetTokenizer(preserve_case=True, reduce_len=False, strip_handles=False, match_phone_numbers=True)\n",
      " |  \n",
      " |  Tokenizer for tweets.\n",
      " |  \n",
      " |      >>> from nltk.tokenize import TweetTokenizer\n",
      " |      >>> tknzr = TweetTokenizer()\n",
      " |      >>> s0 = \"This is a cooool #dummysmiley: :-) :-P <3 and some arrows < > -> <--\"\n",
      " |      >>> tknzr.tokenize(s0) # doctest: +NORMALIZE_WHITESPACE\n",
      " |      ['This', 'is', 'a', 'cooool', '#dummysmiley', ':', ':-)', ':-P', '<3', 'and', 'some', 'arrows', '<', '>', '->',\n",
      " |       '<--']\n",
      " |  \n",
      " |  Examples using `strip_handles` and `reduce_len parameters`:\n",
      " |  \n",
      " |      >>> tknzr = TweetTokenizer(strip_handles=True, reduce_len=True)\n",
      " |      >>> s1 = '@remy: This is waaaaayyyy too much for you!!!!!!'\n",
      " |      >>> tknzr.tokenize(s1)\n",
      " |      [':', 'This', 'is', 'waaayyy', 'too', 'much', 'for', 'you', '!', '!', '!']\n",
      " |  \n",
      " |  Method resolution order:\n",
      " |      TweetTokenizer\n",
      " |      nltk.tokenize.api.TokenizerI\n",
      " |      abc.ABC\n",
      " |      builtins.object\n",
      " |  \n",
      " |  Methods defined here:\n",
      " |  \n",
      " |  __init__(self, preserve_case=True, reduce_len=False, strip_handles=False, match_phone_numbers=True)\n",
      " |      Create a `TweetTokenizer` instance with settings for use in the `tokenize` method.\n",
      " |      \n",
      " |      :param preserve_case: Flag indicating whether to preserve the casing (capitalisation)\n",
      " |          of text used in the `tokenize` method. Defaults to True.\n",
      " |      :type preserve_case: bool\n",
      " |      :param reduce_len: Flag indicating whether to replace repeated character sequences\n",
      " |          of length 3 or greater with sequences of length 3. Defaults to False.\n",
      " |      :type reduce_len: bool\n",
      " |      :param strip_handles: Flag indicating whether to remove Twitter handles of text used\n",
      " |          in the `tokenize` method. Defaults to False.\n",
      " |      :type strip_handles: bool\n",
      " |      :param match_phone_numbers: Flag indicating whether the `tokenize` method should look\n",
      " |          for phone numbers. Defaults to True.\n",
      " |      :type match_phone_numbers: bool\n",
      " |  \n",
      " |  tokenize(self, text: str) -> List[str]\n",
      " |      Tokenize the input text.\n",
      " |      \n",
      " |      :param text: str\n",
      " |      :rtype: list(str)\n",
      " |      :return: a tokenized list of strings; joining this list returns        the original string if `preserve_case=False`.\n",
      " |  \n",
      " |  ----------------------------------------------------------------------\n",
      " |  Readonly properties defined here:\n",
      " |  \n",
      " |  PHONE_WORD_RE\n",
      " |      Secondary core TweetTokenizer regex\n",
      " |  \n",
      " |  WORD_RE\n",
      " |      Core TweetTokenizer regex\n",
      " |  \n",
      " |  ----------------------------------------------------------------------\n",
      " |  Data and other attributes defined here:\n",
      " |  \n",
      " |  __abstractmethods__ = frozenset()\n",
      " |  \n",
      " |  ----------------------------------------------------------------------\n",
      " |  Methods inherited from nltk.tokenize.api.TokenizerI:\n",
      " |  \n",
      " |  span_tokenize(self, s: str) -> Iterator[Tuple[int, int]]\n",
      " |      Identify the tokens using integer offsets ``(start_i, end_i)``,\n",
      " |      where ``s[start_i:end_i]`` is the corresponding token.\n",
      " |      \n",
      " |      :rtype: Iterator[Tuple[int, int]]\n",
      " |  \n",
      " |  span_tokenize_sents(self, strings: List[str]) -> Iterator[List[Tuple[int, int]]]\n",
      " |      Apply ``self.span_tokenize()`` to each element of ``strings``.  I.e.:\n",
      " |      \n",
      " |          return [self.span_tokenize(s) for s in strings]\n",
      " |      \n",
      " |      :yield: List[Tuple[int, int]]\n",
      " |  \n",
      " |  tokenize_sents(self, strings: List[str]) -> List[List[str]]\n",
      " |      Apply ``self.tokenize()`` to each element of ``strings``.  I.e.:\n",
      " |      \n",
      " |          return [self.tokenize(s) for s in strings]\n",
      " |      \n",
      " |      :rtype: List[List[str]]\n",
      " |  \n",
      " |  ----------------------------------------------------------------------\n",
      " |  Data descriptors inherited from nltk.tokenize.api.TokenizerI:\n",
      " |  \n",
      " |  __dict__\n",
      " |      dictionary for instance variables (if defined)\n",
      " |  \n",
      " |  __weakref__\n",
      " |      list of weak references to the object (if defined)\n",
      "\n"
     ]
    }
   ],
   "source": [
    "help(TweetTokenizer)"
   ]
  },
  {
   "cell_type": "code",
   "execution_count": 240,
   "metadata": {
    "id": "7oR5kNKVLLpm"
   },
   "outputs": [
    {
     "data": {
      "text/plain": [
       "(5329, 19676)"
      ]
     },
     "execution_count": 240,
     "metadata": {},
     "output_type": "execute_result"
    }
   ],
   "source": [
    "cnt_vec_tok = CountVectorizer(tokenizer=TweetTokenizer().tokenize)\n",
    "X = cnt_vec_tok.fit_transform(train.data)\n",
    "X.shape"
   ]
  },
  {
   "cell_type": "code",
   "execution_count": 241,
   "metadata": {},
   "outputs": [
    {
     "name": "stdout",
     "output_type": "stream",
     "text": [
      "With digit: 3939\n",
      "With punctuation: 7318\n",
      "Hashtags: 1468\n",
      "Mentions: 1678\n"
     ]
    }
   ],
   "source": [
    "investigate_vocabulary(cnt_vec_tok.vocabulary_)"
   ]
  },
  {
   "cell_type": "markdown",
   "metadata": {
    "id": "Wetr80-ILULV"
   },
   "source": [
    "**Сравнение:** Было найдено чуть больше чисел и значительно больше пунктуации, хэштегов, упоминаний"
   ]
  },
  {
   "cell_type": "markdown",
   "metadata": {
    "id": "6_k_-i1x3HvM"
   },
   "source": [
    "## Задание 7 (2 балла)\n",
    "\n",
    "В scikit-learn мы можем оценивать процесс подсчета матрицы через CountVectorizer. У CountVectorizer, как и у других наследников \\_VectorizerMixin, есть аргумент tokenizer и preprocessor. preprocessor применится в самом начале к каждой строке вашего датасета, tokenizer же должен принять строку и вернуть токены.\n",
    "Давайте напишем кастомный токенайзер, которые сделает все, что нам нужно: \n",
    "\n",
    "0. Приведет все буквы к нижнему регистру\n",
    "1. Разобьет текст на токены с помощью TweetTokenizer из пакета nltk\n",
    "2. Удалит все токены содержащие не латинские буквы, кроме смайликов (будем считать ими токены содержащие только пунктуацию и, как минимум, одну скобочку) и хэштегов, которые после начальной # содержат только латинские буквы.\n",
    "3. Удалит все токены, которые перечислены в nltk.corpus.stopwords.words('english')\n",
    "4. Проведет стемминг с помощью SnowballStemmer\n",
    "\n"
   ]
  },
  {
   "cell_type": "code",
   "execution_count": 242,
   "metadata": {},
   "outputs": [],
   "source": [
    "import nltk\n",
    "from nltk.stem.snowball import SnowballStemmer"
   ]
  },
  {
   "cell_type": "code",
   "execution_count": 243,
   "metadata": {
    "id": "qhwmi7DEMD25"
   },
   "outputs": [],
   "source": [
    "def contains_only_latin_letters(s: str) -> bool:\n",
    "    # Проверка, содержит ли слово только латинские буквы\n",
    "    latin_letters = re.search(r'[A-z]+', s)\n",
    "    if latin_letters:\n",
    "        return s == latin_letters[0]\n",
    "    return False\n",
    "\n",
    "def is_emoji(s: str) -> bool:\n",
    "    # Проверка, является ли слово смайликом\n",
    "    punct = re.search(r'[^\\w\\s]+', s)\n",
    "    if punct and s == punct[0]:\n",
    "        return bool(re.match(r'[(\\[{<>}\\])]', punct[0][-1])) \\\n",
    "               or bool(re.match(r'[(\\[{<>}\\])]', punct[0][0]))\n",
    "    return False\n",
    "\n",
    "def is_hashtag(s: str) -> bool:\n",
    "    # Проверка, является ли слово хэштегом\n",
    "    hashtag = re.match(r'#[A-z]+', s)\n",
    "    if hashtag and s == hashtag[0]:\n",
    "        return s == hashtag[0]\n",
    "    return False\n",
    "\n",
    "def custom_tokenizer(s: str) -> List[str]:\n",
    "    # Кастомный токенайзер\n",
    "    tokenized = []\n",
    "    toker = TweetTokenizer()\n",
    "    stemmer = SnowballStemmer('english')\n",
    "    tokens = toker.tokenize(s.lower())\n",
    "    \n",
    "    for tok in tokens:\n",
    "        \n",
    "        if (contains_only_latin_letters(tok)\n",
    "        or is_emoji(tok) or is_hashtag(tok)) \\\n",
    "        and tok not in nltk.corpus.stopwords.words('english'):\n",
    "            \n",
    "            tokenized.append(stemmer.stem(tok))\n",
    "        \n",
    "    return tokenized"
   ]
  },
  {
   "cell_type": "code",
   "execution_count": 244,
   "metadata": {
    "colab": {
     "base_uri": "https://localhost:8080/"
    },
    "id": "vYzPZzf8O6vj",
    "outputId": "b1107f8a-eef7-49f7-8ed3-910be791d645"
   },
   "outputs": [
    {
     "data": {
      "text/plain": [
       "['love', 'paint', ':-)', '#art']"
      ]
     },
     "execution_count": 244,
     "metadata": {},
     "output_type": "execute_result"
    }
   ],
   "source": [
    "custom_tokenizer('She LOVES painting :-) #art')"
   ]
  },
  {
   "cell_type": "markdown",
   "metadata": {
    "id": "2S_-ThAf5It4"
   },
   "source": [
    "Продемонстрируйте работу вашей функции на первых десяти текстах в обучающей выборке."
   ]
  },
  {
   "cell_type": "code",
   "execution_count": 245,
   "metadata": {
    "id": "A1fh3_itPz7D"
   },
   "outputs": [
    {
     "name": "stdout",
     "output_type": "stream",
     "text": [
      "Original string:\n",
      "\t bridge%20collapse; ; Ashes 2015: AustraliaÛªs collapse at Trent Bridge among worst in history: England bundled out Australia for 60 ... http://t.co/t5TrhjUAU0\n",
      "Tokenized:\n",
      "\t ['bridg', 'ash', 'australia', 'collaps', 'trent', 'bridg', 'among', 'worst', 'histori', 'england', 'bundl', 'australia']\n",
      "\n",
      "_____________________________________________________________________\n",
      "Original string:\n",
      "\t hail; Carol Stream, Illinois; GREAT MICHIGAN TECHNIQUE CAMP\n",
      "B1G THANKS TO @bmurph1019 \n",
      "@hail_Youtsey . @termn8r13 \n",
      "#GoBlue #WrestleOn http://t.co/OasKgki6Qj\n",
      "Tokenized:\n",
      "\t ['hail', 'carol', 'stream', 'illinoi', 'great', 'michigan', 'techniqu', 'camp', 'thank', '#goblu', '#wrestleon']\n",
      "\n",
      "_____________________________________________________________________\n",
      "Original string:\n",
      "\t police; Houston ; CNN: Tennessee movie theater shooting suspect killed by police http://t.co/dI8ElZsWNR\n",
      "Tokenized:\n",
      "\t ['polic', 'houston', 'cnn', 'tennesse', 'movi', 'theater', 'shoot', 'suspect', 'kill', 'polic']\n",
      "\n",
      "_____________________________________________________________________\n",
      "Original string:\n",
      "\t rioting; ; Still rioting in a couple of hours left until I have to be up for class.\n",
      "Tokenized:\n",
      "\t ['riot', 'still', 'riot', 'coupl', 'hour', 'left', 'class']\n",
      "\n",
      "_____________________________________________________________________\n",
      "Original string:\n",
      "\t wounds; Lake Highlands; Crack in the path where I wiped out this morning during beach run. Surface wounds on left elbow and right knee. http://t.co/yaqRSximph\n",
      "Tokenized:\n",
      "\t ['wound', 'lake', 'highland', 'crack', 'path', 'wipe', 'morn', 'beach', 'run', 'surfac', 'wound', 'left', 'elbow', 'right', 'knee']\n",
      "\n",
      "_____________________________________________________________________\n",
      "Original string:\n",
      "\t airplane%20accident; Somewhere Out There; Experts in France begin examining airplane debris found on Reunion Island: French air accident experts on... http://t.co/TagZbcXFj0 #MLB\n",
      "Tokenized:\n",
      "\t ['airplan', 'somewher', 'expert', 'franc', 'begin', 'examin', 'airplan', 'debri', 'found', 'reunion', 'island', 'french', 'air', 'accid', 'expert', '#mlb']\n",
      "\n",
      "_____________________________________________________________________\n",
      "Original string:\n",
      "\t bloody; Isolated City In World Perth; 'I came to kill Indians...for FUN': Video of smirking and remorseless Pakistani killer shows him boasting. http://t.co/FPjLwOXKlg\n",
      "Tokenized:\n",
      "\t ['bloodi', 'isol', 'citi', 'world', 'perth', 'came', 'kill', 'indian', 'fun', 'video', 'smirk', 'remorseless', 'pakistani', 'killer', 'show', 'boast']\n",
      "\n",
      "_____________________________________________________________________\n",
      "Original string:\n",
      "\t burning; ; @JohnsonTionne except idk them?? it's really burning ??????\n",
      "Tokenized:\n",
      "\t ['burn', 'except', 'idk', 'realli', 'burn']\n",
      "\n",
      "_____________________________________________________________________\n",
      "Original string:\n",
      "\t destroy; he/him or she/her (ask); destroy the house\n",
      "Tokenized:\n",
      "\t ['destroy', '(', 'ask', ');', 'destroy', 'hous']\n",
      "\n",
      "_____________________________________________________________________\n",
      "Original string:\n",
      "\t wounded; Maracay y Nirgua, Venezuela; Police Officer Wounded Suspect Dead After Exchanging Shots http://t.co/XxFk4KHbIw\n",
      "Tokenized:\n",
      "\t ['wound', 'maracay', 'nirgua', 'venezuela', 'polic', 'offic', 'wound', 'suspect', 'dead', 'exchang', 'shot']\n",
      "\n",
      "_____________________________________________________________________\n"
     ]
    }
   ],
   "source": [
    "for i in train.iloc[:10]['data']:\n",
    "    print(f'Original string:\\n\\t {i}')\n",
    "    print(f'Tokenized:\\n\\t {custom_tokenizer(i)}\\n')\n",
    "    print('_' * 69)"
   ]
  },
  {
   "cell_type": "markdown",
   "metadata": {
    "id": "a5lNZ4tb3HvN"
   },
   "source": [
    "## Задание 8 (1 балл)\n",
    "\n",
    "1. Примените CountVectorizer с реализованным выше токенизатором к обучающим и тестовым выборкам.\n"
   ]
  },
  {
   "cell_type": "code",
   "execution_count": 246,
   "metadata": {
    "id": "LDqixz7QQEbn"
   },
   "outputs": [],
   "source": [
    "y_train = train.target\n",
    "y_test = test.target"
   ]
  },
  {
   "cell_type": "code",
   "execution_count": 247,
   "metadata": {},
   "outputs": [
    {
     "data": {
      "text/plain": [
       "{'bridg': 2337,\n",
       " 'ash': 1771,\n",
       " 'australia': 1848,\n",
       " 'collaps': 2920,\n",
       " 'trent': 9676,\n",
       " 'among': 1605,\n",
       " 'worst': 10364,\n",
       " 'histori': 5058,\n",
       " 'england': 3909,\n",
       " 'bundl': 2432,\n",
       " 'hail': 4854,\n",
       " 'carol': 2588,\n",
       " 'stream': 9106,\n",
       " 'illinoi': 5280,\n",
       " 'great': 4737,\n",
       " 'michigan': 6466,\n",
       " 'techniqu': 9368,\n",
       " 'camp': 2525,\n",
       " 'thank': 9443,\n",
       " '#goblu': 451,\n",
       " '#wrestleon': 1299,\n",
       " 'polic': 7549,\n",
       " 'houston': 5158,\n",
       " 'cnn': 2881,\n",
       " 'tennesse': 9399,\n",
       " 'movi': 6678,\n",
       " 'theater': 9447,\n",
       " 'shoot': 8635,\n",
       " 'suspect': 9237,\n",
       " 'kill': 5748,\n",
       " 'riot': 8163,\n",
       " 'still': 9069,\n",
       " 'coupl': 3110,\n",
       " 'hour': 5154,\n",
       " 'left': 5947,\n",
       " 'class': 2832,\n",
       " 'wound': 10368,\n",
       " 'lake': 5856,\n",
       " 'highland': 5028,\n",
       " 'crack': 3128,\n",
       " 'path': 7309,\n",
       " 'wipe': 10291,\n",
       " 'morn': 6644,\n",
       " 'beach': 2025,\n",
       " 'run': 8291,\n",
       " 'surfac': 9221,\n",
       " 'elbow': 3825,\n",
       " 'right': 8152,\n",
       " 'knee': 5782,\n",
       " 'airplan': 1505,\n",
       " 'somewher': 8872,\n",
       " 'expert': 4059,\n",
       " 'franc': 4408,\n",
       " 'begin': 2055,\n",
       " 'examin': 4032,\n",
       " 'debri': 3326,\n",
       " 'found': 4388,\n",
       " 'reunion': 8104,\n",
       " 'island': 5482,\n",
       " 'french': 4434,\n",
       " 'air': 1500,\n",
       " 'accid': 1393,\n",
       " '#mlb': 704,\n",
       " 'bloodi': 2207,\n",
       " 'isol': 5486,\n",
       " 'citi': 2815,\n",
       " 'world': 10353,\n",
       " 'perth': 7400,\n",
       " 'came': 2522,\n",
       " 'indian': 5340,\n",
       " 'fun': 4477,\n",
       " 'video': 10018,\n",
       " 'smirk': 8798,\n",
       " 'remorseless': 8031,\n",
       " 'pakistani': 7232,\n",
       " 'killer': 5751,\n",
       " 'show': 8648,\n",
       " 'boast': 2227,\n",
       " 'burn': 2442,\n",
       " 'except': 4036,\n",
       " 'idk': 5257,\n",
       " 'realli': 7926,\n",
       " 'destroy': 3439,\n",
       " '(': 1325,\n",
       " 'ask': 1784,\n",
       " ');': 1329,\n",
       " 'hous': 5155,\n",
       " 'maracay': 6280,\n",
       " 'nirgua': 6877,\n",
       " 'venezuela': 9981,\n",
       " 'offic': 7030,\n",
       " 'dead': 3312,\n",
       " 'exchang': 4037,\n",
       " 'shot': 8641,\n",
       " 'wreck': 10379,\n",
       " 'current': 3228,\n",
       " 'write': 10386,\n",
       " 'book': 2251,\n",
       " 'friggin': 4450,\n",
       " 'destiel': 3436,\n",
       " 'suck': 9159,\n",
       " 'read': 7916,\n",
       " 'vine': 10028,\n",
       " 'descript': 3424,\n",
       " ')': 1327,\n",
       " 'mudslid': 6695,\n",
       " 'malibu': 6247,\n",
       " 'santaf': 8372,\n",
       " 'win': 10277,\n",
       " 'red': 7961,\n",
       " 'carpet': 2591,\n",
       " 'fundrais': 4480,\n",
       " 'oso': 7151,\n",
       " 'casualti': 2617,\n",
       " 'canadian': 2541,\n",
       " 'bread': 2317,\n",
       " 'honest': 5112,\n",
       " 'peopl': 7374,\n",
       " 'want': 10115,\n",
       " 'go': 4658,\n",
       " 'rampag': 7876,\n",
       " 'let': 5984,\n",
       " 'use': 9920,\n",
       " 'hand': 4882,\n",
       " 'feet': 4182,\n",
       " 'ambul': 1591,\n",
       " 'amsterdam': 1610,\n",
       " 'twelv': 9769,\n",
       " 'fear': 4170,\n",
       " 'helicopt': 4989,\n",
       " 'crash': 3138,\n",
       " 'electrocut': 3832,\n",
       " 'got': 4696,\n",
       " 'last': 5899,\n",
       " 'night': 6868,\n",
       " 'work': 10347,\n",
       " 'first': 4263,\n",
       " 'time': 9533,\n",
       " 'life': 6004,\n",
       " 'shit': 8625,\n",
       " 'weird': 10189,\n",
       " 'drown': 3683,\n",
       " 'older': 7068,\n",
       " 'nativ': 6774,\n",
       " 'australian': 1849,\n",
       " 'believ': 2072,\n",
       " 'ocean': 7015,\n",
       " 'creat': 3149,\n",
       " 'urin': 9908,\n",
       " 'angri': 1632,\n",
       " 'god': 4663,\n",
       " 'tri': 9680,\n",
       " 'volcano': 10062,\n",
       " 'west': 10200,\n",
       " 'coast': 2886,\n",
       " 'cali': 2507,\n",
       " 'usa': 9913,\n",
       " 'architect': 1720,\n",
       " 'behind': 2062,\n",
       " 'kany': 5674,\n",
       " 'attack': 1815,\n",
       " 'mumbai': 6709,\n",
       " 'india': 5338,\n",
       " 'shud': 8655,\n",
       " 'give': 4623,\n",
       " 'evid': 4025,\n",
       " 'share': 8587,\n",
       " 'terrorist': 9418,\n",
       " 'next': 6844,\n",
       " 'oth': 7155,\n",
       " 'contri': 3045,\n",
       " 'bodi': 2232,\n",
       " 'new': 6829,\n",
       " 'york': 10467,\n",
       " 'auth': 1851,\n",
       " 'loui': 6142,\n",
       " 'vuitton': 10076,\n",
       " 'brown': 2375,\n",
       " 'saumur': 8396,\n",
       " 'cross': 3179,\n",
       " 'shoulder': 8643,\n",
       " 'bag': 1918,\n",
       " 'monogram': 6616,\n",
       " 'full': 4475,\n",
       " 'annihil': 1641,\n",
       " 'higher': 5026,\n",
       " 'place': 7488,\n",
       " 'episod': 3942,\n",
       " 'trunk': 9723,\n",
       " 'freiza': 4432,\n",
       " 'cleanest': 2838,\n",
       " 'ever': 4011,\n",
       " 'nigga': 6867,\n",
       " 'merci': 6420,\n",
       " 'cyclon': 3241,\n",
       " 'hyderabad': 5224,\n",
       " 'ant': 1648,\n",
       " 'hudhud': 5176,\n",
       " 'chandrababu': 2694,\n",
       " 'vall': 9949,\n",
       " 'ne': 6794,\n",
       " 'ga': 4502,\n",
       " 'eye': 4082,\n",
       " 'akam': 1512,\n",
       " 'tokyo': 9572,\n",
       " 'ghoul': 4603,\n",
       " 'damn': 3267,\n",
       " 'dont': 3615,\n",
       " 'dare': 3284,\n",
       " 'watch': 10141,\n",
       " 'suicid': 9171,\n",
       " 'princip': 7677,\n",
       " 'zeron': 10504,\n",
       " 'christian': 2788,\n",
       " 'sure': 9218,\n",
       " 'bomb': 2243,\n",
       " 'employ': 3881,\n",
       " 'often': 7041,\n",
       " 'islam': 5478,\n",
       " 'group': 4773,\n",
       " 'demolish': 3387,\n",
       " 'think': 9470,\n",
       " 'also': 1572,\n",
       " 'becam': 2040,\n",
       " 'marqui': 6306,\n",
       " 'carlo': 2583,\n",
       " 'final': 4237,\n",
       " 'sad': 8320,\n",
       " 'inund': 5439,\n",
       " 'surf': 9220,\n",
       " 'hi': 5018,\n",
       " 'waimea': 10089,\n",
       " 'bay': 2011,\n",
       " 'like': 6016,\n",
       " 'surfer': 9222,\n",
       " 'collis': 2928,\n",
       " 'denver': 3403,\n",
       " 'colorado': 2936,\n",
       " 'motorcyclist': 6667,\n",
       " 'bicyclist': 2128,\n",
       " 'injur': 5377,\n",
       " 'broadway': 2362,\n",
       " 'flame': 4281,\n",
       " 'around': 1749,\n",
       " 'maryland': 6314,\n",
       " 'mansion': 6273,\n",
       " 'fire': 4252,\n",
       " 'caus': 2634,\n",
       " 'damag': 3261,\n",
       " 'plug': 7523,\n",
       " 'christma': 2790,\n",
       " 'tree': 9668,\n",
       " 'report': 8052,\n",
       " 'say': 8403,\n",
       " 'nyhc': 6987,\n",
       " 'ghostwrit': 4602,\n",
       " 'know': 5791,\n",
       " 'rihanna': 8155,\n",
       " 'live': 6057,\n",
       " 'door': 3616,\n",
       " 'build': 2416,\n",
       " 'blue': 2218,\n",
       " 'yes': 10447,\n",
       " 'one': 7085,\n",
       " 'loot': 6123,\n",
       " 'forest': 4362,\n",
       " 'nicola': 6860,\n",
       " 'valley': 9950,\n",
       " 'die': 3484,\n",
       " 'salmon': 8343,\n",
       " 'act': 1416,\n",
       " 'deni': 3394,\n",
       " 'climat': 2852,\n",
       " 'chang': 2695,\n",
       " 'nightmar': 6869,\n",
       " '#bcpoli': 107,\n",
       " '#canpoli': 177,\n",
       " '#vanpoli': 1233,\n",
       " '#shoe': 1025,\n",
       " 'asic': 1782,\n",
       " 'super': 9198,\n",
       " 'ronni': 8228,\n",
       " 'fieg': 4220,\n",
       " 'kith': 5776,\n",
       " 'white': 10235,\n",
       " 'x': 10407,\n",
       " 'gel': 4569,\n",
       " 'grey': 4756,\n",
       " 'sandstorm': 8365,\n",
       " 'airport': 1506,\n",
       " 'get': 4595,\n",
       " 'swallow': 9246,\n",
       " 'minut': 6537,\n",
       " 'uk': 9809,\n",
       " 'two': 9778,\n",
       " 'oil': 7051,\n",
       " 'ny': 6982,\n",
       " 'california': 2509,\n",
       " 'spill': 8952,\n",
       " 'might': 6490,\n",
       " 'larger': 5893,\n",
       " 'project': 7703,\n",
       " 'cartoon': 2600,\n",
       " 'bear': 2028,\n",
       " 'without': 10304,\n",
       " 'would': 10366,\n",
       " 'qave': 7804,\n",
       " 'knowlddg': 5792,\n",
       " 'toilet': 9571,\n",
       " 'paper': 7263,\n",
       " 'drought': 3681,\n",
       " 'miami': 6462,\n",
       " 'purpl': 7788,\n",
       " 'activist': 1420,\n",
       " 'thought': 9483,\n",
       " 'injuri': 5378,\n",
       " 'madison': 6212,\n",
       " 'wi': 10250,\n",
       " 'st': 9003,\n",
       " 'mo': 6581,\n",
       " 'knew': 5783,\n",
       " 'much': 6693,\n",
       " 'bite': 2166,\n",
       " 'us': 9912,\n",
       " 'influenc': 5368,\n",
       " 'shitti': 8629,\n",
       " 'staff': 9009,\n",
       " 'acquisit': 1411,\n",
       " 'landslid': 5876,\n",
       " 'austin': 1847,\n",
       " 'texa': 9428,\n",
       " 'enjoy': 3913,\n",
       " 'impend': 5299,\n",
       " 'todd': 9565,\n",
       " 'hehe': 4980,\n",
       " 'apocalyps': 1681,\n",
       " 'oregon': 7131,\n",
       " 'look': 6115,\n",
       " 'grizzli': 4764,\n",
       " 'peak': 7346,\n",
       " 'dystopian': 3742,\n",
       " 'deton': 3448,\n",
       " 'ignit': 5264,\n",
       " 'knock': 5789,\n",
       " 'standard': 9017,\n",
       " 'week': 10183,\n",
       " 'respond': 8080,\n",
       " 'dart': 3290,\n",
       " 'member': 6410,\n",
       " 'particip': 7291,\n",
       " 'four': 4392,\n",
       " 'day': 3305,\n",
       " 'intens': 5414,\n",
       " 'technic': 9367,\n",
       " 'larg': 5892,\n",
       " 'anim': 1633,\n",
       " 'militari': 6500,\n",
       " 'lot': 6136,\n",
       " 'tom': 9577,\n",
       " 'clanci': 2828,\n",
       " 'mysteri': 6737,\n",
       " 'novel': 6946,\n",
       " 'paperback': 7264,\n",
       " '#tomclanc': 1161,\n",
       " 'coventri': 3117,\n",
       " 'low': 6148,\n",
       " 'take': 9310,\n",
       " 'quiz': 7833,\n",
       " 'gonna': 4676,\n",
       " 'fight': 4227,\n",
       " 'taylor': 9347,\n",
       " 'soon': 8884,\n",
       " 'danger': 3276,\n",
       " 'dayton': 3306,\n",
       " 'wish': 10298,\n",
       " 'could': 3103,\n",
       " 'secret': 8478,\n",
       " 'front': 4454,\n",
       " 'good': 4677,\n",
       " 'flood': 4311,\n",
       " 'spot': 8972,\n",
       " 'combo': 2945,\n",
       " 'curv': 3232,\n",
       " 'cree': 3155,\n",
       " 'led': 5941,\n",
       " 'light': 6010,\n",
       " 'bar': 1962,\n",
       " 'offroad': 7036,\n",
       " 'fog': 4330,\n",
       " 'lamp': 5862,\n",
       " 'sever': 8555,\n",
       " 'weather': 10170,\n",
       " 'bulletin': 2422,\n",
       " 'typhoon': 9788,\n",
       " '#hannaph': 485,\n",
       " 'soudelor': 8895,\n",
       " 'tropic': 9712,\n",
       " 'warn': 10122,\n",
       " 'issu': 5489,\n",
       " 'pm': 7529,\n",
       " 'fit': 4267,\n",
       " 'bmw': 2224,\n",
       " 'explos': 4066,\n",
       " 'london': 6105,\n",
       " 'unit': 9859,\n",
       " 'kingdom': 5763,\n",
       " 'chemic': 2731,\n",
       " 'park': 7280,\n",
       " 'western': 10204,\n",
       " 'germani': 4592,\n",
       " 'soul': 8897,\n",
       " 'food': 4342,\n",
       " 'sound': 8900,\n",
       " 'terror': 9417,\n",
       " 'truth': 9725,\n",
       " '#new': 754,\n",
       " '#bbc': 103,\n",
       " '#cnn': 220,\n",
       " '#islam': 572,\n",
       " '#truth': 1194,\n",
       " '#god': 452,\n",
       " '#isi': 571,\n",
       " '#terror': 1123,\n",
       " '#quran': 924,\n",
       " '#li': 640,\n",
       " 'sink': 8712,\n",
       " 'lost': 6135,\n",
       " 'alon': 1562,\n",
       " 'stone': 9082,\n",
       " 'carri': 2594,\n",
       " 'hostag': 5144,\n",
       " 'chicago': 2742,\n",
       " 'lebanon': 5940,\n",
       " 'iran': 5460,\n",
       " 'crisi': 3170,\n",
       " 'libya': 6000,\n",
       " 'pan': 7245,\n",
       " 'pa': 7210,\n",
       " 'pull': 7763,\n",
       " 'gun': 4811,\n",
       " 'man': 6256,\n",
       " 'appar': 1688,\n",
       " 'provoc': 7738,\n",
       " 'via': 10001,\n",
       " 'derail': 3414,\n",
       " 'minneapoli': 6530,\n",
       " 'mn': 6579,\n",
       " 'train': 9644,\n",
       " 'patna': 7315,\n",
       " 'news': 6839,\n",
       " 'far': 4134,\n",
       " 'express': 4071,\n",
       " 'panic': 7255,\n",
       " '#dream': 307,\n",
       " '#magic': 673,\n",
       " '#linden': 645,\n",
       " 'method': 6441,\n",
       " 'lite': 6048,\n",
       " 'version': 9995,\n",
       " 'anxieti': 1662,\n",
       " 'cure': 3222,\n",
       " 'program': 7699,\n",
       " 'lind': 6027,\n",
       " 'rescu': 8064,\n",
       " 'jammu': 5527,\n",
       " 'kashmir': 5680,\n",
       " 'delhi': 3368,\n",
       " 'bovin': 2279,\n",
       " 'fredericksburg': 4419,\n",
       " 'virginia': 10039,\n",
       " 'serv': 8539,\n",
       " 'veteran': 9999,\n",
       " 'oif': 7050,\n",
       " 'oef': 7022,\n",
       " 'vet': 9998,\n",
       " 'physic': 7438,\n",
       " 'mani': 6264,\n",
       " 'invis': 5446,\n",
       " '#client': 217,\n",
       " 'dust': 3729,\n",
       " 'learn': 5935,\n",
       " 'econom': 3781,\n",
       " 'south': 8906,\n",
       " 'dakota': 3254,\n",
       " 'storm': 9089,\n",
       " 'year': 10437,\n",
       " 'colleg': 2925,\n",
       " 'hubert': 5175,\n",
       " 'humphrey': 5193,\n",
       " 'cramer': 3134,\n",
       " 'word': 10344,\n",
       " 'stock': 9074,\n",
       " '#til_now': 1155,\n",
       " '#cnbc': 219,\n",
       " 'tring': 9694,\n",
       " 'pretti': 7663,\n",
       " '#disast': 291,\n",
       " '#gbbo': 432,\n",
       " '#mudslid': 724,\n",
       " 'obliter': 7001,\n",
       " 'canada': 2539,\n",
       " 'need': 6805,\n",
       " 'arcad': 1719,\n",
       " 'shooter': 8636,\n",
       " 'fix': 4273,\n",
       " 'cte': 3201,\n",
       " 'empti': 3884,\n",
       " 'even': 4008,\n",
       " 'buy': 2470,\n",
       " 'cod': 2899,\n",
       " 'titl': 9549,\n",
       " 'overpr': 7196,\n",
       " 'steam': 9047,\n",
       " 'bioterror': 2155,\n",
       " 'firepow': 4259,\n",
       " 'lab': 5841,\n",
       " '[': 1343,\n",
       " 'electron': 3833,\n",
       " 'resourc': 8078,\n",
       " ']': 1345,\n",
       " 'autom': 1856,\n",
       " 'infecti': 5360,\n",
       " 'diseas': 3530,\n",
       " 'u': 9795,\n",
       " 'explod': 4063,\n",
       " 'washington': 10135,\n",
       " 'c': 2478,\n",
       " 'kendal': 5706,\n",
       " 'jenner': 5563,\n",
       " 'nick': 6857,\n",
       " 'jona': 5608,\n",
       " 'date': 3296,\n",
       " 'quit': 7831,\n",
       " 'liter': 6049,\n",
       " 'alway': 1581,\n",
       " 'tell': 9385,\n",
       " 'mom': 6604,\n",
       " 'bring': 2348,\n",
       " 'hold': 5081,\n",
       " 'cat': 2618,\n",
       " 'heat': 4970,\n",
       " 'fort': 4378,\n",
       " 'worth': 10365,\n",
       " 'rt': 8273,\n",
       " 'homeless': 5099,\n",
       " 'vulner': 10078,\n",
       " 'north': 6917,\n",
       " 'wave': 10151,\n",
       " 'nuclear': 6961,\n",
       " 'co': 2882,\n",
       " '#solar': 1055,\n",
       " 'power': 7608,\n",
       " '#japanes': 583,\n",
       " '#fukushima': 416,\n",
       " 'reactor': 7915,\n",
       " 'energi': 3904,\n",
       " 'japan': 5538,\n",
       " 'temperatur': 9392,\n",
       " 'fuel': 4471,\n",
       " 'pool': 7565,\n",
       " 'arvada': 1764,\n",
       " 'least': 5937,\n",
       " 'taken': 9312,\n",
       " 'local': 6090,\n",
       " 'trauma': 9658,\n",
       " 'nashvill': 6767,\n",
       " 'tn': 9560,\n",
       " 'esteem': 3984,\n",
       " 'journalist': 5618,\n",
       " 'recal': 7940,\n",
       " 'tragic': 9641,\n",
       " 'effect': 3809,\n",
       " 'unaddress': 9819,\n",
       " '#childhood': 205,\n",
       " '#trauma': 1176,\n",
       " 'panick': 7256,\n",
       " 'feel': 4180,\n",
       " 'result': 8091,\n",
       " 'back': 1905,\n",
       " 'alarm': 1525,\n",
       " 'calm': 2512,\n",
       " 'lightn': 6014,\n",
       " 'thunder': 9510,\n",
       " 'possibl': 7590,\n",
       " 'pinpoint': 7464,\n",
       " 'foothil': 4350,\n",
       " 'forecast': 4355,\n",
       " 'displac': 3547,\n",
       " 'township': 9622,\n",
       " 'apart': 1674,\n",
       " '#newyork': 763,\n",
       " 'massacr': 6322,\n",
       " 'stay': 9041,\n",
       " 'tune': 9747,\n",
       " ';)': 1338,\n",
       " 'rise': 8169,\n",
       " 'coat': 2889,\n",
       " 'charleston': 2708,\n",
       " 'walter': 10106,\n",
       " 'scott': 8442,\n",
       " 'black': 2171,\n",
       " 'twitter': 9776,\n",
       " 'broad': 2358,\n",
       " 'well': 10193,\n",
       " 'death': 3322,\n",
       " 'gallifrey': 4520,\n",
       " 'horribl': 5137,\n",
       " 'trap': 9656,\n",
       " 'ship': 8620,\n",
       " 'risk': 8170,\n",
       " 'whiterun': 10236,\n",
       " 'skyrim': 8749,\n",
       " 'destruct': 3441,\n",
       " 'fine': 4242,\n",
       " 'windstorm': 10282,\n",
       " 'palm': 7239,\n",
       " 'counti': 3107,\n",
       " 'fl': 4277,\n",
       " 'realiti': 7923,\n",
       " 'fall': 4113,\n",
       " 'elev': 3839,\n",
       " 'track': 9630,\n",
       " '#paramed': 853,\n",
       " '#em': 337,\n",
       " 'rescuer': 8065,\n",
       " '#world': 1291,\n",
       " 'miss': 6554,\n",
       " 'migrant': 6492,\n",
       " 'med': 6382,\n",
       " 'search': 8466,\n",
       " 'survivor': 9234,\n",
       " 'boat': 2228,\n",
       " 'toronto': 9597,\n",
       " 'derailed_benchmark': 3415,\n",
       " 'cool': 3056,\n",
       " 'wonder': 10333,\n",
       " 'find': 4241,\n",
       " 'leak': 5934,\n",
       " 'job': 5594,\n",
       " 'given': 4625,\n",
       " 'resqu': 8082,\n",
       " 'ladi': 5849,\n",
       " 'tote': 9608,\n",
       " 'handbag': 4883,\n",
       " 'women': 10330,\n",
       " 'faux': 4155,\n",
       " 'leather': 5938,\n",
       " 'fashion': 4144,\n",
       " 'purs': 7791,\n",
       " ':)': 1335,\n",
       " 'plan': 7491,\n",
       " 'littl': 6053,\n",
       " 'applaud': 1694,\n",
       " 'catastroph': 2623,\n",
       " 'buxton': 2469,\n",
       " 'venic': 9982,\n",
       " 'nottingham': 6942,\n",
       " 'invad': 5440,\n",
       " 'iraq': 5462,\n",
       " 'mistak': 6560,\n",
       " 'diplomaci': 3505,\n",
       " 'replac': 8050,\n",
       " 'constant': 3028,\n",
       " 'threat': 9488,\n",
       " 'war': 10116,\n",
       " 'israel': 5488,\n",
       " 'relat': 8007,\n",
       " 'isi': 5474,\n",
       " 'threaten': 9489,\n",
       " 'europ': 4000,\n",
       " 'livingston': 6066,\n",
       " 'mt': 6691,\n",
       " 'beyond': 2116,\n",
       " 'ador': 1440,\n",
       " 'hope': 5128,\n",
       " 'notic': 6934,\n",
       " 'devast': 3452,\n",
       " 'mount': 6670,\n",
       " 'vernon': 9992,\n",
       " 'come': 2947,\n",
       " 'close': 2859,\n",
       " '#momneedscoffe': 709,\n",
       " '#asap': 71,\n",
       " '#iwontmakeit': 578,\n",
       " 'screwston': 8455,\n",
       " 'tx': 9781,\n",
       " 'redskin': 7974,\n",
       " 'wr': 10374,\n",
       " 'robert': 8193,\n",
       " 'hellfir': 4992,\n",
       " '#allah': 33,\n",
       " 'describ': 3423,\n",
       " 'pile': 7454,\n",
       " '#wealth': 1264,\n",
       " '#forev': 397,\n",
       " '#hellfir': 499,\n",
       " 'surah': 9217,\n",
       " 'humaza': 5187,\n",
       " '#reflect': 940,\n",
       " 'worldwid': 10357,\n",
       " 'love': 6145,\n",
       " 'way': 10153,\n",
       " 'written': 10388,\n",
       " 'includ': 5323,\n",
       " 'vantag': 9961,\n",
       " 'point': 7541,\n",
       " '#kindl': 609,\n",
       " '#heartdiseas': 496,\n",
       " 'servic': 8543,\n",
       " 'spend': 8945,\n",
       " 'half': 4864,\n",
       " 'budget': 2407,\n",
       " 'tragedi': 9640,\n",
       " '#sandrabland': 995,\n",
       " 'forget': 4365,\n",
       " 'mayhem': 6350,\n",
       " 'detroit': 3449,\n",
       " 'rang': 7881,\n",
       " '#hungerarticl': 526,\n",
       " 'nepal': 6818,\n",
       " 'rebuild': 7938,\n",
       " 'livelihood': 6060,\n",
       " 'quak': 7809,\n",
       " 'arsonist': 1756,\n",
       " 'serial': 8537,\n",
       " 'arrest': 1751,\n",
       " 'calif': 2508,\n",
       " 'hurrican': 5211,\n",
       " 'vineyard': 10029,\n",
       " 'true': 9720,\n",
       " '>': 1342,\n",
       " 'battl': 2008,\n",
       " 'marvel': 6313,\n",
       " 'vs': 10074,\n",
       " 'dc': 3307,\n",
       " 'aveng': 1866,\n",
       " 'dublin': 3696,\n",
       " 'ireland': 5464,\n",
       " 'challeng': 2685,\n",
       " 'tough': 9611,\n",
       " 'enough': 3916,\n",
       " 'jaipur': 5520,\n",
       " 'goe': 4666,\n",
       " 'engin': 3907,\n",
       " 'wisconsin': 10295,\n",
       " 'regular': 7999,\n",
       " 'coffe': 2904,\n",
       " 'rockstar': 8203,\n",
       " 'today': 9563,\n",
       " 'tire': 9545,\n",
       " 'butt': 2464,\n",
       " 'extraordinair': 4080,\n",
       " 'violent': 10034,\n",
       " 'nws': 6981,\n",
       " 'wth': 10397,\n",
       " 'rotat': 8247,\n",
       " 'w': 10080,\n",
       " 'huge': 5181,\n",
       " 'massiv': 6324,\n",
       " 'tornado': 9596,\n",
       " 'san': 8359,\n",
       " 'diego': 3486,\n",
       " 'nda': 6792,\n",
       " 'abil': 1372,\n",
       " 'offer': 7029,\n",
       " 'futur': 4492,\n",
       " 'prolli': 7706,\n",
       " 'anyway': 1667,\n",
       " 'sir': 8716,\n",
       " 'make': 6239,\n",
       " 'made': 6209,\n",
       " 'said': 8328,\n",
       " 'lie': 6003,\n",
       " 'sinkhol': 8713,\n",
       " 'brooklyn': 2370,\n",
       " 'intersect': 5427,\n",
       " 'jacksonvill': 5512,\n",
       " 'famili': 4120,\n",
       " 'band': 1945,\n",
       " 'togeth': 9569,\n",
       " 'memori': 6414,\n",
       " 'seattl': 8472,\n",
       " 'wa': 10081,\n",
       " 'southbound': 8908,\n",
       " 'coal': 2885,\n",
       " 'creek': 3156,\n",
       " 'pkwi': 7486,\n",
       " 'block': 2201,\n",
       " 'center': 2663,\n",
       " 'lane': 5877,\n",
       " 'im': 5285,\n",
       " 'waco': 10083,\n",
       " 'felt': 4188,\n",
       " 'namekian': 6752,\n",
       " 'play': 7502,\n",
       " 'planet': 7493,\n",
       " 'acc': 1390,\n",
       " 'studi': 9131,\n",
       " 'conduct': 3005,\n",
       " 'skim': 8736,\n",
       " 'morethan': 6639,\n",
       " 'popul': 7569,\n",
       " '#kashmir': 598,\n",
       " 'suffer': 9163,\n",
       " 'psychiatr': 7749,\n",
       " 'disord': 3542,\n",
       " '#kashmirconflict': 599,\n",
       " 'flatten': 4290,\n",
       " 'bow': 2280,\n",
       " 'nh': 6850,\n",
       " 'idea': 5249,\n",
       " 'bleed': 2187,\n",
       " 'middl': 6475,\n",
       " 'eat': 3768,\n",
       " 'taki': 9313,\n",
       " 'rub': 8277,\n",
       " 'tear': 9363,\n",
       " 'quarantin': 7815,\n",
       " 'rome': 8220,\n",
       " 'top': 9590,\n",
       " 'link': 6031,\n",
       " 'content': 3036,\n",
       " 'polici': 7550,\n",
       " 'subreddit': 9150,\n",
       " 'ban': 1942,\n",
       " 'hailstorm': 4855,\n",
       " 'ig': 5262,\n",
       " '#abstorm': 4,\n",
       " '#yyc': 1315,\n",
       " '#hail': 476,\n",
       " '#hailstorm': 478,\n",
       " '#haildamag': 477,\n",
       " '#yycweath': 1319,\n",
       " '#calgari': 172,\n",
       " '#captureyyc': 180,\n",
       " '#alberta': 31,\n",
       " '#sto': 1081,\n",
       " 'lima': 6022,\n",
       " 'britney': 2355,\n",
       " 'spear': 8932,\n",
       " 'vega': 9972,\n",
       " 'wait': 10091,\n",
       " 'tonight': 9584,\n",
       " '#pieceofm': 874,\n",
       " 'bed': 2044,\n",
       " 'info': 5369,\n",
       " 'disco': 3523,\n",
       " 'best': 2103,\n",
       " 'song': 8877,\n",
       " 'gospel': 4694,\n",
       " 'acoust': 1409,\n",
       " 'portland': 7583,\n",
       " 'someth': 8869,\n",
       " 'mass': 6320,\n",
       " '#theatershoot': 1131,\n",
       " 'defend': 3356,\n",
       " 'murder': 6714,\n",
       " 'chose': 2779,\n",
       " 'testifi': 9425,\n",
       " 'phase': 7423,\n",
       " 'therefor': 9458,\n",
       " 'b': 1897,\n",
       " 'subject': 9146,\n",
       " 'juri': 5647,\n",
       " 'question': 7824,\n",
       " 'scream': 8450,\n",
       " 'brook': 2369,\n",
       " 'face': 4089,\n",
       " 'concert': 2993,\n",
       " 'straight': 9094,\n",
       " 'sunk': 9191,\n",
       " 'gaboron': 4504,\n",
       " 'botswana': 2267,\n",
       " 'yup': 10486,\n",
       " 'hazard': 4948,\n",
       " 'eversaf': 4016,\n",
       " 'emerg': 3867,\n",
       " 'auto': 1854,\n",
       " 'kit': 5773,\n",
       " 'unsaf': 9875,\n",
       " 'gridlock': 4759,\n",
       " 'siren': 8717,\n",
       " 'tampa': 9323,\n",
       " 'demo': 3384,\n",
       " 'voic': 10059,\n",
       " 'angel': 1625,\n",
       " 'call': 2511,\n",
       " 'beckon': 2042,\n",
       " 'void': 10060,\n",
       " 'aftershock': 1473,\n",
       " 'instagram': 5398,\n",
       " 'speak': 8930,\n",
       " 'someon': 8866,\n",
       " 'scuf': 8458,\n",
       " 'end': 3896,\n",
       " 'ps': 7741,\n",
       " 'irv': 5470,\n",
       " 'anti': 1652,\n",
       " 'rear': 7930,\n",
       " '#technolog': 1119,\n",
       " '#cool': 236,\n",
       " 'techesback': 9365,\n",
       " '#tech': 1118,\n",
       " 'pandemonium': 7252,\n",
       " 'proud': 7732,\n",
       " '#copalibertador': 238,\n",
       " 'argentinean': 1729,\n",
       " 'oklahoma': 7061,\n",
       " 'ok': 7053,\n",
       " 'evacu': 4003,\n",
       " 'downtown': 3640,\n",
       " 'hinton': 5049,\n",
       " 'research': 8066,\n",
       " 'collect': 2923,\n",
       " 'rule': 8287,\n",
       " 'divers': 3567,\n",
       " 'touch': 9610,\n",
       " 'anoth': 1646,\n",
       " 'jax': 5551,\n",
       " 'outlook': 7179,\n",
       " 'hwo': 5220,\n",
       " 'newport': 6838,\n",
       " 'big': 2131,\n",
       " 'pick': 7442,\n",
       " 'jacki': 5510,\n",
       " 'bristol': 2351,\n",
       " 'templ': 9393,\n",
       " 'messag': 6431,\n",
       " 'appreci': 1699,\n",
       " 'majesti': 6236,\n",
       " 'emperor': 3879,\n",
       " 'salman': 8342,\n",
       " 'unstopp': 9880,\n",
       " 'entertain': 3923,\n",
       " 'human': 5184,\n",
       " 'bajrangi': 1927,\n",
       " 'bhaijaan': 2122,\n",
       " 'everywher': 4024,\n",
       " 'crose': 3178,\n",
       " 'cr': 3127,\n",
       " 'armageddon': 1742,\n",
       " 'east': 3760,\n",
       " 'kilbrid': 5746,\n",
       " 'european': 4001,\n",
       " 'fitba': 4268,\n",
       " 'till': 9531,\n",
       " 'dog': 3597,\n",
       " 'surviv': 9233,\n",
       " 'ava': 1861,\n",
       " 'dream': 3660,\n",
       " 'saw': 8402,\n",
       " 'joy': 5621,\n",
       " 'brasil': 2308,\n",
       " 'sp': 8915,\n",
       " 'apollo': 1683,\n",
       " 'f': 4085,\n",
       " 'p': 7209,\n",
       " 'lubbock': 6161,\n",
       " 'weaken': 10164,\n",
       " 'move': 6676,\n",
       " 'se': 8462,\n",
       " 'toward': 9618,\n",
       " 'area': 1722,\n",
       " 'outflow': 7176,\n",
       " 'boundari': 2274,\n",
       " 'may': 6346,\n",
       " 'mph': 6682,\n",
       " 'gust': 4821,\n",
       " 'dmv': 3584,\n",
       " 'school': 8429,\n",
       " 'ksu': 5822,\n",
       " 'hit': 5059,\n",
       " 'foot': 4347,\n",
       " 'toe': 9567,\n",
       " 'blew': 2190,\n",
       " 'florida': 4318,\n",
       " 'iron': 5466,\n",
       " 'michel': 6465,\n",
       " 'bachmann': 1904,\n",
       " 'brought': 2373,\n",
       " 'ron': 8224,\n",
       " 'paul': 7320,\n",
       " 'everyon': 4021,\n",
       " 'hoax': 5069,\n",
       " 'calgari': 2504,\n",
       " 'alberta': 1530,\n",
       " 'readi': 7917,\n",
       " 'errrr': 3961,\n",
       " 'nope': 6908,\n",
       " '#notgoingoutinthat': 786,\n",
       " '#tampa': 1106,\n",
       " 'freestyl': 4428,\n",
       " 'amali': 1583,\n",
       " 'arena': 1723,\n",
       " 'sep': 8524,\n",
       " 'ticket': 9521,\n",
       " 'longest': 6113,\n",
       " 'streak': 9105,\n",
       " 'sinc': 8702,\n",
       " 'dalla': 3258,\n",
       " ...}"
      ]
     },
     "execution_count": 247,
     "metadata": {},
     "output_type": "execute_result"
    }
   ],
   "source": [
    "vectorizer = CountVectorizer(tokenizer=custom_tokenizer)\n",
    "\n",
    "X_train = vectorizer.fit_transform(train.data)\n",
    "X_test = vectorizer.transform(test.data)\n",
    "\n",
    "vectorizer.vocabulary_"
   ]
  },
  {
   "cell_type": "markdown",
   "metadata": {
    "id": "YcetwuEi5ds9"
   },
   "source": [
    "2. Обучите LogisticRegression на полученных признаках.\n"
   ]
  },
  {
   "cell_type": "code",
   "execution_count": 248,
   "metadata": {
    "id": "BVj03QV2QbWl"
   },
   "outputs": [],
   "source": [
    "from sklearn.linear_model import LogisticRegression\n",
    "\n",
    "cls_model = LogisticRegression()\n",
    "cls_model.fit(X_train, y_train)\n",
    "\n",
    "prediction = cls_model.predict(X_test)"
   ]
  },
  {
   "cell_type": "markdown",
   "metadata": {
    "id": "6Ch6uz2P5e-T"
   },
   "source": [
    "3. Посчитайте метрику f1-score на тестовых данных."
   ]
  },
  {
   "cell_type": "code",
   "execution_count": 249,
   "metadata": {
    "colab": {
     "base_uri": "https://localhost:8080/"
    },
    "id": "osyC0pdT3cSD",
    "outputId": "cd957d5f-5118-4b7f-d7ba-01bb5a524086"
   },
   "outputs": [
    {
     "name": "stdout",
     "output_type": "stream",
     "text": [
      "F1 Score: 0.7509413663259816\n"
     ]
    }
   ],
   "source": [
    "from sklearn.metrics import f1_score\n",
    "\n",
    "print(f'F1 Score: {f1_score(y_test, prediction)}')"
   ]
  },
  {
   "cell_type": "markdown",
   "metadata": {
    "id": "aFIEYOMZ3HvN"
   },
   "source": [
    "## Задание 9 (1 балл)\n",
    "\n",
    "1. Повторите 8 задание, но с tf-idf векторизатором. Как изменилось качество?\n"
   ]
  },
  {
   "cell_type": "code",
   "execution_count": 250,
   "metadata": {
    "colab": {
     "base_uri": "https://localhost:8080/"
    },
    "id": "cDqs61hl3ve3",
    "outputId": "fdd72125-dfde-4183-d614-3b0bc9002ada"
   },
   "outputs": [
    {
     "name": "stdout",
     "output_type": "stream",
     "text": [
      "F1 Score: 0.7405345211581291\n"
     ]
    }
   ],
   "source": [
    "from sklearn.feature_extraction.text import TfidfVectorizer\n",
    "\n",
    "tfidf_vec = TfidfVectorizer(tokenizer=custom_tokenizer) # default:  max_df=1\n",
    "\n",
    "X_train = tfidf_vec.fit_transform(train.data)\n",
    "X_test = tfidf_vec.transform(test.data)\n",
    "\n",
    "cls_model = LogisticRegression()\n",
    "cls_model.fit(X_train, y_train)\n",
    "prediction = cls_model.predict(X_test)\n",
    "\n",
    "print(f'F1 Score: {f1_score(y_test, prediction)}')"
   ]
  },
  {
   "cell_type": "markdown",
   "metadata": {
    "id": "SXaNclTZSFjO"
   },
   "source": [
    "1. **Ответ:** До этого качество было немного лучше. Сейчас попробуем выкрутить max_df, возможно это исправит ситуацию."
   ]
  },
  {
   "cell_type": "markdown",
   "metadata": {
    "id": "CPtk0lCA5POY"
   },
   "source": [
    "2. Мы можем еще сильнее уменьшить размер нашей матрицы, если отбросим значения df близкие к единице. Скорее всего такие слова не несут много информации о категории, так как встречаются достаточно часто. Ограничьте максимальный df в параметрах TfIdfVectorizer, поставьте верхнюю границу равную 0.9. Как изменился размер матрицы, как изменилось качество?\n"
   ]
  },
  {
   "cell_type": "code",
   "execution_count": 251,
   "metadata": {
    "colab": {
     "base_uri": "https://localhost:8080/"
    },
    "id": "EU-MRXyRSHLm",
    "outputId": "6b5353a8-5f3b-4220-fcd4-64eecfe20054"
   },
   "outputs": [
    {
     "name": "stdout",
     "output_type": "stream",
     "text": [
      "F1 Score: 0.7405345211581291\n"
     ]
    }
   ],
   "source": [
    "max_tfidf = TfidfVectorizer(tokenizer=custom_tokenizer, max_df=0.9)\n",
    "\n",
    "X_train = max_tfidf.fit_transform(train.data)\n",
    "X_test = max_tfidf.transform(test.data)\n",
    "\n",
    "cls_model = LogisticRegression()\n",
    "cls_model.fit(X_train, y_train)\n",
    "prediction = cls_model.predict(X_test)\n",
    "\n",
    "print(f'F1 Score: {f1_score(y_test, prediction)}')"
   ]
  },
  {
   "cell_type": "markdown",
   "metadata": {
    "id": "4Two_O3rSVmh"
   },
   "source": [
    "2. **Ответ:** Странно, абсолютно та же самая величина"
   ]
  },
  {
   "cell_type": "markdown",
   "metadata": {
    "id": "VhyjbI5X5QnG"
   },
   "source": [
    "3. Также мы можем уменьшить размер матрицы, удаляя слова со слишком маленьким df. Удалось ли добиться улучшения качества? "
   ]
  },
  {
   "cell_type": "code",
   "execution_count": 252,
   "metadata": {
    "colab": {
     "base_uri": "https://localhost:8080/"
    },
    "id": "9mNpIxv6SfKc",
    "outputId": "607ec22e-1fdb-4c29-bbc4-6447ed266349"
   },
   "outputs": [
    {
     "name": "stdout",
     "output_type": "stream",
     "text": [
      "F1 Score: 0.0\n"
     ]
    }
   ],
   "source": [
    "cut_tfidf = TfidfVectorizer(tokenizer=custom_tokenizer, \n",
    "                            min_df=0.05, max_df=0.9)\n",
    "\n",
    "X_train = cut_tfidf.fit_transform(train.data)\n",
    "X_test = cut_tfidf.transform(test.data)\n",
    "\n",
    "cls_model = LogisticRegression()\n",
    "cls_model.fit(X_train, y_train)\n",
    "prediction = cls_model.predict(X_test)\n",
    "\n",
    "print(f'F1 Score: {f1_score(y_test, prediction)}')"
   ]
  },
  {
   "cell_type": "markdown",
   "metadata": {
    "id": "imeD8skxSqdg"
   },
   "source": [
    "3. **Ответ:** АХАХАХХАХАХАХХАХАХАХАХАХХАХАХАХАХАХХХАХАХАХАХ. Кхм. А если уменьшить min_df до 0.01, то качество немного возрастёт, но всё равно не будет лучшим? Да (проверил). Тогда уменьшим ещё сильнее."
   ]
  },
  {
   "cell_type": "code",
   "execution_count": 253,
   "metadata": {},
   "outputs": [
    {
     "name": "stdout",
     "output_type": "stream",
     "text": [
      "F1 Score: 0.7405345211581291\n"
     ]
    }
   ],
   "source": [
    "cut_tfidf = TfidfVectorizer(tokenizer=custom_tokenizer, \n",
    "                            min_df=0.000000000000001, max_df=0.9)\n",
    "\n",
    "X_train = cut_tfidf.fit_transform(train.data)\n",
    "X_test = cut_tfidf.transform(test.data)\n",
    "\n",
    "cls_model = LogisticRegression()\n",
    "cls_model.fit(X_train, y_train)\n",
    "prediction = cls_model.predict(X_test)\n",
    "\n",
    "print(f'F1 Score: {f1_score(y_test, prediction)}')"
   ]
  },
  {
   "cell_type": "code",
   "execution_count": 254,
   "metadata": {},
   "outputs": [
    {
     "name": "stdout",
     "output_type": "stream",
     "text": [
      "F1 Score: 0.7405345211581291\n"
     ]
    }
   ],
   "source": [
    "default_min_tfidf = TfidfVectorizer(tokenizer=custom_tokenizer, \n",
    "                            min_df=1, max_df=0.9)\n",
    "\n",
    "X_train = default_min_tfidf.fit_transform(train.data)\n",
    "X_test = default_min_tfidf.transform(test.data)\n",
    "\n",
    "cls_model = LogisticRegression()\n",
    "cls_model.fit(X_train, y_train)\n",
    "prediction = cls_model.predict(X_test)\n",
    "\n",
    "print(f'F1 Score: {f1_score(y_test, prediction)}')"
   ]
  },
  {
   "cell_type": "markdown",
   "metadata": {},
   "source": [
    "Покрутив min_df заметил закономерность: чем меньше данная величина, тем больше приближаемся к тому качеству, когда минимальное ограничение было дефолтным."
   ]
  },
  {
   "cell_type": "markdown",
   "metadata": {
    "id": "1l1sx4nB3HvN"
   },
   "source": [
    "## Задание 10 (1 балл)\n",
    "\n",
    "Еще один популяпный трюк, который позволит уменьшить количество признаков называется hashing trick. Его суть в том, то мы случайно группируем признаки ииии  ..... складываем их! А потом удаляем исходные признаки. В итоге все наши признаки это просто суммы исходных. Звучит странно, но это отлично работает. Давайте проверим этот трюк в нашем сеттинге.\n",
    "Также при таком подходе вам не нужно хранить словарь token->index, что тоже иногда полезно.\n",
    "\n",
    "1. Повторите задание 8 с HashingVectorizer, укажите количество фичей равное 5000.\n"
   ]
  },
  {
   "cell_type": "code",
   "execution_count": 255,
   "metadata": {
    "colab": {
     "base_uri": "https://localhost:8080/"
    },
    "id": "8qSoW894RXxz",
    "outputId": "720818f4-f774-4273-bb10-918ecc72ef44"
   },
   "outputs": [
    {
     "name": "stdout",
     "output_type": "stream",
     "text": [
      "F1 Score: 0.720489977728285\n"
     ]
    }
   ],
   "source": [
    "from sklearn.feature_extraction.text import HashingVectorizer\n",
    "\n",
    "hash_vec = HashingVectorizer(tokenizer=custom_tokenizer, n_features=5000)\n",
    "\n",
    "X_train = hash_vec.fit_transform(train.data)\n",
    "X_test = hash_vec.transform(test.data)\n",
    "\n",
    "cls_model = LogisticRegression()\n",
    "cls_model.fit(X_train, y_train)\n",
    "prediction = cls_model.predict(X_test)\n",
    "\n",
    "print(f'F1 Score: {f1_score(y_test, prediction)}')"
   ]
  },
  {
   "cell_type": "markdown",
   "metadata": {
    "id": "1C3I4ceg6AG-"
   },
   "source": [
    "2. Какой из подходов показал самый высокий результат?"
   ]
  },
  {
   "cell_type": "markdown",
   "metadata": {
    "id": "_bIfyVlOS9Lu"
   },
   "source": [
    "2. **Ответ:** Cамой лучшей моделью оказалась реализация с CountVectorizer в основе. Последняя модель с HashingVectorizer показала результат лучше, чем почти все эксперименты с TfidfVectorizer, но она явно не дотягивала до F1 с CountVectorizer."
   ]
  },
  {
   "cell_type": "markdown",
   "metadata": {
    "id": "zylJ6l0R3HvN"
   },
   "source": [
    "## Задание 11 (1 балл)\n",
    "\n",
    "В этом задании нужно добиться f1 меры хотя бы в 0.75 на тестовых данных."
   ]
  },
  {
   "cell_type": "markdown",
   "metadata": {},
   "source": [
    "Попробую предварительно отскалировать данные"
   ]
  },
  {
   "cell_type": "code",
   "execution_count": 256,
   "metadata": {
    "id": "GSTVApFeS-OY"
   },
   "outputs": [
    {
     "name": "stdout",
     "output_type": "stream",
     "text": [
      "F1 Score: 0.7429205996668518\n"
     ]
    }
   ],
   "source": [
    "from sklearn.preprocessing import MaxAbsScaler\n",
    "\n",
    "vec_2 = CountVectorizer(tokenizer=custom_tokenizer)\n",
    "X_train = vec_2.fit_transform(train.data)\n",
    "X_test = vec_2.transform(test.data)\n",
    "\n",
    "scal = MaxAbsScaler()\n",
    "X_train = scal.fit_transform(X_train)\n",
    "X_test = scal.transform(X_test)\n",
    "\n",
    "cls_model = LogisticRegression()\n",
    "cls_model.fit(X_train, y_train)\n",
    "prediction = cls_model.predict(X_test)\n",
    "\n",
    "print(f'F1 Score: {f1_score(y_test, prediction)}')"
   ]
  },
  {
   "cell_type": "markdown",
   "metadata": {},
   "source": [
    "Что будет, если поиграть с n-граммами как в семинарском ноутбуке"
   ]
  },
  {
   "cell_type": "code",
   "execution_count": 257,
   "metadata": {},
   "outputs": [
    {
     "name": "stdout",
     "output_type": "stream",
     "text": [
      "F1 Score: 0.7435622317596566\n"
     ]
    }
   ],
   "source": [
    "vec_3 = CountVectorizer(tokenizer=custom_tokenizer, \n",
    "                        min_df=5 * 1e-4,\n",
    "                        ngram_range=(1, 3))\n",
    "\n",
    "X_train = vec_3.fit_transform(train.data)\n",
    "X_test = vec_3.transform(test.data)\n",
    "\n",
    "cls_model = LogisticRegression(max_iter=200)\n",
    "cls_model.fit(X_train, y_train)\n",
    "prediction = cls_model.predict(X_test)\n",
    "\n",
    "print(f'F1 Score: {f1_score(y_test, prediction)}')"
   ]
  },
  {
   "cell_type": "markdown",
   "metadata": {},
   "source": [
    "А если без них?"
   ]
  },
  {
   "cell_type": "code",
   "execution_count": 260,
   "metadata": {},
   "outputs": [
    {
     "name": "stdout",
     "output_type": "stream",
     "text": [
      "F1 Score: 0.7546766435061466\n"
     ]
    }
   ],
   "source": [
    "vec_4 = CountVectorizer(tokenizer=custom_tokenizer, \n",
    "                        min_df=5 * 1e-4)\n",
    "\n",
    "X_train = vec_4.fit_transform(train.data)\n",
    "X_test = vec_4.transform(test.data)\n",
    "\n",
    "cls_model = LogisticRegression()\n",
    "cls_model.fit(X_train, y_train)\n",
    "prediction = cls_model.predict(X_test)\n",
    "\n",
    "print(f'F1 Score: {f1_score(y_test, prediction)}')"
   ]
  },
  {
   "cell_type": "markdown",
   "metadata": {},
   "source": [
    "DONE."
   ]
  }
 ],
 "metadata": {
  "colab": {
   "collapsed_sections": [
    "YlLemInT3HvL",
    "A8CPBUal3HvL"
   ],
   "provenance": []
  },
  "kernelspec": {
   "display_name": "Python 3 (ipykernel)",
   "language": "python",
   "name": "python3"
  },
  "language_info": {
   "codemirror_mode": {
    "name": "ipython",
    "version": 3
   },
   "file_extension": ".py",
   "mimetype": "text/x-python",
   "name": "python",
   "nbconvert_exporter": "python",
   "pygments_lexer": "ipython3",
   "version": "3.11.1"
  }
 },
 "nbformat": 4,
 "nbformat_minor": 1
}
